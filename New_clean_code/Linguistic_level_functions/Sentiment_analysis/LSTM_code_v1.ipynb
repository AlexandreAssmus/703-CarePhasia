{
  "nbformat": 4,
  "nbformat_minor": 0,
  "metadata": {
    "colab": {
      "provenance": []
    },
    "kernelspec": {
      "name": "python3",
      "display_name": "Python 3"
    },
    "language_info": {
      "name": "python"
    }
  },
  "cells": [
    {
      "cell_type": "code",
      "source": [
        "from google.colab import files"
      ],
      "metadata": {
        "id": "pmshiijttrVw"
      },
      "execution_count": 37,
      "outputs": []
    },
    {
      "cell_type": "code",
      "source": [
        "from google.colab import drive\n",
        "drive.mount('/content/drive')"
      ],
      "metadata": {
        "colab": {
          "base_uri": "https://localhost:8080/"
        },
        "id": "klxSwkvqtxcU",
        "outputId": "7e240f90-eefb-4539-f705-13c6e0b895ce"
      },
      "execution_count": 38,
      "outputs": [
        {
          "output_type": "stream",
          "name": "stdout",
          "text": [
            "Drive already mounted at /content/drive; to attempt to forcibly remount, call drive.mount(\"/content/drive\", force_remount=True).\n"
          ]
        }
      ]
    },
    {
      "cell_type": "code",
      "execution_count": 3,
      "metadata": {
        "colab": {
          "base_uri": "https://localhost:8080/"
        },
        "id": "TWj7ydaZrGp1",
        "outputId": "70c77a88-52a0-4b1c-a753-48ac874fb2f6"
      },
      "outputs": [
        {
          "output_type": "stream",
          "name": "stdout",
          "text": [
            "/content/drive/MyDrive/703_Project/LSTM\n"
          ]
        }
      ],
      "source": [
        "%cd /content/drive/MyDrive/703_Project/LSTM/"
      ]
    },
    {
      "cell_type": "markdown",
      "source": [
        "\n",
        "DISCLAIMER:\n",
        "\n",
        "To use the embeddings download the file 'glove.6B.100d.txt'\n",
        "Link:  https://www.kaggle.com/datasets/anindya2906/glove6b?select=glove.6B.100d.txt\n",
        "\n",
        "\n"
      ],
      "metadata": {
        "id": "EbGdpMg1fcm7"
      }
    },
    {
      "cell_type": "markdown",
      "source": [
        "**Libraries importation**"
      ],
      "metadata": {
        "id": "rYslxR_7NPQC"
      }
    },
    {
      "cell_type": "code",
      "source": [
        "import os\n",
        "import pandas as pd\n",
        "import re\n",
        "import numpy as np\n",
        "import matplotlib.pyplot as plt\n",
        "import scipy.stats as stats\n",
        "from textblob import TextBlob\n",
        "from sklearn.model_selection import train_test_split\n",
        "from sklearn.metrics import mean_squared_error, mean_absolute_error\n",
        "from keras.preprocessing.text import Tokenizer\n",
        "from keras.preprocessing.sequence import pad_sequences\n",
        "from keras.layers import Embedding\n",
        "from keras.initializers import Constant\n",
        "from keras.models import Sequential\n",
        "from keras.layers import LSTM, Dense, Dropout\n",
        "from keras.losses import mean_squared_error\n",
        "from sklearn.model_selection import KFold\n",
        "\n"
      ],
      "metadata": {
        "id": "rQum3jsn0Bwo"
      },
      "execution_count": 39,
      "outputs": []
    },
    {
      "cell_type": "code",
      "source": [
        "!pip install codecarbon"
      ],
      "metadata": {
        "colab": {
          "base_uri": "https://localhost:8080/"
        },
        "id": "3yDCpp2_7he6",
        "outputId": "c43e9f80-6f38-4187-a223-c7b471a83c8a"
      },
      "execution_count": 30,
      "outputs": [
        {
          "output_type": "stream",
          "name": "stdout",
          "text": [
            "Requirement already satisfied: codecarbon in /usr/local/lib/python3.10/dist-packages (2.3.2)\n",
            "Requirement already satisfied: arrow in /usr/local/lib/python3.10/dist-packages (from codecarbon) (1.3.0)\n",
            "Requirement already satisfied: pandas in /usr/local/lib/python3.10/dist-packages (from codecarbon) (1.5.3)\n",
            "Requirement already satisfied: pynvml in /usr/local/lib/python3.10/dist-packages (from codecarbon) (11.5.0)\n",
            "Requirement already satisfied: requests in /usr/local/lib/python3.10/dist-packages (from codecarbon) (2.31.0)\n",
            "Requirement already satisfied: psutil in /usr/local/lib/python3.10/dist-packages (from codecarbon) (5.9.5)\n",
            "Requirement already satisfied: py-cpuinfo in /usr/local/lib/python3.10/dist-packages (from codecarbon) (9.0.0)\n",
            "Requirement already satisfied: fuzzywuzzy in /usr/local/lib/python3.10/dist-packages (from codecarbon) (0.18.0)\n",
            "Requirement already satisfied: click in /usr/local/lib/python3.10/dist-packages (from codecarbon) (8.1.7)\n",
            "Requirement already satisfied: prometheus-client in /usr/local/lib/python3.10/dist-packages (from codecarbon) (0.19.0)\n",
            "Requirement already satisfied: python-dateutil>=2.7.0 in /usr/local/lib/python3.10/dist-packages (from arrow->codecarbon) (2.8.2)\n",
            "Requirement already satisfied: types-python-dateutil>=2.8.10 in /usr/local/lib/python3.10/dist-packages (from arrow->codecarbon) (2.8.19.20240106)\n",
            "Requirement already satisfied: pytz>=2020.1 in /usr/local/lib/python3.10/dist-packages (from pandas->codecarbon) (2023.3.post1)\n",
            "Requirement already satisfied: numpy>=1.21.0 in /usr/local/lib/python3.10/dist-packages (from pandas->codecarbon) (1.23.5)\n",
            "Requirement already satisfied: charset-normalizer<4,>=2 in /usr/local/lib/python3.10/dist-packages (from requests->codecarbon) (3.3.2)\n",
            "Requirement already satisfied: idna<4,>=2.5 in /usr/local/lib/python3.10/dist-packages (from requests->codecarbon) (3.6)\n",
            "Requirement already satisfied: urllib3<3,>=1.21.1 in /usr/local/lib/python3.10/dist-packages (from requests->codecarbon) (2.0.7)\n",
            "Requirement already satisfied: certifi>=2017.4.17 in /usr/local/lib/python3.10/dist-packages (from requests->codecarbon) (2023.11.17)\n",
            "Requirement already satisfied: six>=1.5 in /usr/local/lib/python3.10/dist-packages (from python-dateutil>=2.7.0->arrow->codecarbon) (1.16.0)\n"
          ]
        }
      ]
    },
    {
      "cell_type": "markdown",
      "source": [
        "**Create combined csv files**\n",
        "\n",
        "\n",
        "\n"
      ],
      "metadata": {
        "id": "n8lPKfzW72qN"
      }
    },
    {
      "cell_type": "code",
      "source": [
        "\"\"\"\n",
        "def process_folder(main_folder_path, group_label):\n",
        "   Processes all CSV files in a folder and returns a merged DataFrame.\n",
        "    frames = []  # List to store the DataFrames of each file\n",
        "    for subdir, dirs, files in os.walk(main_folder_path):\n",
        "      for filename in files:\n",
        "        if filename.endswith('.csv'):\n",
        "            file_path = os.path.join(subdir, filename)\n",
        "            df = pd.read_csv(file_path)\n",
        "            df['conversation_id'] = filename.split('.')[0]  # Use file name as ID\n",
        "            df['group'] = group_label\n",
        "            df = df[['text', 'conversation_id', 'group']]\n",
        "            frames.append(df)\n",
        "    return pd.concat(frames)\n",
        "\n",
        "# Folder paths for control and patient CSV files\n",
        "control_main_folder_path = \"Control_csv_data_clean\"\n",
        "patient_main_folder_path = \"Patient_csv_data_clean\"\n",
        "\n",
        "# Processing files and merging DataFrames\n",
        "control_df = process_folder(control_main_folder_path, 'control')\n",
        "patient_df = process_folder(patient_main_folder_path, 'patient')\n",
        "combined_df = pd.concat([control_df, patient_df])\n",
        "\n",
        "# Saving the merged DataFrame to a new CSV file\n",
        "combined_df.to_csv('combined_control_patient_data.csv', index=False)\n",
        "\"\"\""
      ],
      "metadata": {
        "id": "GdcWELd1QSig"
      },
      "execution_count": null,
      "outputs": []
    },
    {
      "cell_type": "markdown",
      "source": [
        "**Step 1 : Data preprocessing and split**"
      ],
      "metadata": {
        "id": "W2i8xVdkNcC7"
      }
    },
    {
      "cell_type": "code",
      "source": [
        "# load the data\n",
        "data = pd.read_csv('combined_control_patient_data.csv')\n",
        "data_df = pd.DataFrame(data) # DataFrame"
      ],
      "metadata": {
        "id": "-v_lzovDQd2n"
      },
      "execution_count": 40,
      "outputs": []
    },
    {
      "cell_type": "code",
      "source": [
        "# Calculer le nombre total de conversations\n",
        "total_conversations = data_df['conversation_id'].nunique()\n",
        "\n",
        "# Calculer le nombre de conversations pour chaque groupe\n",
        "control_conversations = data_df[data_df['group'] == 'control']['conversation_id'].nunique()\n",
        "patient_conversations = data_df[data_df['group'] == 'patient']['conversation_id'].nunique()\n",
        "\n",
        "print(f\"Nombre total de conversations : {total_conversations}\")\n",
        "print(f\"Nombre de conversations du groupe 'control' : {control_conversations}\")\n",
        "print(f\"Nombre de conversations du groupe 'patient' : {patient_conversations}\")"
      ],
      "metadata": {
        "colab": {
          "base_uri": "https://localhost:8080/"
        },
        "id": "0xBhn36NAmct",
        "outputId": "b0effa6d-5ac7-49ad-ee0d-4e5557a5c24e"
      },
      "execution_count": 104,
      "outputs": [
        {
          "output_type": "stream",
          "name": "stdout",
          "text": [
            "Nombre total de conversations : 447\n",
            "Nombre de conversations du groupe 'control' : 158\n",
            "Nombre de conversations du groupe 'patient' : 289\n"
          ]
        }
      ]
    },
    {
      "cell_type": "code",
      "source": [
        "# Text data cleaning function\n",
        "def clean_text(text):\n",
        "    text = text.lower()\n",
        "    text = re.sub(r\"[^a-zA-Z0-9']\", \" \", text) # Remove non-alphanumeric characters\n",
        "    text = re.sub(r\"\\s+\", \" \", text)  # Remove extra white spaces\n",
        "    return text\n",
        "\n",
        "# Text cleaning\n",
        "data_df['text'] = data_df['text'].apply(clean_text)"
      ],
      "metadata": {
        "id": "Rhe0d-clRSOT"
      },
      "execution_count": 41,
      "outputs": []
    },
    {
      "cell_type": "code",
      "source": [
        "# Function to calculate sentiment score\n",
        "def sentiment_score(text):\n",
        "    analysis = TextBlob(text) # Creating a TextBlob object from the given text\n",
        "    return analysis.sentiment.polarity  # Returns the sentiment polarity calculated by TextBlob, he polarity is a floating-point score ranging from -1 (negative) to 1 (positive)\n",
        "\n",
        "# Apply the sentiment score calculation function to each text in the 'text' column of the DataFrame\n",
        "#The result is stored in a new column 'sentiment' in the DataFrame\n",
        "data_df['sentiment'] = data_df['text'].apply(sentiment_score)"
      ],
      "metadata": {
        "id": "Had-inrOSOY4"
      },
      "execution_count": 42,
      "outputs": []
    },
    {
      "cell_type": "code",
      "source": [
        "# Grouping data by conversation_id\n",
        "conversation_ids = data['conversation_id'].unique() # Extract unique conversation IDs from the data\n",
        "np.random.shuffle(conversation_ids) # Shuffle the conversation IDs for randomness\n",
        "\n",
        "# Splitting conversation IDs for training, validation, and testing\n",
        "train_size = int(0.8 * len(conversation_ids)) # 80 % of data for training\n",
        "#val_size = int(0.1 * len(conversation_ids)) # 10% of data for validation\n",
        "test_size = int(0.2 * len(conversation_ids))  # 20% of data for testing\n",
        "\n",
        "# Assigning conversation IDs to each dataset\n",
        "train_ids = conversation_ids[:train_size] # IDs for training set\n",
        "#val_ids = conversation_ids[train_size:train_size + val_size] #IDs for validation set\n",
        "test_ids = conversation_ids[train_size:] #IDS for test set\n",
        "\n",
        "# Selecting the training, validation, and test sets based on conversation IDs\n",
        "train_df = data[data['conversation_id'].isin(train_ids)] # Training data frame\n",
        "#val_df = data[data['conversation_id'].isin(val_ids)] # Validation data frame\n",
        "test_df = data[data['conversation_id'].isin(test_ids)] #test data frame\n"
      ],
      "metadata": {
        "id": "Z8hAgMzdVblA"
      },
      "execution_count": 43,
      "outputs": []
    },
    {
      "cell_type": "code",
      "source": [
        "# Tokenization and Padding\n",
        "tokenizer = Tokenizer(num_words=12385) # Initialize tokenizer with a maximum number of words\n",
        "tokenizer.fit_on_texts(data['text']) # Fit tokenizer on the text data\n",
        "\n",
        "# Function to tokenize and pad a DataFrame\n",
        "max_seq_length = 15 # Setting the maximum sequence length for padding\n",
        "def prepare_data(df):\n",
        "    sequences = tokenizer.texts_to_sequences(df['text']) # Tokenize the text\n",
        "    return pad_sequences(sequences, maxlen=max_seq_length) # Return padded sequences\n"
      ],
      "metadata": {
        "id": "YFdGTPsyVh_H"
      },
      "execution_count": 44,
      "outputs": []
    },
    {
      "cell_type": "markdown",
      "source": [
        "**How to get num_words and max_seq_length**"
      ],
      "metadata": {
        "id": "9g4jH7pLWt1U"
      }
    },
    {
      "cell_type": "code",
      "source": [
        "# Initializing a tokenizer without limiting the number of words\n",
        "tokenizer = Tokenizer() # Create a new Tokenizer instance\n",
        "tokenizer.fit_on_texts(data_df['text']) # Fit the tokenizer on the text data\n",
        "\n",
        "# Calculating the total number of unique words in the dataset\n",
        "word_count = len(tokenizer.word_index)  # Get the length of the word_index\n",
        "print(f\"Total number of unique words in the dataset : {word_count}\") # Print the total number of unique words\n",
        "\n",
        "text_lengths = [len(text.split()) for text in data_df['text']]\n",
        "print(f\"Mean: {np.mean(text_lengths)}\")\n",
        "print(f\"Median: {np.median(text_lengths)}\")\n",
        "print(f\"Percentile 90: {np.percentile(text_lengths, 90)}\")"
      ],
      "metadata": {
        "colab": {
          "base_uri": "https://localhost:8080/"
        },
        "id": "w1cbSLAFWr4p",
        "outputId": "38fba3d4-ac81-411d-85f9-552c29b79729"
      },
      "execution_count": 45,
      "outputs": [
        {
          "output_type": "stream",
          "name": "stdout",
          "text": [
            "Total number of unique words in the dataset : 12385\n",
            "Mean: 7.460360360360361\n",
            "Median: 6.0\n",
            "Percentile 90: 15.0\n"
          ]
        }
      ]
    },
    {
      "cell_type": "markdown",
      "source": [
        "**Step 2 : Word Embeddings preparation**"
      ],
      "metadata": {
        "id": "HSwHY2FBW5Lq"
      }
    },
    {
      "cell_type": "code",
      "source": [
        "# Loading GloVe embeddings\n",
        "EMBEDDING_DIM = 100  # for GloVe 6B with 100-dimensional vectors\n",
        "embedding_index = {}\n",
        "with open('glove.6B.100d.txt', 'r', encoding='utf-8') as f:\n",
        "    for line in f:\n",
        "        values = line.split()\n",
        "        word = values[0]\n",
        "        coefs = np.asarray(values[1:], dtype='float32')\n",
        "        embedding_index[word] = coefs\n",
        "\n",
        "# Preparing the embedding matrix\n",
        "embedding_matrix = np.zeros((len(tokenizer.word_index) + 1, EMBEDDING_DIM))\n",
        "for word, i in tokenizer.word_index.items():\n",
        "    embedding_vector = embedding_index.get(word)\n",
        "    if embedding_vector is not None:\n",
        "        embedding_matrix[i] = embedding_vector\n",
        "\n",
        "# Creating the embedding layer using the embedding matrix\n",
        "embedding_layer = Embedding(len(tokenizer.word_index) + 1,\n",
        "                            EMBEDDING_DIM,\n",
        "                            embeddings_initializer=Constant(embedding_matrix),\n",
        "                            input_length=max_seq_length,\n",
        "                            trainable=False)"
      ],
      "metadata": {
        "id": "86i2eLHHXAIc"
      },
      "execution_count": 102,
      "outputs": []
    },
    {
      "cell_type": "code",
      "source": [
        "# control the embedding matrix\n",
        "print(\"Embeddingx matrix dimension :\", embedding_matrix.shape)"
      ],
      "metadata": {
        "colab": {
          "base_uri": "https://localhost:8080/"
        },
        "id": "ztH2KrSGfqYA",
        "outputId": "e32db62a-d799-4da5-a924-154b6feab69b"
      },
      "execution_count": 47,
      "outputs": [
        {
          "output_type": "stream",
          "name": "stdout",
          "text": [
            "Embeddingx matrix dimension : (12386, 100)\n"
          ]
        }
      ]
    },
    {
      "cell_type": "markdown",
      "source": [
        "**Coverage Verification**"
      ],
      "metadata": {
        "id": "hUwR50Xyfzlw"
      }
    },
    {
      "cell_type": "code",
      "source": [
        "# Calculating the percentage of words in the tokenizer that are covered by GloVe embeddings\n",
        "total_words = len(tokenizer.word_index) # Get the total number of unique words in the tokenizer\n",
        "words_in_glove = sum(1 for word in tokenizer.word_index if word in embedding_index) # Count how many of these words are present in the GloVe embeddings\n",
        "coverage_percentage = (words_in_glove / total_words) * 100 # Calculate the coverage percentage: the ratio of words in GloVe to the total words in the tokenizer\n",
        "print(f\"Percentage of tokenizer words covered by GloVe : {coverage_percentage}%\")\n",
        "# 89 % --> good coverage"
      ],
      "metadata": {
        "colab": {
          "base_uri": "https://localhost:8080/"
        },
        "id": "l89-Ar3Of5Aa",
        "outputId": "bf9af2db-5740-4917-9c2a-f9462ea02040"
      },
      "execution_count": 48,
      "outputs": [
        {
          "output_type": "stream",
          "name": "stdout",
          "text": [
            "Percentage of tokenizer words covered by GloVe : 89.01897456600727%\n"
          ]
        }
      ]
    },
    {
      "cell_type": "markdown",
      "source": [
        "**Step 3 : LSTM implementation, training and Cross-Validation Methodology**"
      ],
      "metadata": {
        "id": "pkhUf4DRkR3g"
      }
    },
    {
      "cell_type": "code",
      "source": [
        "from codecarbon import track_emissions\n",
        "\n",
        "# Initialize fold number and number of folds for cross-validation\n",
        "#@track_emissions() # track the carbon footprint\n",
        "#def train_evaluate_model():\n",
        "fold_no = 1\n",
        "num_folds = 5\n",
        "kfold = KFold(n_splits=num_folds, shuffle=True) # Create KFold object with 3 splits and shuffling\n",
        "  # Initialize early stopping callback\n",
        "  #early_stopping = EarlyStopping(monitor='val_loss', patience=10)\n",
        "  # Loop through each fold for cross-validation\n",
        "for fold_no, (train_indices, test_indices) in enumerate(kfold.split(conversation_ids), start=1): # Extract train and test IDs for the current fold\n",
        "      # creating an LSTM model and reinitialize it for each fold\n",
        "      model = Sequential() # Initialize a sequential model\n",
        "      model.add(embedding_layer)  # Use the previously prepared embedding layer\n",
        "      model.add(LSTM(64, return_sequences=True))  # First LSTM layer with fewer units and return sequences\n",
        "      model.add(LSTM(128, return_sequences=False))  # return_sequences=False for the last LSTM layer, interested in a single output (overall sentiment score)\n",
        "      model.add(Dropout(0.5)) # Add a Dropout layer to prevent overfitting\n",
        "      model.add(Dense(1, activation='tanh'))  # Sentiment score between -1 and 1\n",
        "      model.compile(optimizer='adam', loss='mean_squared_error') # adam is a popular choice and the loss function is mean squared error, typical for regression problems\n",
        "\n",
        "      # Extract train and test IDs for the current fold\n",
        "      train_ids = conversation_ids[train_indices]\n",
        "      test_ids = conversation_ids[test_indices]\n",
        "      #val_ids = conversation_ids[val]\n",
        "\n",
        "      # Select train and test DataFrame based on the conversation IDs\n",
        "      train_df = data[data['conversation_id'].isin(train_ids)]\n",
        "      test_df = data[data['conversation_id'].isin(test_ids)]\n",
        "      #val_df = data[data['conversation_id'].isin(val_ids)]\n",
        "\n",
        "      # Prepare data for training and testing\n",
        "      X_train_padded = prepare_data(train_df)\n",
        "      y_train = train_df['sentiment'].values\n",
        "\n",
        "      X_test_padded = prepare_data(test_df)\n",
        "      y_test = test_df['sentiment'].values\n",
        "\n",
        "      #X_val_padded = prepare_data(val_df)\n",
        "      #y_val = val_df['sentiment'].values\n",
        "\n",
        "      # Model training for the current fold\n",
        "      print(f'Training for fold {fold_no} ...')\n",
        "      model.fit(X_train_padded, y_train, epochs=5, batch_size=64)\n",
        "\n",
        "      # Model Evaluation on the test set\n",
        "      test_loss = model.evaluate(X_test_padded, y_test)\n",
        "      print(f'Loss on the test set for the fold {fold_no}: {test_loss}')\n",
        "\n",
        "      # Increment the fold number\n",
        "      fold_no = fold_no + 1\n",
        "\n",
        "    # Return the necessary variables at the end of the function\n",
        "  #return model, X_train_padded, y_train, X_test_padded, y_test, train_ids, test_ids\n",
        "\n",
        "#train_evaluate_model() # return informations about carbon footprint\n",
        "\n"
      ],
      "metadata": {
        "colab": {
          "base_uri": "https://localhost:8080/"
        },
        "id": "bubBka0wskkj",
        "outputId": "b4d7c991-b279-4133-a934-4b941c27f563"
      },
      "execution_count": 83,
      "outputs": [
        {
          "output_type": "stream",
          "name": "stdout",
          "text": [
            "Training for fold 1 ...\n",
            "Epoch 1/5\n",
            "998/998 [==============================] - 37s 35ms/step - loss: 0.0262\n",
            "Epoch 2/5\n",
            "998/998 [==============================] - 35s 36ms/step - loss: 0.0154\n",
            "Epoch 3/5\n",
            "998/998 [==============================] - 35s 35ms/step - loss: 0.0111\n",
            "Epoch 4/5\n",
            "998/998 [==============================] - 34s 35ms/step - loss: 0.0088\n",
            "Epoch 5/5\n",
            "998/998 [==============================] - 34s 34ms/step - loss: 0.0074\n",
            "468/468 [==============================] - 4s 7ms/step - loss: 0.0080\n",
            "Perte sur l'ensemble de test pour le fold 1: 0.008031357079744339\n",
            "Training for fold 2 ...\n",
            "Epoch 1/5\n",
            "999/999 [==============================] - 36s 34ms/step - loss: 0.0263\n",
            "Epoch 2/5\n",
            "999/999 [==============================] - 34s 34ms/step - loss: 0.0154\n",
            "Epoch 3/5\n",
            "999/999 [==============================] - 34s 34ms/step - loss: 0.0113\n",
            "Epoch 4/5\n",
            "999/999 [==============================] - 35s 35ms/step - loss: 0.0091\n",
            "Epoch 5/5\n",
            "999/999 [==============================] - 35s 35ms/step - loss: 0.0077\n",
            "467/467 [==============================] - 5s 9ms/step - loss: 0.0075\n",
            "Perte sur l'ensemble de test pour le fold 2: 0.007450408302247524\n",
            "Training for fold 3 ...\n",
            "Epoch 1/5\n",
            "990/990 [==============================] - 36s 34ms/step - loss: 0.0268\n",
            "Epoch 2/5\n",
            "990/990 [==============================] - 33s 33ms/step - loss: 0.0157\n",
            "Epoch 3/5\n",
            "990/990 [==============================] - 34s 34ms/step - loss: 0.0116\n",
            "Epoch 4/5\n",
            "990/990 [==============================] - 33s 34ms/step - loss: 0.0095\n",
            "Epoch 5/5\n",
            "990/990 [==============================] - 34s 34ms/step - loss: 0.0079\n",
            "484/484 [==============================] - 4s 7ms/step - loss: 0.0073\n",
            "Perte sur l'ensemble de test pour le fold 3: 0.007310705259442329\n",
            "Training for fold 4 ...\n",
            "Epoch 1/5\n",
            "978/978 [==============================] - 37s 35ms/step - loss: 0.0268\n",
            "Epoch 2/5\n",
            "978/978 [==============================] - 34s 35ms/step - loss: 0.0157\n",
            "Epoch 3/5\n",
            "978/978 [==============================] - 34s 35ms/step - loss: 0.0115\n",
            "Epoch 4/5\n",
            "978/978 [==============================] - 33s 34ms/step - loss: 0.0093\n",
            "Epoch 5/5\n",
            "978/978 [==============================] - 34s 35ms/step - loss: 0.0080\n",
            "508/508 [==============================] - 4s 7ms/step - loss: 0.0076\n",
            "Perte sur l'ensemble de test pour le fold 4: 0.007627146318554878\n",
            "Training for fold 5 ...\n",
            "Epoch 1/5\n",
            "962/962 [==============================] - 35s 34ms/step - loss: 0.0265\n",
            "Epoch 2/5\n",
            "962/962 [==============================] - 33s 35ms/step - loss: 0.0154\n",
            "Epoch 3/5\n",
            "962/962 [==============================] - 33s 34ms/step - loss: 0.0111\n",
            "Epoch 4/5\n",
            "962/962 [==============================] - 33s 34ms/step - loss: 0.0091\n",
            "Epoch 5/5\n",
            "962/962 [==============================] - 33s 34ms/step - loss: 0.0077\n",
            "540/540 [==============================] - 5s 8ms/step - loss: 0.0081\n",
            "Perte sur l'ensemble de test pour le fold 5: 0.00811031460762024\n"
          ]
        }
      ]
    },
    {
      "cell_type": "markdown",
      "source": [
        "**Dimensions verification**"
      ],
      "metadata": {
        "id": "6pmfFobnhmOy"
      }
    },
    {
      "cell_type": "code",
      "source": [
        "#  dimensions of various data frame\n",
        "print(f\"Dimensions of X_train_padded: {X_train_padded.shape}\")\n",
        "print(f\"Dimensions of y_train: {y_train.shape}\")\n",
        "print(f\"Dimensions of X_test_padded: {X_test_padded.shape}\")\n",
        "print(f\"Dimensions of y_test: {y_test.shape}\")\n",
        "print(f\"Dimensions of train_ids: {train_ids.shape}\")\n",
        "print(f\"Dimensions of test_ids: {test_ids.shape}\")"
      ],
      "metadata": {
        "id": "5nN0nIRlhrD8",
        "colab": {
          "base_uri": "https://localhost:8080/"
        },
        "outputId": "16c0caec-aaab-49db-fe3d-f1c1f6464a8b"
      },
      "execution_count": 84,
      "outputs": [
        {
          "output_type": "stream",
          "name": "stdout",
          "text": [
            "Dimensions of X_train_padded: (61559, 15)\n",
            "Dimensions of y_train: (61559,)\n",
            "Dimensions of X_test_padded: (17251, 15)\n",
            "Dimensions of y_test: (17251,)\n",
            "Dimensions of train_ids: (358,)\n",
            "Dimensions of test_ids: (89,)\n"
          ]
        }
      ]
    },
    {
      "cell_type": "markdown",
      "source": [
        "**Step 4 : Model evaluation**"
      ],
      "metadata": {
        "id": "Jel4YiL7yMSZ"
      }
    },
    {
      "cell_type": "code",
      "source": [
        "# Predicting sentiments on the test set\n",
        "pred_sentiment = model.predict(X_test_padded) # Use the model to predict sentiments for the padded test data\n",
        "pred_sentiment"
      ],
      "metadata": {
        "colab": {
          "base_uri": "https://localhost:8080/"
        },
        "id": "jUr9mKwGf1nH",
        "outputId": "88dbf16b-4163-4229-b5d6-c6b44fe01c52"
      },
      "execution_count": 103,
      "outputs": [
        {
          "output_type": "stream",
          "name": "stdout",
          "text": [
            "540/540 [==============================] - 5s 10ms/step\n"
          ]
        },
        {
          "output_type": "execute_result",
          "data": {
            "text/plain": [
              "array([[ 0.0237064 ],\n",
              "       [ 0.5187548 ],\n",
              "       [ 0.00288085],\n",
              "       ...,\n",
              "       [-0.00318567],\n",
              "       [-0.00530301],\n",
              "       [ 0.0077187 ]], dtype=float32)"
            ]
          },
          "metadata": {},
          "execution_count": 103
        }
      ]
    },
    {
      "cell_type": "code",
      "source": [
        "# Calculating regression metrics\n",
        "pred_sentiment = pred_sentiment.flatten()\n",
        "mse = mean_squared_error(y_test, pred_sentiment) # Calculate Mean Squared Error between actual and predicted values\n",
        "mae = mean_absolute_error(y_test, pred_sentiment) # Calculate Mean Absolute Error between actual and predicted values\n",
        "rmse = np.sqrt(mse) # Calculate Root Mean Squared Error\n",
        "\n",
        "print(f\"MSE(Mean Squared Error): {(mse)}, MAE(Mean Absolute Error): {(mae)}, RMSE(Root Mean Squared Error): {(rmse)}\")\n",
        "#low MSE --> the model, on average, predicts values ​​quite close to the actual values.\n",
        "#low MAE --> low average error per prediction\n",
        "#low RMSE --> low dispersion of errors in the model predictions\n",
        "#the model gives relatively accurate predictions with low errors on the test set.\n"
      ],
      "metadata": {
        "colab": {
          "base_uri": "https://localhost:8080/"
        },
        "id": "vP_cJWpsdcO4",
        "outputId": "f17a76b9-66b8-4b00-b59c-497aebd9c70b"
      },
      "execution_count": 86,
      "outputs": [
        {
          "output_type": "stream",
          "name": "stdout",
          "text": [
            "MSE(Mean Squared Error): 0.008110309951007366, MAE(Mean Absolute Error): 0.04476990069914933, RMSE(Root Mean Squared Error): 0.09005726128816605\n"
          ]
        }
      ]
    },
    {
      "cell_type": "markdown",
      "source": [
        "**Contextualization of the metrics**"
      ],
      "metadata": {
        "id": "Wv8NfaLJw9E0"
      }
    },
    {
      "cell_type": "code",
      "source": [
        "# Calculating the standard deviation of the actual sentiment score\n",
        "std_dev_sentiment = np.std(data_df['sentiment'])\n",
        "print(f\"Standard deviation of actual sentiment scores: {std_dev_sentiment}\")\n",
        "\n",
        "# Calculating the mean absolute value of the actual sentiment scores\n",
        "mean_abs_sentiment = np.mean(np.abs(data_df['sentiment']))\n",
        "print(f\"Mean absolute of actual sentiment scores: {mean_abs_sentiment}\")"
      ],
      "metadata": {
        "colab": {
          "base_uri": "https://localhost:8080/"
        },
        "id": "Xc9E3lLH7-Bk",
        "outputId": "cbddbdd3-2135-47f0-8690-30a2780138db"
      },
      "execution_count": 87,
      "outputs": [
        {
          "output_type": "stream",
          "name": "stdout",
          "text": [
            "Standard deviation of actual sentiment scores: 0.2202848557326425\n",
            "Mean absolute of actual sentiment scores: 0.10087772460610742\n"
          ]
        }
      ]
    },
    {
      "cell_type": "code",
      "source": [
        "# Comparing RMSE with the standard deviation\n",
        "print(f\"The RMSE represents { (rmse / std_dev_sentiment) * 100:.2f}% of the standard deviation of the actual scores\")\n",
        "# This indicates how significant the errors of your sentiment prediction model are compared to the variability of the real data\n",
        "# the errors of your sentiment prediction model are quite significant compared to the variability of the real data"
      ],
      "metadata": {
        "colab": {
          "base_uri": "https://localhost:8080/"
        },
        "outputId": "cab39327-5910-464b-f7d8-14a76e12db3f",
        "id": "XUGC-8iT7-Bm"
      },
      "execution_count": 88,
      "outputs": [
        {
          "output_type": "stream",
          "name": "stdout",
          "text": [
            "The RMSE represents 40.88% of the standard deviation of the actual scores\n"
          ]
        }
      ]
    },
    {
      "cell_type": "code",
      "source": [
        "# Comparing MSE with the standard deviation\n",
        "print(f\"The MSE represents {(mse / std_dev_sentiment**2) * 100:.2f}% of the variance in actual scores\")\n",
        "# a small part of the variability in sentiment scores is due to your model's prediction errors --> the model is quite precise"
      ],
      "metadata": {
        "colab": {
          "base_uri": "https://localhost:8080/"
        },
        "id": "8u_SCCFX0deC",
        "outputId": "34b982ab-6c39-41e0-901e-c64a3e9d7b93"
      },
      "execution_count": 89,
      "outputs": [
        {
          "output_type": "stream",
          "name": "stdout",
          "text": [
            "The MSE represents 16.71% of the variance in actual scores\n"
          ]
        }
      ]
    },
    {
      "cell_type": "code",
      "source": [
        "# Comparing MAE with the mean absolute\n",
        "print(f\"The MAE represents {(mae / mean_abs_sentiment) * 100:.2f}%  of the absolute average of real scores.\")\n",
        "# the prediction errors, on average, are quite significant compared to the average deviation of the actual scores\n",
        "\n"
      ],
      "metadata": {
        "colab": {
          "base_uri": "https://localhost:8080/"
        },
        "outputId": "3c4b5a5f-cc25-4edc-ba08-40db5018555a",
        "id": "XHR4K-u47-Bn"
      },
      "execution_count": 90,
      "outputs": [
        {
          "output_type": "stream",
          "name": "stdout",
          "text": [
            "The MAE represents 44.38%  of the absolute average of real scores.\n"
          ]
        }
      ]
    },
    {
      "cell_type": "markdown",
      "source": [
        "**Graphic visualization**"
      ],
      "metadata": {
        "id": "mmzLJwZoyCT1"
      }
    },
    {
      "cell_type": "code",
      "source": [
        "# dispersion graphic\n",
        "plt.scatter(y_test, pred_sentiment)\n",
        "plt.xlabel('Actual Values')\n",
        "plt.ylabel('Predictions')\n",
        "plt.title('Actual vs Predictions')\n",
        "plt.plot([y_test.min(), y_test.max()], [y_test.min(), y_test.max()], 'k--')  # ideal lign\n",
        "plt.show()"
      ],
      "metadata": {
        "colab": {
          "base_uri": "https://localhost:8080/",
          "height": 472
        },
        "id": "3e4J5-eN7-Bp",
        "outputId": "dc217fe7-6a5b-48cd-e148-1f1b14567f16"
      },
      "execution_count": 92,
      "outputs": [
        {
          "output_type": "display_data",
          "data": {
            "text/plain": [
              "<Figure size 640x480 with 1 Axes>"
            ],
            "image/png": "[encoded data removed]"
          },
          "metadata": {}
        }
      ]
    },
    {
      "cell_type": "code",
      "source": [
        "# Creating a DataFrame to associate predictions with conversations\n",
        "test_df['predicted_sentiment'] = pred_sentiment.flatten() # Add predicted sentiment scores to the test DataFrame\n",
        "\n",
        "# Grouping by conversation_id\n",
        "conversations = test_df.groupby('conversation_id') # Group the DataFrame by conversation_id\n",
        "evolution_sentiments = {} # Initialize a dictionary to store the sentiment evolution for each conversation\n",
        "\n",
        "for conversation_id, group in conversations:\n",
        "    sentiment_debut = group['predicted_sentiment'].iloc[0] # Get the first (starting) sentiment prediction of the conversation\n",
        "    sentiment_fin = group['predicted_sentiment'].iloc[-1] # Get the last (ending) sentiment prediction of the conversation\n",
        "    evolution_sentiments[conversation_id] = sentiment_fin - sentiment_debut # Calculate the change in sentiment from start to end and store it in the dictionary\n",
        "\n"
      ],
      "metadata": {
        "colab": {
          "base_uri": "https://localhost:8080/"
        },
        "id": "ItE5AyQTd6fa",
        "outputId": "78b430c9-32f1-4e0e-afd0-13d4dca6ea3b"
      },
      "execution_count": 93,
      "outputs": [
        {
          "output_type": "stream",
          "name": "stderr",
          "text": [
            "<ipython-input-93-1636333b16e2>:2: SettingWithCopyWarning: \n",
            "A value is trying to be set on a copy of a slice from a DataFrame.\n",
            "Try using .loc[row_indexer,col_indexer] = value instead\n",
            "\n",
            "See the caveats in the documentation: https://pandas.pydata.org/pandas-docs/stable/user_guide/indexing.html#returning-a-view-versus-a-copy\n",
            "  test_df['predicted_sentiment'] = pred_sentiment.flatten() # Add predicted sentiment scores to the test DataFrame\n"
          ]
        }
      ]
    },
    {
      "cell_type": "code",
      "source": [
        "test_df.to_csv('test_df.csv', index=\"False\")"
      ],
      "metadata": {
        "id": "KLG_6uhv8XtI"
      },
      "execution_count": 94,
      "outputs": []
    },
    {
      "cell_type": "code",
      "source": [
        "# Initialize variables to accumulate variations\n",
        "total_variation = {}\n",
        "total_variation_patient = []\n",
        "total_variation_control = []\n",
        "num_conversations_patient = 0\n",
        "num_conversations_control = 0\n",
        "\n",
        "for conversation_id, group in conversations:\n",
        "    # Calculate the sentiment variation for the conversation\n",
        "    variation = group['predicted_sentiment'].iloc[-1] - group['predicted_sentiment'].iloc[0]\n",
        "    total_variation[conversation_id] = variation\n",
        "\n",
        "    # Count the number of conversations for each group\n",
        "    if group['group'].iloc[0] == 'patient':\n",
        "        num_conversations_patient += 1\n",
        "        total_variation_patient.append(variation)\n",
        "    elif group['group'].iloc[0] == 'control':\n",
        "        num_conversations_control += 1\n",
        "        total_variation_control.append(variation)\n",
        "\n",
        "# Calculate averages\n",
        "average_variation_patient = np.mean(total_variation_patient)\n",
        "average_variation_control = np.mean(total_variation_control)\n",
        "\n",
        "# Print average variations and conversation counts\n",
        "print(f\"Average variation for patients: {average_variation_patient}\")\n",
        "print(f\"Average variation for controls: {average_variation_control}\")\n",
        "\n",
        "print(\"Total Variations by Conversation:\", total_variation)\n",
        "print(\"Number of Conversations - Patient:\", num_conversations_patient)\n",
        "print(\"Number of Conversations - Control:\", num_conversations_control)\n"
      ],
      "metadata": {
        "colab": {
          "base_uri": "https://localhost:8080/"
        },
        "id": "qWGPeWc-8bZ3",
        "outputId": "3f2952db-a4ee-456e-e23a-73c71ff5790e"
      },
      "execution_count": 95,
      "outputs": [
        {
          "output_type": "stream",
          "name": "stdout",
          "text": [
            "Average variation for patients: -0.1831960529088974\n",
            "Average variation for controls: -0.02706686407327652\n",
            "Total Variations by Conversation: {'47-1': -0.5840995, '49-2': -0.41097924, '58-1': -0.009688824, '65-1': -0.3508889, '67-1': -0.16887277, '68-1': 0.7144582, '73-2': 0.014765823, '74-1': -0.49340186, '77-2': -0.7215868, 'Baycrest10347a': -0.55845016, 'Baycrest10599a': -0.5059718, 'Baycrest11752a': -1.005112, 'Baycrest12073a': -1.3213072, 'Baycrest12370a': -1.0142088, 'MSUC01a': -0.32210338, 'MSUC02b': -0.021195753, 'MSUC04b': -0.036746457, 'MSUC06a': -0.027887, 'MSUC07a': -0.17651334, 'UMD04': -0.23425977, 'UMD09': 0.0, 'UMD19': -0.35764694, 'UMD24': -0.5262913, 'adler04a': 0.0067002843, 'adler05a': -0.6711446, 'adler20a': -0.010364662, 'adler22a': 0.049479082, 'kurland01c': 0.034899734, 'kurland01e': -0.344649, 'kurland02b': -0.516475, 'kurland02c': -0.00046306197, 'kurland02f': -0.03297568, 'kurland05a': 0.225034, 'kurland07a': -0.07508856, 'kurland12a': 0.0044457065, 'kurland14b': 0.027751505, 'kurland15b': 0.0021609594, 'kurland15e': 0.021384703, 'kurland18a': -0.5090696, 'kurland23b': 0.008942922, 'kurland24a': -0.13885684, 'kurland26d': -0.43442664, 'kurland27a': -0.16705798, 'kurland27e': 0.0070745805, 'scale02a': -0.046109498, 'scale03a': -0.0042656213, 'scale05a': 0.058717873, 'scale11b': 0.020075036, 'scale12a': -0.48887995, 'scale23a': -0.5274124, 'scale25a': -0.5026431, 'scale30b': -0.5323697, 'scale31a': -0.5181404, 'scale33a': -0.48979396, 'scale35a': 0.50249857, 'tucson01a': -0.39405012, 'williamson01a': -0.0070573, 'williamson03a': 0.3364305, 'williamson06a': 0.0004852414, 'williamson11a': -0.019414049, 'williamson12b': -0.57050556, 'williamson14b': -0.9019555, 'williamson16a': -0.034684137, 'williamson21a': -0.51773626, 'wright04a': 0.009835839, 'wright08a': 0.5116856, 'wright101a': 0.03726694, 'wright102a': 0.48969075, 'wright10a': 0.78205097, 'wright12a': -0.108588606, 'wright14a': -0.5323697, 'wright19a': -0.5324662, 'wright20a': 0.28396833, 'wright27a': 0.16227858, 'wright29a': 0.16121958, 'wright35a': 0.038515292, 'wright45a': 0.28345853, 'wright48a': -0.035351966, 'wright55a': 0.035682406, 'wright59a': -0.03994233, 'wright65a': 0.6080006, 'wright68a': 0.73564786, 'wright70a': 0.52864516, 'wright71a': 0.62908167, 'wright73a': 0.20569928, 'wright79a': -0.05895272, 'wright80a': 0.09712403, 'wright81a': 0.043625217, 'wright98a': 0.7162808}\n",
            "Number of Conversations - Patient: 50\n",
            "Number of Conversations - Control: 39\n"
          ]
        }
      ]
    },
    {
      "cell_type": "code",
      "source": [
        "# Histogram of sentiment variations\n",
        "plt.figure(figsize=(12, 6))\n",
        "\n",
        "# Histogram for patients\n",
        "plt.subplot(1, 2, 1)\n",
        "plt.hist(total_variation_patient, bins=20, color='blue', alpha=0.7)\n",
        "plt.title(\"Distribution of Variations - Patients\")\n",
        "plt.xlabel(\"Sentiment Variation\")\n",
        "plt.ylabel(\"Number of Conversations\")\n",
        "\n",
        "# Histogram for control group\n",
        "plt.subplot(1, 2, 2)\n",
        "plt.hist(total_variation_control, bins=20, color='green', alpha=0.7)\n",
        "plt.title(\"Distribution of Variations - Controls\")\n",
        "plt.xlabel(\"Sentiment Variation\")\n",
        "plt.ylabel(\"Number of Conversations\")\n",
        "\n",
        "plt.tight_layout()\n",
        "plt.show()"
      ],
      "metadata": {
        "colab": {
          "base_uri": "https://localhost:8080/",
          "height": 436
        },
        "id": "m4muyzUy9MBz",
        "outputId": "2153dd45-af0d-47e5-adbb-6a192d22d45f"
      },
      "execution_count": 96,
      "outputs": [
        {
          "output_type": "display_data",
          "data": {
            "text/plain": [
              "<Figure size 1200x600 with 2 Axes>"
            ],
            "image/png": "[encoded data removed]"
          },
          "metadata": {}
        }
      ]
    },
    {
      "cell_type": "code",
      "source": [
        "# Bar Chart\n",
        "# Comparison of the average variations\n",
        "plt.figure(figsize=(6, 4))\n",
        "groups = ['Patient', 'Control']\n",
        "averages = [average_variation_patient, average_variation_control]\n",
        "\n",
        "# Creating a bar chart to compare the averages\n",
        "plt.bar(groups, averages, color=['blue', 'green'])\n",
        "plt.xlabel('Group')\n",
        "plt.ylabel('Average Sentiment Variation')\n",
        "plt.title('Comparison of Average Sentiment Variations')\n",
        "plt.show()"
      ],
      "metadata": {
        "colab": {
          "base_uri": "https://localhost:8080/",
          "height": 410
        },
        "id": "sC8yUGt99Oyb",
        "outputId": "b7c5509c-cc03-49da-e5da-09e5a76c5911"
      },
      "execution_count": 97,
      "outputs": [
        {
          "output_type": "display_data",
          "data": {
            "text/plain": [
              "<Figure size 600x400 with 1 Axes>"
            ],
            "image/png": "[encoded data removed]"
          },
          "metadata": {}
        }
      ]
    },
    {
      "cell_type": "code",
      "source": [
        "# check the normal distribution\n",
        "# Shapiro-Wilk to check if both groups follow a normal distribution\n",
        "# patient group\n",
        "shapiro_test_patient = stats.shapiro(total_variation_patient)\n",
        "print(f\"Shapiro Test for patient group: Statistic={shapiro_test_patient[0]}, p-value={shapiro_test_patient[1]}\")\n",
        "\n",
        "# control group\n",
        "shapiro_test_control = stats.shapiro(total_variation_control)\n",
        "print(f\"Shapiro Test for control group : Statistic={shapiro_test_control[0]}, p-value={shapiro_test_control[1]}\")\n"
      ],
      "metadata": {
        "colab": {
          "base_uri": "https://localhost:8080/"
        },
        "outputId": "aec53bed-4d28-4b01-ce5e-f0311ced430f",
        "id": "M2DPzB-L9nZ0"
      },
      "execution_count": 98,
      "outputs": [
        {
          "output_type": "stream",
          "name": "stdout",
          "text": [
            "Shapiro Test for patient group: Statistic=0.9246046543121338, p-value=0.003473159857094288\n",
            "Shapiro Test for control group : Statistic=0.9543459415435791, p-value=0.11516010761260986\n"
          ]
        }
      ]
    },
    {
      "cell_type": "code",
      "source": [
        "#check the homogeneity of variances\n",
        "from scipy.stats import levene\n",
        "\n",
        "# Levene's test to check for homogeneity of variances\n",
        "stat, p_value = levene(total_variation_patient, total_variation_control)\n",
        "\n",
        "print(f\"Levene's Test : Statistic={stat}, p-value={p_value}\")\n",
        "\n",
        "# If p-value > 0.05, it suggests homogeneity of variances"
      ],
      "metadata": {
        "colab": {
          "base_uri": "https://localhost:8080/"
        },
        "outputId": "41433288-50ca-4f20-e20a-b43104cf25f9",
        "id": "7lRxAN_G9nZ_"
      },
      "execution_count": 99,
      "outputs": [
        {
          "output_type": "stream",
          "name": "stdout",
          "text": [
            "Levene's Test : Statistic=2.391835009621734, p-value=0.12560041539801833\n"
          ]
        }
      ]
    },
    {
      "cell_type": "code",
      "source": [
        "from scipy.stats import ttest_ind\n",
        "\n",
        "# Performing a t-test for independent samples\n",
        "t_stat, p_value = ttest_ind(total_variation_patient, total_variation_control)\n",
        "\n",
        "print(f\"T-test for independent samples :  t-Statistic={t_stat}, p-value={p_value}\")\n",
        "\n",
        "#p-value > 0.05 --> the difference between the means of the two groups is not statistically significant\n",
        "# If p-value > 0.05, it suggests that the difference between the means of the two groups is not statistically significant"
      ],
      "metadata": {
        "colab": {
          "base_uri": "https://localhost:8080/"
        },
        "outputId": "92c06082-624c-438f-982b-4ce8c2f4d7f7",
        "id": "4nZ0nfMk9naC"
      },
      "execution_count": 100,
      "outputs": [
        {
          "output_type": "stream",
          "name": "stdout",
          "text": [
            "T-test for independent samples :  t-Statistic=-1.8128100707244899, p-value=0.07331011409915673\n"
          ]
        }
      ]
    },
    {
      "cell_type": "code",
      "source": [
        "from scipy.stats import mannwhitneyu\n",
        "\n",
        "# Mann-Whitney U Test\n",
        "u_statistic, p_value = mannwhitneyu(total_variation_patient, total_variation_control, alternative='two-sided')\n",
        "\n",
        "print(f\"TMann-Whitney U Test: U Statistic={u_statistic}, p-value={p_value}\")\n",
        "#-->  p-value >0.05 not significative statistic difference between the two groups\n",
        "# If p-value > 0.05, it indicates no statistically significant difference between the two groups"
      ],
      "metadata": {
        "colab": {
          "base_uri": "https://localhost:8080/"
        },
        "outputId": "b9348a4b-1ffa-4782-f1c1-ce9e60a77f2e",
        "id": "Zo1-GVMm9naG"
      },
      "execution_count": 101,
      "outputs": [
        {
          "output_type": "stream",
          "name": "stdout",
          "text": [
            "TMann-Whitney U Test: U Statistic=742.5, p-value=0.05505878307953487\n"
          ]
        }
      ]
    },
    {
      "cell_type": "markdown",
      "source": [
        "**Last function**"
      ],
      "metadata": {
        "id": "liAp9eTSCQkE"
      }
    },
    {
      "cell_type": "code",
      "source": [
        "def label_sentiment(score):\n",
        "    if score > 0:\n",
        "        return 'POS'\n",
        "    elif score < 0:\n",
        "        return 'NEG'\n",
        "    else:\n",
        "        return 'NEU'\n",
        "\n",
        "def process_new_conversations(file_path):\n",
        "    # Load new data\n",
        "    new_data = pd.read_csv(file_path)\n",
        "\n",
        "    # Clean and calculate sentiment\n",
        "    new_data['text'] = new_data['text'].apply(clean_text)\n",
        "    new_data['sentiment'] = new_data['text'].apply(sentiment_score)\n",
        "    new_data['label'] = new_data['sentiment'].apply(label_sentiment)\n",
        "\n",
        "    # Save the result to a new CSV\n",
        "    new_data.to_csv('sentiment_labeled_phrases.csv', index=False)\n",
        "\n",
        "    # Calculate variation between first and last line\n",
        "    variation_dict = {}\n",
        "    for conversation_id in new_data['conversation_id'].unique():\n",
        "        conversation_texts = new_data[new_data['conversation_id'] == conversation_id]\n",
        "        sentiment_start = conversation_texts['sentiment'].iloc[0]\n",
        "        sentiment_end = conversation_texts['sentiment'].iloc[-1]\n",
        "        variation_dict[conversation_id] = sentiment_end - sentiment_start\n",
        "\n",
        "    return variation_dict\n",
        "\n",
        "# Usage example:\n",
        "# variations = process_new_conversations('path_to_new_csv_file.csv')\n",
        "# print(variations)"
      ],
      "metadata": {
        "id": "xa6OJOSQCUQ8"
      },
      "execution_count": null,
      "outputs": []
    }
  ]
}