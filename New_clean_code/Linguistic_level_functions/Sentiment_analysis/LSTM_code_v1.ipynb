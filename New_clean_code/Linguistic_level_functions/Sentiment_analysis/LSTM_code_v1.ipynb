{
  "nbformat": 4,
  "nbformat_minor": 0,
  "metadata": {
    "colab": {
      "provenance": []
    },
    "kernelspec": {
      "name": "python3",
      "display_name": "Python 3"
    },
    "language_info": {
      "name": "python"
    }
  },
  "cells": [
    {
      "cell_type": "code",
      "source": [
        "from google.colab import files"
      ],
      "metadata": {
        "id": "pmshiijttrVw"
      },
      "execution_count": 2,
      "outputs": []
    },
    {
      "cell_type": "code",
      "source": [
        "from google.colab import drive\n",
        "drive.mount('/content/drive')"
      ],
      "metadata": {
        "colab": {
          "base_uri": "https://localhost:8080/"
        },
        "id": "klxSwkvqtxcU",
        "outputId": "064a5024-e38f-4629-f063-c952cbab8a85"
      },
      "execution_count": 3,
      "outputs": [
        {
          "output_type": "stream",
          "name": "stdout",
          "text": [
            "Mounted at /content/drive\n"
          ]
        }
      ]
    },
    {
      "cell_type": "code",
      "execution_count": 4,
      "metadata": {
        "colab": {
          "base_uri": "https://localhost:8080/"
        },
        "id": "TWj7ydaZrGp1",
        "outputId": "73eaa2d3-d4a8-45a7-d6ff-d882d11f64ae"
      },
      "outputs": [
        {
          "output_type": "stream",
          "name": "stdout",
          "text": [
            "/content/drive/MyDrive/703_Project/LSTM\n"
          ]
        }
      ],
      "source": [
        "%cd /content/drive/MyDrive/703_Project/LSTM/"
      ]
    },
    {
      "cell_type": "markdown",
      "source": [
        "**Libraries importation**"
      ],
      "metadata": {
        "id": "rYslxR_7NPQC"
      }
    },
    {
      "cell_type": "code",
      "source": [
        "import os\n",
        "import pandas as pd\n",
        "import re\n",
        "import numpy as np\n",
        "import matplotlib.pyplot as plt\n",
        "import scipy.stats as stats\n",
        "from textblob import TextBlob\n",
        "from sklearn.model_selection import train_test_split\n",
        "from sklearn.metrics import mean_squared_error, mean_absolute_error\n",
        "from keras.preprocessing.text import Tokenizer\n",
        "from keras.preprocessing.sequence import pad_sequences\n",
        "from keras.layers import Embedding\n",
        "from keras.initializers import Constant\n",
        "from keras.models import Sequential\n",
        "from keras.layers import LSTM, Dense, Dropout\n",
        "from keras.losses import mean_squared_error\n",
        "from keras.callbacks import EarlyStopping\n",
        "from sklearn.model_selection import KFold\n",
        "\n"
      ],
      "metadata": {
        "id": "rQum3jsn0Bwo"
      },
      "execution_count": 5,
      "outputs": []
    },
    {
      "cell_type": "markdown",
      "source": [
        "**Create combined csv files**\n",
        "\n",
        "\n",
        "\n"
      ],
      "metadata": {
        "id": "n8lPKfzW72qN"
      }
    },
    {
      "cell_type": "code",
      "source": [
        "\"\"\"\n",
        "def process_folder(main_folder_path, group_label):\n",
        "   Processes all CSV files in a folder and returns a merged DataFrame.\n",
        "    frames = []  # List to store the DataFrames of each file\n",
        "    for subdir, dirs, files in os.walk(main_folder_path):\n",
        "      for filename in files:\n",
        "        if filename.endswith('.csv'):\n",
        "            file_path = os.path.join(subdir, filename)\n",
        "            df = pd.read_csv(file_path)\n",
        "            df['conversation_id'] = filename.split('.')[0]  # Use file name as ID\n",
        "            df['group'] = group_label\n",
        "            df = df[['text', 'conversation_id', 'group']]\n",
        "            frames.append(df)\n",
        "    return pd.concat(frames)\n",
        "\n",
        "# Folder paths for control and patient CSV files\n",
        "control_main_folder_path = \"Control_csv_data_clean\"\n",
        "patient_main_folder_path = \"Patient_csv_data_clean\"\n",
        "\n",
        "# Processing files and merging DataFrames\n",
        "control_df = process_folder(control_main_folder_path, 'control')\n",
        "patient_df = process_folder(patient_main_folder_path, 'patient')\n",
        "combined_df = pd.concat([control_df, patient_df])\n",
        "\n",
        "# Saving the merged DataFrame to a new CSV file\n",
        "combined_df.to_csv('combined_control_patient_data.csv', index=False)\n",
        "\"\"\""
      ],
      "metadata": {
        "id": "GdcWELd1QSig"
      },
      "execution_count": null,
      "outputs": []
    },
    {
      "cell_type": "markdown",
      "source": [
        "**Step 1 : Data preprocessing and split**"
      ],
      "metadata": {
        "id": "W2i8xVdkNcC7"
      }
    },
    {
      "cell_type": "code",
      "source": [
        "# load the data\n",
        "data = pd.read_csv('combined_control_patient_data.csv')\n",
        "data_df = pd.DataFrame(data) # DataFrame"
      ],
      "metadata": {
        "id": "-v_lzovDQd2n"
      },
      "execution_count": 6,
      "outputs": []
    },
    {
      "cell_type": "code",
      "source": [
        "# Text data cleaning function\n",
        "def clean_text(text):\n",
        "    text = text.lower()\n",
        "    text = re.sub(r\"[^a-zA-Z0-9']\", \" \", text) # Remove non-alphanumeric characters\n",
        "    text = re.sub(r\"\\s+\", \" \", text)  # Remove extra white spaces\n",
        "    return text\n",
        "\n",
        "# Text cleaning\n",
        "data_df['text'] = data_df['text'].apply(clean_text)"
      ],
      "metadata": {
        "id": "Rhe0d-clRSOT"
      },
      "execution_count": 7,
      "outputs": []
    },
    {
      "cell_type": "code",
      "source": [
        "# Function to calculate sentiment score\n",
        "def sentiment_score(text):\n",
        "    analysis = TextBlob(text) # Creating a TextBlob object from the given text\n",
        "    return analysis.sentiment.polarity  # Returns the sentiment polarity calculated by TextBlob, he polarity is a floating-point score ranging from -1 (negative) to 1 (positive)\n",
        "\n",
        "# Apply the sentiment score calculation function to each text in the 'text' column of the DataFrame\n",
        "#The result is stored in a new column 'sentiment' in the DataFrame\n",
        "data_df['sentiment'] = data_df['text'].apply(sentiment_score)"
      ],
      "metadata": {
        "id": "Had-inrOSOY4"
      },
      "execution_count": 8,
      "outputs": []
    },
    {
      "cell_type": "code",
      "source": [
        "# Grouping data by conversation_id\n",
        "conversation_ids = data['conversation_id'].unique() # Extract unique conversation IDs from the data\n",
        "np.random.shuffle(conversation_ids) # Shuffle the conversation IDs for randomness\n",
        "\n",
        "# Splitting conversation IDs for training, validation, and testing\n",
        "train_size = int(0.8 * len(conversation_ids)) # 80 % of data for training\n",
        "#val_size = int(0.1 * len(conversation_ids)) # 10% of data for validation\n",
        "test_size = int(0.2 * len(conversation_ids))  # 20% of data for testing\n",
        "\n",
        "# Assigning conversation IDs to each dataset\n",
        "train_ids = conversation_ids[:train_size] # IDs for training set\n",
        "#val_ids = conversation_ids[train_size:train_size + val_size] #IDs for validation set\n",
        "test_ids = conversation_ids[train_size:] #IDS for test set\n",
        "\n",
        "# Selecting the training, validation, and test sets based on conversation IDs\n",
        "train_df = data[data['conversation_id'].isin(train_ids)] # Training data frame\n",
        "#val_df = data[data['conversation_id'].isin(val_ids)] # Validation data frame\n",
        "test_df = data[data['conversation_id'].isin(test_ids)] #test data frame\n"
      ],
      "metadata": {
        "id": "Z8hAgMzdVblA"
      },
      "execution_count": 9,
      "outputs": []
    },
    {
      "cell_type": "code",
      "source": [
        "# Tokenization and Padding\n",
        "tokenizer = Tokenizer(num_words=12385) # Initialize tokenizer with a maximum number of words\n",
        "tokenizer.fit_on_texts(data['text']) # Fit tokenizer on the text data\n",
        "\n",
        "# Function to tokenize and pad a DataFrame\n",
        "max_seq_length = 15 # Setting the maximum sequence length for padding\n",
        "def prepare_data(df):\n",
        "    sequences = tokenizer.texts_to_sequences(df['text']) # Tokenize the text\n",
        "    return pad_sequences(sequences, maxlen=max_seq_length) # Return padded sequences\n"
      ],
      "metadata": {
        "id": "YFdGTPsyVh_H"
      },
      "execution_count": 10,
      "outputs": []
    },
    {
      "cell_type": "markdown",
      "source": [
        "**How to get num_words and max_seq_length**"
      ],
      "metadata": {
        "id": "9g4jH7pLWt1U"
      }
    },
    {
      "cell_type": "code",
      "source": [
        "# Initializing a tokenizer without limiting the number of words\n",
        "tokenizer = Tokenizer() # Create a new Tokenizer instance\n",
        "tokenizer.fit_on_texts(data_df['text']) # Fit the tokenizer on the text data\n",
        "\n",
        "# Calculating the total number of unique words in the dataset\n",
        "word_count = len(tokenizer.word_index)  # Get the length of the word_index\n",
        "print(f\"Nombre total de mots uniques dans le jeu de données : {word_count}\") # Print the total number of unique words\n",
        "\n",
        "text_lengths = [len(text.split()) for text in data_df['text']]\n",
        "print(f\"Moyenne: {np.mean(text_lengths)}\")\n",
        "print(f\"Médiane: {np.median(text_lengths)}\")\n",
        "print(f\"Percentile 90: {np.percentile(text_lengths, 90)}\")"
      ],
      "metadata": {
        "colab": {
          "base_uri": "https://localhost:8080/"
        },
        "id": "w1cbSLAFWr4p",
        "outputId": "398260c1-b36e-4d69-a545-64184fc9f67f"
      },
      "execution_count": 11,
      "outputs": [
        {
          "output_type": "stream",
          "name": "stdout",
          "text": [
            "Nombre total de mots uniques dans le jeu de données : 12385\n",
            "Moyenne: 7.460360360360361\n",
            "Médiane: 6.0\n",
            "Percentile 90: 15.0\n"
          ]
        }
      ]
    },
    {
      "cell_type": "markdown",
      "source": [
        "**Step 2 : Word Embeddings preparation**"
      ],
      "metadata": {
        "id": "HSwHY2FBW5Lq"
      }
    },
    {
      "cell_type": "code",
      "source": [
        "# Loading GloVe embeddings\n",
        "EMBEDDING_DIM = 100  # for GloVe 6B with 100-dimensional vectors\n",
        "embedding_index = {}\n",
        "with open('glove.6B.100d.txt', 'r', encoding='utf-8') as f:\n",
        "    for line in f:\n",
        "        values = line.split()\n",
        "        word = values[0]\n",
        "        coefs = np.asarray(values[1:], dtype='float32')\n",
        "        embedding_index[word] = coefs\n",
        "\n",
        "# Preparing the embedding matrix\n",
        "embedding_matrix = np.zeros((len(tokenizer.word_index) + 1, EMBEDDING_DIM))\n",
        "for word, i in tokenizer.word_index.items():\n",
        "    embedding_vector = embedding_index.get(word)\n",
        "    if embedding_vector is not None:\n",
        "        embedding_matrix[i] = embedding_vector\n",
        "\n",
        "# Creating the embedding layer using the embedding matrix\n",
        "embedding_layer = Embedding(len(tokenizer.word_index) + 1,\n",
        "                            EMBEDDING_DIM,\n",
        "                            embeddings_initializer=Constant(embedding_matrix),\n",
        "                            input_length=max_seq_length,\n",
        "                            trainable=False)"
      ],
      "metadata": {
        "id": "86i2eLHHXAIc"
      },
      "execution_count": 12,
      "outputs": []
    },
    {
      "cell_type": "code",
      "source": [
        "# control the embedding matrix\n",
        "print(\"Embeddingx matrix dimension :\", embedding_matrix.shape)"
      ],
      "metadata": {
        "colab": {
          "base_uri": "https://localhost:8080/"
        },
        "id": "ztH2KrSGfqYA",
        "outputId": "3c1edb19-b61b-451e-9dba-eb957e8c0d97"
      },
      "execution_count": 13,
      "outputs": [
        {
          "output_type": "stream",
          "name": "stdout",
          "text": [
            "Embeddingx matrix dimension : (12386, 100)\n"
          ]
        }
      ]
    },
    {
      "cell_type": "markdown",
      "source": [
        "**Coverage Verification**"
      ],
      "metadata": {
        "id": "hUwR50Xyfzlw"
      }
    },
    {
      "cell_type": "code",
      "source": [
        "# Calculating the percentage of words in the tokenizer that are covered by GloVe embeddings\n",
        "total_words = len(tokenizer.word_index) # Get the total number of unique words in the tokenizer\n",
        "words_in_glove = sum(1 for word in tokenizer.word_index if word in embedding_index) # Count how many of these words are present in the GloVe embeddings\n",
        "coverage_percentage = (words_in_glove / total_words) * 100 # Calculate the coverage percentage: the ratio of words in GloVe to the total words in the tokenizer\n",
        "print(f\"Percentage of tokenizer words covered by GloVe : {coverage_percentage}%\")\n",
        "# 89 % --> good coverage"
      ],
      "metadata": {
        "colab": {
          "base_uri": "https://localhost:8080/"
        },
        "id": "l89-Ar3Of5Aa",
        "outputId": "a62a8368-46f8-42c5-83cc-4ba50939c5c0"
      },
      "execution_count": 14,
      "outputs": [
        {
          "output_type": "stream",
          "name": "stdout",
          "text": [
            "Percentage of tokenizer words covered by GloVe : 89.01897456600727%\n"
          ]
        }
      ]
    },
    {
      "cell_type": "markdown",
      "source": [
        "**Step 3 : LSTM implementation, training and Cross-Validation Methodology**"
      ],
      "metadata": {
        "id": "pkhUf4DRkR3g"
      }
    },
    {
      "cell_type": "code",
      "source": [
        "# Initialize fold number and number of folds for cross-validation\n",
        "fold_no = 1\n",
        "num_folds = 5\n",
        "kfold = KFold(n_splits=num_folds, shuffle=True) # Create KFold object with 3 splits and shuffling\n",
        "# Initialize early stopping callback\n",
        "#early_stopping = EarlyStopping(monitor='val_loss', patience=10)\n",
        "# Loop through each fold for cross-validation\n",
        "for fold_no, (train_indices, test_indices) in enumerate(kfold.split(conversation_ids), start=1): # Extract train and test IDs for the current fold\n",
        "    # creating an LSTM model and reinitialize it for each fold\n",
        "    model = Sequential() # Initialize a sequential model\n",
        "    model.add(embedding_layer)  # Use the previously prepared embedding layer\n",
        "    model.add(LSTM(64, return_sequences=True))  # First LSTM layer with fewer units and return sequences\n",
        "    model.add(LSTM(128, return_sequences=False))  # return_sequences=False for the last LSTM layer, interested in a single output (overall sentiment score)\n",
        "    model.add(Dropout(0.5)) # Add a Dropout layer to prevent overfitting\n",
        "    model.add(Dense(1, activation='tanh'))  # Sentiment score between -1 and 1\n",
        "    model.compile(optimizer='adam', loss='mean_squared_error') # adam is a popular choice and the loss function is mean squared error, typical for regression problems\n",
        "\n",
        "    # Extract train and test IDs for the current fold\n",
        "    train_ids = conversation_ids[train_indices]\n",
        "    test_ids = conversation_ids[test_indices]\n",
        "    #val_ids = conversation_ids[val]\n",
        "\n",
        "    # Select train and test DataFrame based on the conversation IDs\n",
        "    train_df = data[data['conversation_id'].isin(train_ids)]\n",
        "    test_df = data[data['conversation_id'].isin(test_ids)]\n",
        "    #val_df = data[data['conversation_id'].isin(val_ids)]\n",
        "\n",
        "    # Prepare data for training and testing\n",
        "    X_train_padded = prepare_data(train_df)\n",
        "    y_train = train_df['sentiment'].values\n",
        "\n",
        "    X_test_padded = prepare_data(test_df)\n",
        "    y_test = test_df['sentiment'].values\n",
        "\n",
        "    #X_val_padded = prepare_data(val_df)\n",
        "    #y_val = val_df['sentiment'].values\n",
        "\n",
        "    # Model training for the current fold\n",
        "    print(f'Training for fold {fold_no} ...')\n",
        "    model.fit(X_train_padded, y_train, epochs=5, batch_size=64)\n",
        "\n",
        "    # Model Evaluation on the test set\n",
        "    test_loss = model.evaluate(X_test_padded, y_test)\n",
        "    print(f'Perte sur l\\'ensemble de test pour le fold {fold_no}: {test_loss}')\n",
        "\n",
        "    # Increment the fold number\n",
        "    fold_no = fold_no + 1\n"
      ],
      "metadata": {
        "colab": {
          "base_uri": "https://localhost:8080/"
        },
        "id": "bubBka0wskkj",
        "outputId": "0ef77c24-48bf-4d6b-fec2-5ed862590081"
      },
      "execution_count": 15,
      "outputs": [
        {
          "output_type": "stream",
          "name": "stdout",
          "text": [
            "Training for fold 1 ...\n",
            "Epoch 1/5\n",
            "989/989 [==============================] - 71s 65ms/step - loss: 0.0266\n",
            "Epoch 2/5\n",
            "989/989 [==============================] - 64s 65ms/step - loss: 0.0158\n",
            "Epoch 3/5\n",
            "989/989 [==============================] - 61s 62ms/step - loss: 0.0113\n",
            "Epoch 4/5\n",
            "989/989 [==============================] - 63s 64ms/step - loss: 0.0089\n",
            "Epoch 5/5\n",
            "989/989 [==============================] - 63s 64ms/step - loss: 0.0075\n",
            "486/486 [==============================] - 10s 17ms/step - loss: 0.0080\n",
            "Perte sur l'ensemble de test pour le fold 1: 0.007973452098667622\n",
            "Training for fold 2 ...\n",
            "Epoch 1/5\n",
            "969/969 [==============================] - 66s 64ms/step - loss: 0.0271\n",
            "Epoch 2/5\n",
            "969/969 [==============================] - 63s 65ms/step - loss: 0.0159\n",
            "Epoch 3/5\n",
            "969/969 [==============================] - 62s 64ms/step - loss: 0.0115\n",
            "Epoch 4/5\n",
            "969/969 [==============================] - 61s 63ms/step - loss: 0.0092\n",
            "Epoch 5/5\n",
            "969/969 [==============================] - 61s 63ms/step - loss: 0.0077\n",
            "526/526 [==============================] - 10s 18ms/step - loss: 0.0081\n",
            "Perte sur l'ensemble de test pour le fold 2: 0.00805114209651947\n",
            "Training for fold 3 ...\n",
            "Epoch 1/5\n",
            "1001/1001 [==============================] - 68s 63ms/step - loss: 0.0269\n",
            "Epoch 2/5\n",
            "1001/1001 [==============================] - 63s 63ms/step - loss: 0.0161\n",
            "Epoch 3/5\n",
            "1001/1001 [==============================] - 64s 64ms/step - loss: 0.0117\n",
            "Epoch 4/5\n",
            "1001/1001 [==============================] - 64s 64ms/step - loss: 0.0092\n",
            "Epoch 5/5\n",
            "1001/1001 [==============================] - 63s 63ms/step - loss: 0.0078\n",
            "462/462 [==============================] - 11s 21ms/step - loss: 0.0076\n",
            "Perte sur l'ensemble de test pour le fold 3: 0.007556983735412359\n",
            "Training for fold 4 ...\n",
            "Epoch 1/5\n",
            "981/981 [==============================] - 64s 61ms/step - loss: 0.0277\n",
            "Epoch 2/5\n",
            "981/981 [==============================] - 59s 61ms/step - loss: 0.0166\n",
            "Epoch 3/5\n",
            "981/981 [==============================] - 59s 60ms/step - loss: 0.0119\n",
            "Epoch 4/5\n",
            "981/981 [==============================] - 59s 60ms/step - loss: 0.0095\n",
            "Epoch 5/5\n",
            "981/981 [==============================] - 59s 60ms/step - loss: 0.0079\n",
            "503/503 [==============================] - 10s 16ms/step - loss: 0.0066\n",
            "Perte sur l'ensemble de test pour le fold 4: 0.006644607055932283\n",
            "Training for fold 5 ...\n",
            "Epoch 1/5\n",
            "988/988 [==============================] - 63s 60ms/step - loss: 0.0263\n",
            "Epoch 2/5\n",
            "988/988 [==============================] - 61s 61ms/step - loss: 0.0156\n",
            "Epoch 3/5\n",
            "988/988 [==============================] - 62s 63ms/step - loss: 0.0115\n",
            "Epoch 4/5\n",
            "988/988 [==============================] - 62s 63ms/step - loss: 0.0091\n",
            "Epoch 5/5\n",
            "988/988 [==============================] - 66s 66ms/step - loss: 0.0076\n",
            "488/488 [==============================] - 8s 14ms/step - loss: 0.0082\n",
            "Perte sur l'ensemble de test pour le fold 5: 0.008240788243710995\n"
          ]
        }
      ]
    },
    {
      "cell_type": "markdown",
      "source": [
        "**Dimensions verification**"
      ],
      "metadata": {
        "id": "6pmfFobnhmOy"
      }
    },
    {
      "cell_type": "code",
      "source": [
        "#  dimensions of various data frame\n",
        "print(f\"Dimensions of X_train_padded: {X_train_padded.shape}\")\n",
        "print(f\"Dimensions of y_train: {y_train.shape}\")\n",
        "print(f\"Dimensions of X_test_padded: {X_test_padded.shape}\")\n",
        "print(f\"Dimensions of y_test: {y_test.shape}\")\n",
        "print(f\"Dimensions of train_ids: {train_ids.shape}\")\n",
        "print(f\"Dimensions of test_ids: {test_ids.shape}\")"
      ],
      "metadata": {
        "id": "5nN0nIRlhrD8",
        "colab": {
          "base_uri": "https://localhost:8080/"
        },
        "outputId": "4bcd7cf6-4542-4bfd-f506-52da76bebf0d"
      },
      "execution_count": 33,
      "outputs": [
        {
          "output_type": "stream",
          "name": "stdout",
          "text": [
            "Dimensions of X_train_padded: (63216, 15)\n",
            "Dimensions of y_train: (63216,)\n",
            "Dimensions of X_test_padded: (15594, 15)\n",
            "Dimensions of y_test: (15594,)\n",
            "Dimensions of train_ids: (358,)\n",
            "Dimensions of test_ids: (89,)\n"
          ]
        }
      ]
    },
    {
      "cell_type": "markdown",
      "source": [
        "**Model evaluation**"
      ],
      "metadata": {
        "id": "Jel4YiL7yMSZ"
      }
    },
    {
      "cell_type": "code",
      "source": [
        "# Predicting sentiments on the test set\n",
        "pred_sentiment = model.predict(X_test_padded) # Use the model to predict sentiments for the padded test data"
      ],
      "metadata": {
        "colab": {
          "base_uri": "https://localhost:8080/"
        },
        "id": "jUr9mKwGf1nH",
        "outputId": "a46bf2db-1375-45f4-bdf2-a43f06b3f033"
      },
      "execution_count": 16,
      "outputs": [
        {
          "output_type": "stream",
          "name": "stdout",
          "text": [
            "488/488 [==============================] - 19s 33ms/step\n"
          ]
        }
      ]
    },
    {
      "cell_type": "code",
      "source": [
        "# Calculating regression metrics\n",
        "pred_sentiment = pred_sentiment.flatten()\n",
        "mse = mean_squared_error(y_test, pred_sentiment) # Calculate Mean Squared Error between actual and predicted values\n",
        "mae = mean_absolute_error(y_test, pred_sentiment) # Calculate Mean Absolute Error between actual and predicted values\n",
        "rmse = np.sqrt(mse) # Calculate Root Mean Squared Error\n",
        "\n",
        "print(f\"MSE(Mean Squared Error): {(mse)}, MAE(Mean Absolute Error): {(mae)}, RMSE(Root Mean Squared Error): {(rmse)}\")\n",
        "#low MSE --> the model, on average, predicts values ​​quite close to the actual values.\n",
        "#low MAE --> low average error per prediction\n",
        "#low RMSE --> low dispersion of errors in the model predictions\n",
        "#the model gives relatively accurate predictions with low errors on the test set.\n"
      ],
      "metadata": {
        "colab": {
          "base_uri": "https://localhost:8080/"
        },
        "id": "vP_cJWpsdcO4",
        "outputId": "bd86ada8-950f-4ee6-ebad-a5893b0db608"
      },
      "execution_count": 17,
      "outputs": [
        {
          "output_type": "stream",
          "name": "stdout",
          "text": [
            "MSE(Mean Squared Error): 0.008240791037678719, MAE(Mean Absolute Error): 0.04604021858404135, RMSE(Root Mean Squared Error): 0.09077880531549454\n"
          ]
        }
      ]
    },
    {
      "cell_type": "markdown",
      "source": [
        "**Contextualization of the metrics**"
      ],
      "metadata": {
        "id": "Wv8NfaLJw9E0"
      }
    },
    {
      "cell_type": "code",
      "source": [
        "# Calculating the standard deviation of the actual sentiment score\n",
        "std_dev_sentiment = np.std(data_df['sentiment'])\n",
        "print(f\"Standard deviation of actual sentiment scores: {std_dev_sentiment}\")\n",
        "\n",
        "# Calculating the mean absolute value of the actual sentiment scores\n",
        "mean_abs_sentiment = np.mean(np.abs(data_df['sentiment']))\n",
        "print(f\"Mean absolute of actual sentiment scores: {mean_abs_sentiment}\")"
      ],
      "metadata": {
        "colab": {
          "base_uri": "https://localhost:8080/"
        },
        "id": "Xc9E3lLH7-Bk",
        "outputId": "ec62eb6b-b3ca-4c77-8f45-d1861bdc611b"
      },
      "execution_count": 18,
      "outputs": [
        {
          "output_type": "stream",
          "name": "stdout",
          "text": [
            "Standard deviation of actual sentiment scores: 0.2202848557326425\n",
            "Mean absolute of actual sentiment scores: 0.10087772460610742\n"
          ]
        }
      ]
    },
    {
      "cell_type": "code",
      "source": [
        "# Comparing RMSE with the standard deviation\n",
        "print(f\"Le RMSE représente { (rmse / std_dev_sentiment) * 100:.2f}% de l'écart-type des scores réels.\")\n",
        "# This indicates how significant the errors of your sentiment prediction model are compared to the variability of the real data\n",
        "# the errors of your sentiment prediction model are quite significant compared to the variability of the real data"
      ],
      "metadata": {
        "colab": {
          "base_uri": "https://localhost:8080/"
        },
        "outputId": "f064143e-e60b-401e-b3d3-8feb25bd61e1",
        "id": "XUGC-8iT7-Bm"
      },
      "execution_count": 19,
      "outputs": [
        {
          "output_type": "stream",
          "name": "stdout",
          "text": [
            "Le RMSE représente 41.21% de l'écart-type des scores réels.\n"
          ]
        }
      ]
    },
    {
      "cell_type": "code",
      "source": [
        "# Comparing MSE with the standard deviation\n",
        "print(f\"The MSE represents {(mse / std_dev_sentiment**2) * 100:.2f}% de la variance des scores réels.\")\n",
        "# a small part of the variability in sentiment scores is due to your model's prediction errors --> the model is quite precise"
      ],
      "metadata": {
        "colab": {
          "base_uri": "https://localhost:8080/"
        },
        "id": "8u_SCCFX0deC",
        "outputId": "0cf1db38-c6db-49c6-c135-7337ff5f670b"
      },
      "execution_count": 20,
      "outputs": [
        {
          "output_type": "stream",
          "name": "stdout",
          "text": [
            "The MSE represents 16.98% de la variance des scores réels.\n"
          ]
        }
      ]
    },
    {
      "cell_type": "code",
      "source": [
        "# Comparing MAE with the mean absolute\n",
        "print(f\"The MAE represents {(mae / mean_abs_sentiment) * 100:.2f}% de la moyenne absolue des scores réels.\")\n",
        "# the prediction errors, on average, are quite significant compared to the average deviation of the actual scores\n",
        "\n"
      ],
      "metadata": {
        "colab": {
          "base_uri": "https://localhost:8080/"
        },
        "outputId": "0f387448-3b41-4f01-b966-e61fd6971550",
        "id": "XHR4K-u47-Bn"
      },
      "execution_count": 21,
      "outputs": [
        {
          "output_type": "stream",
          "name": "stdout",
          "text": [
            "The MAE represents 45.64% de la moyenne absolue des scores réels.\n"
          ]
        }
      ]
    },
    {
      "cell_type": "markdown",
      "source": [
        "**Graphic visualization**"
      ],
      "metadata": {
        "id": "mmzLJwZoyCT1"
      }
    },
    {
      "cell_type": "code",
      "source": [
        "# Graphique de dispersion\n",
        "plt.scatter(y_test, pred_sentiment)\n",
        "plt.xlabel('Actual Values')\n",
        "plt.ylabel('Predictions')\n",
        "plt.title('Actual vs Predictions')\n",
        "plt.plot([y_test.min(), y_test.max()], [y_test.min(), y_test.max()], 'k--')  # ideal lign\n",
        "plt.show()"
      ],
      "metadata": {
        "colab": {
          "base_uri": "https://localhost:8080/",
          "height": 472
        },
        "id": "3e4J5-eN7-Bp",
        "outputId": "903082a0-5c33-4008-b799-d5cf137ade73"
      },
      "execution_count": 22,
      "outputs": [
        {
          "output_type": "display_data",
          "data": {
            "text/plain": [
              "<Figure size 640x480 with 1 Axes>"
            ],
            "image/png": "[encoded data removed]"
          },
          "metadata": {}
        }
      ]
    },
    {
      "cell_type": "code",
      "source": [
        "# Creating a DataFrame to associate predictions with conversations\n",
        "test_df['predicted_sentiment'] = pred_sentiment.flatten() # Add predicted sentiment scores to the test DataFrame\n",
        "\n",
        "# Grouping by conversation_id\n",
        "conversations = test_df.groupby('conversation_id') # Group the DataFrame by conversation_id\n",
        "evolution_sentiments = {} # Initialize a dictionary to store the sentiment evolution for each conversation\n",
        "\n",
        "for conversation_id, group in conversations:\n",
        "    sentiment_debut = group['predicted_sentiment'].iloc[0] # Get the first (starting) sentiment prediction of the conversation\n",
        "    sentiment_fin = group['predicted_sentiment'].iloc[-1] # Get the last (ending) sentiment prediction of the conversation\n",
        "    evolution_sentiments[conversation_id] = sentiment_fin - sentiment_debut # Calculate the change in sentiment from start to end and store it in the dictionary\n",
        "\n"
      ],
      "metadata": {
        "colab": {
          "base_uri": "https://localhost:8080/"
        },
        "id": "ItE5AyQTd6fa",
        "outputId": "092d6c0e-d8fc-4cb8-b742-4d74e5a46e10"
      },
      "execution_count": 23,
      "outputs": [
        {
          "output_type": "stream",
          "name": "stderr",
          "text": [
            "<ipython-input-23-116912a45b38>:2: SettingWithCopyWarning: \n",
            "A value is trying to be set on a copy of a slice from a DataFrame.\n",
            "Try using .loc[row_indexer,col_indexer] = value instead\n",
            "\n",
            "See the caveats in the documentation: https://pandas.pydata.org/pandas-docs/stable/user_guide/indexing.html#returning-a-view-versus-a-copy\n",
            "  test_df['predicted_sentiment'] = pred_sentiment.flatten() # Add predicted sentiment scores to the test DataFrame\n"
          ]
        }
      ]
    },
    {
      "cell_type": "code",
      "source": [
        "test_df.to_csv('test_df.csv', index=\"False\")"
      ],
      "metadata": {
        "id": "KLG_6uhv8XtI"
      },
      "execution_count": 31,
      "outputs": []
    },
    {
      "cell_type": "code",
      "source": [
        "# Initialize variables to accumulate variations\n",
        "total_variation = {}\n",
        "total_variation_patient = []\n",
        "total_variation_control = []\n",
        "num_conversations_patient = 0\n",
        "num_conversations_control = 0\n",
        "\n",
        "for conversation_id, group in conversations:\n",
        "    # Calculate the sentiment variation for the conversation\n",
        "    variation = group['predicted_sentiment'].iloc[-1] - group['predicted_sentiment'].iloc[0]\n",
        "    total_variation[conversation_id] = variation\n",
        "\n",
        "    # Count the number of conversations for each group\n",
        "    if group['group'].iloc[0] == 'patient':\n",
        "        num_conversations_patient += 1\n",
        "        total_variation_patient.append(variation)\n",
        "    elif group['group'].iloc[0] == 'control':\n",
        "        num_conversations_control += 1\n",
        "        total_variation_control.append(variation)\n",
        "\n",
        "# Calculate averages\n",
        "average_variation_patient = np.mean(total_variation_patient)\n",
        "average_variation_control = np.mean(total_variation_control)\n",
        "\n",
        "# Print average variations and conversation counts\n",
        "print(f\"Average variation for patients: {average_variation_patient}\")\n",
        "print(f\"Average variation for controls: {average_variation_control}\")\n",
        "\n",
        "print(\"Total Variations by Conversation:\", total_variation)\n",
        "print(\"Number of Conversations - Patient:\", num_conversations_patient)\n",
        "print(\"Number of Conversations - Control:\", num_conversations_control)\n"
      ],
      "metadata": {
        "colab": {
          "base_uri": "https://localhost:8080/"
        },
        "id": "qWGPeWc-8bZ3",
        "outputId": "ada3d00e-d9d0-4faf-b5cf-e7aa4351a7c8"
      },
      "execution_count": 24,
      "outputs": [
        {
          "output_type": "stream",
          "name": "stdout",
          "text": [
            "Average variation for patients: -0.11709243059158325\n",
            "Average variation for controls: 0.019154246896505356\n",
            "Total Variations by Conversation: {'50-2': -0.817023, '59-1': -0.027011992, '60-2': -0.5676409, '67-1': -0.20080702, '74-1': -0.4176238, 'Baycrest10599a': -0.35845867, 'Baycrest2571a': -0.3905497, 'Baycrest6819a': -0.90783703, 'Baycrest8673a': -0.8692293, 'MSUC01b': 0.026292969, 'MSUC03b': 0.046927445, 'MSUC05b': 0.17058834, 'MSUC07a': -0.093881875, 'MSUC07b': 0.35092947, 'UMD14': 0.14956535, 'UMD16': 0.0049554976, 'adler07a': -0.02544065, 'adler14a': -0.01076848, 'adler18a': -0.0077468315, 'adler19a': 0.0006573587, 'adler22a': 0.04664912, 'adler25a': 0.016595574, 'kurland02f': -0.03483128, 'kurland05a': 0.20871645, 'kurland06a': -0.5534714, 'kurland08c': -0.0061755194, 'kurland09c': -0.55406785, 'kurland10b': 0.8984255, 'kurland17a': -0.1010522, 'kurland17b': -0.48170713, 'kurland17c': -0.7627636, 'kurland18d': -0.48097953, 'kurland22e': 0.48130503, 'kurland23e': 0.35655043, 'kurland24c': 0.0032963455, 'kurland24d': -0.00056802575, 'kurland25d': -0.016574927, 'kurland26c': -0.5488771, 'kurland26d': -0.38717017, 'kurland26e': 0.44341943, 'kurland27d': 0.6971634, 'kurland28d': 0.13215843, 'kurland29a': 0.23836511, 'kurland29e': -0.571754, 'scale06a': -0.60977066, 'scale06b': -0.8354495, 'scale11b': -0.013353025, 'scale12a': -0.48283198, 'scale12b': -0.010034034, 'scale12c': -0.4863247, 'scale13a': 0.020464482, 'scale14a': 0.07320274, 'scale15c': -0.007871789, 'scale19a': 0.90920246, 'scale20a': -0.49911684, 'scale30b': -0.49086773, 'tucson08b': -0.47862583, 'tucson09a': -0.17615613, 'tucson13a': -0.50148386, 'tucson17a': 0.6449767, 'tucson18a': 0.014606006, 'tucson20a': 0.006624288, 'williamson02a': -0.46907637, 'williamson07a': -0.002208532, 'williamson10a': 0.0, 'williamson16a': 0.0047639553, 'wright01a': 0.4275264, 'wright08a': 0.43119258, 'wright19a': -0.500985, 'wright20a': 0.3395502, 'wright22a': 0.5682183, 'wright23a': -0.37753808, 'wright24a': -0.5178153, 'wright25a': 0.28128514, 'wright27a': 0.11164591, 'wright37a': -0.1117852, 'wright39a': -0.48964462, 'wright46a': -0.027595181, 'wright53a': 0.59796894, 'wright58a': 0.51899374, 'wright59a': -0.029035818, 'wright61a': 0.37936607, 'wright66a': 0.22975959, 'wright70a': 0.4950331, 'wright72a': 0.06507216, 'wright80a': 0.07525076, 'wright81a': 0.05370845, 'wright86a': -0.023333471, 'wright92a': 0.02510345}\n",
            "Number of Conversations - Patient: 55\n",
            "Number of Conversations - Control: 34\n"
          ]
        }
      ]
    },
    {
      "cell_type": "code",
      "source": [
        "# Histogram of sentiment variations\n",
        "plt.figure(figsize=(12, 6))\n",
        "\n",
        "# Histogram for patients\n",
        "plt.subplot(1, 2, 1)\n",
        "plt.hist(total_variation_patient, bins=20, color='blue', alpha=0.7)\n",
        "plt.title(\"Distribution of Variations - Patients\")\n",
        "plt.xlabel(\"Sentiment Variation\")\n",
        "plt.ylabel(\"Number of Conversations\")\n",
        "\n",
        "# Histogram for control group\n",
        "plt.subplot(1, 2, 2)\n",
        "plt.hist(total_variation_control, bins=20, color='green', alpha=0.7)\n",
        "plt.title(\"Distribution of Variations - Controls\")\n",
        "plt.xlabel(\"Sentiment Variation\")\n",
        "plt.ylabel(\"Number of Conversations\")\n",
        "\n",
        "plt.tight_layout()\n",
        "plt.show()"
      ],
      "metadata": {
        "colab": {
          "base_uri": "https://localhost:8080/",
          "height": 436
        },
        "id": "m4muyzUy9MBz",
        "outputId": "e671ed5f-977a-4659-b3cb-8ab1a931fab3"
      },
      "execution_count": 25,
      "outputs": [
        {
          "output_type": "display_data",
          "data": {
            "text/plain": [
              "<Figure size 1200x600 with 2 Axes>"
            ],
            "image/png": "[encoded data removed]"
          },
          "metadata": {}
        }
      ]
    },
    {
      "cell_type": "code",
      "source": [
        "# Bar Chart\n",
        "# Comparison of the average variations\n",
        "plt.figure(figsize=(6, 4))\n",
        "groups = ['Patient', 'Control']\n",
        "averages = [average_variation_patient, average_variation_control]\n",
        "\n",
        "# Creating a bar chart to compare the averages\n",
        "plt.bar(groups, averages, color=['blue', 'green'])\n",
        "plt.xlabel('Group')\n",
        "plt.ylabel('Average Sentiment Variation')\n",
        "plt.title('Comparison of Average Sentiment Variations')\n",
        "plt.show()"
      ],
      "metadata": {
        "colab": {
          "base_uri": "https://localhost:8080/",
          "height": 410
        },
        "id": "sC8yUGt99Oyb",
        "outputId": "77bfe789-b01e-4e58-f863-a6f212c26dc5"
      },
      "execution_count": 26,
      "outputs": [
        {
          "output_type": "display_data",
          "data": {
            "text/plain": [
              "<Figure size 600x400 with 1 Axes>"
            ],
            "image/png": "[encoded data removed]"
          },
          "metadata": {}
        }
      ]
    },
    {
      "cell_type": "code",
      "source": [
        "# check the normal distribution\n",
        "# Shapiro-Wilk to check if both groups follow a normal distribution\n",
        "# patient group\n",
        "shapiro_test_patient = stats.shapiro(total_variation_patient)\n",
        "print(f\"Shapiro Test for patient group: Statistic={shapiro_test_patient[0]}, p-value={shapiro_test_patient[1]}\")\n",
        "\n",
        "# control group\n",
        "shapiro_test_control = stats.shapiro(total_variation_control)\n",
        "print(f\"Shapiro Test for control group : Statistic={shapiro_test_control[0]}, p-value={shapiro_test_control[1]}\")\n"
      ],
      "metadata": {
        "colab": {
          "base_uri": "https://localhost:8080/"
        },
        "outputId": "ec9efd2c-2798-422f-b579-585b18d89e86",
        "id": "M2DPzB-L9nZ0"
      },
      "execution_count": 27,
      "outputs": [
        {
          "output_type": "stream",
          "name": "stdout",
          "text": [
            "Shapiro Test for patient group: Statistic=0.9284654855728149, p-value=0.0028592695016413927\n",
            "Shapiro Test for control group : Statistic=0.9432607889175415, p-value=0.07713213562965393\n"
          ]
        }
      ]
    },
    {
      "cell_type": "code",
      "source": [
        "#check the homogeneity of variances\n",
        "from scipy.stats import levene\n",
        "\n",
        "# Levene's test to check for homogeneity of variances\n",
        "stat, p_value = levene(total_variation_patient, total_variation_control)\n",
        "\n",
        "print(f\"Levene's Test : Statistic={stat}, p-value={p_value}\")\n",
        "\n",
        "# If p-value > 0.05, it suggests homogeneity of variances"
      ],
      "metadata": {
        "colab": {
          "base_uri": "https://localhost:8080/"
        },
        "outputId": "acf5bb33-f8db-4439-b94b-213563577c1d",
        "id": "7lRxAN_G9nZ_"
      },
      "execution_count": 28,
      "outputs": [
        {
          "output_type": "stream",
          "name": "stdout",
          "text": [
            "Levene's Test : Statistic=0.06138977344495827, p-value=0.8048965154509471\n"
          ]
        }
      ]
    },
    {
      "cell_type": "code",
      "source": [
        "from scipy.stats import ttest_ind\n",
        "\n",
        "# Performing a t-test for independent samples\n",
        "t_stat, p_value = ttest_ind(total_variation_patient, total_variation_control)\n",
        "\n",
        "print(f\"T-test for independent samples :  t-Statistic={t_stat}, p-value={p_value}\")\n",
        "\n",
        "#p-value > 0.05 --> the difference between the means of the two groups is not statistically significant\n",
        "# If p-value > 0.05, it suggests that the difference between the means of the two groups is not statistically significant"
      ],
      "metadata": {
        "colab": {
          "base_uri": "https://localhost:8080/"
        },
        "outputId": "913eefc8-be59-4477-bdcd-f03444a7567f",
        "id": "4nZ0nfMk9naC"
      },
      "execution_count": 29,
      "outputs": [
        {
          "output_type": "stream",
          "name": "stdout",
          "text": [
            "T-test for independent samples :  t-Statistic=-1.5674910317015434, p-value=0.12063016518952482\n"
          ]
        }
      ]
    },
    {
      "cell_type": "code",
      "source": [
        "from scipy.stats import mannwhitneyu\n",
        "\n",
        "# Mann-Whitney U Test\n",
        "u_statistic, p_value = mannwhitneyu(total_variation_patient, total_variation_control, alternative='two-sided')\n",
        "\n",
        "print(f\"TMann-Whitney U Test: U Statistic={u_statistic}, p-value={p_value}\")\n",
        "#-->  p-value >0.05 not significative statistic difference between the two groups\n",
        "# If p-value > 0.05, it indicates no statistically significant difference between the two groups"
      ],
      "metadata": {
        "colab": {
          "base_uri": "https://localhost:8080/"
        },
        "outputId": "da589410-f9d9-47b6-d378-aa2727171739",
        "id": "Zo1-GVMm9naG"
      },
      "execution_count": 30,
      "outputs": [
        {
          "output_type": "stream",
          "name": "stdout",
          "text": [
            "TMann-Whitney U Test: U Statistic=680.0, p-value=0.031634424964491085\n"
          ]
        }
      ]
    }
  ]
}