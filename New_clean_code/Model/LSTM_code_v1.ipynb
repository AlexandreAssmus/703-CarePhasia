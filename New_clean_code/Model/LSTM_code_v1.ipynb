{
  "nbformat": 4,
  "nbformat_minor": 0,
  "metadata": {
    "colab": {
      "provenance": []
    },
    "kernelspec": {
      "name": "python3",
      "display_name": "Python 3"
    },
    "language_info": {
      "name": "python"
    }
  },
  "cells": [
    {
      "cell_type": "code",
      "source": [
        "from google.colab import files"
      ],
      "metadata": {
        "id": "pmshiijttrVw"
      },
      "execution_count": 1,
      "outputs": []
    },
    {
      "cell_type": "code",
      "source": [
        "from google.colab import drive\n",
        "drive.mount('/content/drive')"
      ],
      "metadata": {
        "colab": {
          "base_uri": "https://localhost:8080/"
        },
        "id": "klxSwkvqtxcU",
        "outputId": "b326a9ba-df3a-44b3-cea5-395cf44df270"
      },
      "execution_count": 2,
      "outputs": [
        {
          "output_type": "stream",
          "name": "stdout",
          "text": [
            "Drive already mounted at /content/drive; to attempt to forcibly remount, call drive.mount(\"/content/drive\", force_remount=True).\n"
          ]
        }
      ]
    },
    {
      "cell_type": "code",
      "source": [
        "import os\n",
        "import pandas as pd\n",
        "import re\n",
        "import numpy as np\n",
        "from textblob import TextBlob\n",
        "from sklearn.model_selection import train_test_split\n",
        "from keras.preprocessing.text import Tokenizer\n",
        "from keras.preprocessing.sequence import pad_sequences\n",
        "from keras.layers import Embedding\n",
        "from keras.initializers import Constant\n",
        "from keras.models import Sequential\n",
        "from keras.layers import LSTM, Dense, Dropout\n",
        "from keras.losses import mean_squared_error"
      ],
      "metadata": {
        "id": "rQum3jsn0Bwo"
      },
      "execution_count": 3,
      "outputs": []
    },
    {
      "cell_type": "code",
      "execution_count": 4,
      "metadata": {
        "colab": {
          "base_uri": "https://localhost:8080/"
        },
        "id": "TWj7ydaZrGp1",
        "outputId": "a94ee1a2-3a5b-4a31-9f96-a999d24f10aa"
      },
      "outputs": [
        {
          "output_type": "stream",
          "name": "stdout",
          "text": [
            "/content/drive/MyDrive/703_Project/LSTM\n"
          ]
        }
      ],
      "source": [
        "%cd /content/drive/MyDrive/703_Project/LSTM/"
      ]
    },
    {
      "cell_type": "markdown",
      "source": [
        "**Create combined csv files**\n",
        "\n",
        "\n",
        "\n"
      ],
      "metadata": {
        "id": "n8lPKfzW72qN"
      }
    },
    {
      "cell_type": "code",
      "source": [
        "\"\"\"\n",
        "def process_folder(main_folder_path, group_label):\n",
        "   Traite tous les fichiers CSV dans un dossier et retourne un DataFrame fusionné.\n",
        "    frames = []  # Liste pour stocker les DataFrames de chaque fichier\n",
        "    for subdir, dirs, files in os.walk(main_folder_path):\n",
        "      for filename in files:\n",
        "        if filename.endswith('.csv'):\n",
        "            file_path = os.path.join(subdir, filename)\n",
        "            df = pd.read_csv(file_path)\n",
        "            df['conversation_id'] = filename.split('.')[0]  # Utilisez le nom du fichier comme ID\n",
        "            df['group'] = group_label\n",
        "            df = df[['text', 'conversation_id', 'group']]\n",
        "            frames.append(df)\n",
        "    return pd.concat(frames)\n",
        "\n",
        "# Chemins des dossiers pour les fichiers CSV des groupes contrôle et patient\n",
        "control_main_folder_path = \"Control_csv_data_clean\"\n",
        "patient_main_folder_path = \"Patient_csv_data_clean\"\n",
        "\n",
        "# Traitement des dossiers et fusion des DataFrames\n",
        "control_df = process_folder(control_main_folder_path, 'control')\n",
        "patient_df = process_folder(patient_main_folder_path, 'patient')\n",
        "combined_df = pd.concat([control_df, patient_df])\n",
        "\n",
        "# Enregistrement du DataFrame fusionné dans un nouveau fichier CSV\n",
        "combined_df.to_csv('combined_control_patient_data.csv', index=False)\n",
        "\"\"\""
      ],
      "metadata": {
        "id": "GdcWELd1QSig"
      },
      "execution_count": null,
      "outputs": []
    },
    {
      "cell_type": "markdown",
      "source": [
        "**Step 1 : data split and preprocessing**"
      ],
      "metadata": {
        "id": "zZbZR6heVJto"
      }
    },
    {
      "cell_type": "code",
      "source": [
        "# Charger les données\n",
        "data = pd.read_csv('combined_control_patient_data.csv')\n",
        "data_df = pd.DataFrame(data)\n",
        "\n",
        "# Fonction de nettoyage des données textuelles\n",
        "def clean_text(text):\n",
        "    text = text.lower()\n",
        "    text = re.sub(r\"[^a-zA-Z0-9']\", \" \", text)  # Supprimer les caractères non alphanumériques\n",
        "    text = re.sub(r\"\\s+\", \" \", text)  # Supprimer les espaces supplémentaires\n",
        "    return text\n",
        "\n",
        "# Nettoyage du texte\n",
        "data_df['text'] = data_df['text'].apply(clean_text)\n",
        "\n",
        "\n",
        "# Fonction pour calculer le score de sentiment\n",
        "def sentiment_score(text):\n",
        "    analysis = TextBlob(text)\n",
        "    return analysis.sentiment.polarity  # Retourne un score entre -1 et 1\n",
        "\n",
        "# Appliquer la fonction à chaque réponse\n",
        "data_df['sentiment'] = data_df['text'].apply(sentiment_score)\n",
        "\n",
        "# Groupement des données par conversation_id\n",
        "conversation_ids = data['conversation_id'].unique()\n",
        "np.random.shuffle(conversation_ids)\n",
        "\n",
        "# Division des identifiants de conversation\n",
        "train_size = int(0.8 * len(conversation_ids))\n",
        "val_size = int(0.1 * len(conversation_ids))\n",
        "\n",
        "train_ids = conversation_ids[:train_size]\n",
        "val_ids = conversation_ids[train_size:train_size + val_size]\n",
        "test_ids = conversation_ids[train_size + val_size:]\n",
        "\n",
        "# Sélection des ensembles d'entraînement, de validation et de test\n",
        "train_df = data[data['conversation_id'].isin(train_ids)]\n",
        "val_df = data[data['conversation_id'].isin(val_ids)]\n",
        "test_df = data[data['conversation_id'].isin(test_ids)]\n",
        "\n",
        "# Tokenisation et Padding\n",
        "tokenizer = Tokenizer(num_words=12385)\n",
        "tokenizer.fit_on_texts(data['text'])\n",
        "\n",
        "# Fonction pour tokeniser et pad un DataFrame\n",
        "max_seq_length = 15\n",
        "def prepare_data(df):\n",
        "    sequences = tokenizer.texts_to_sequences(df['text'])\n",
        "    return pad_sequences(sequences, maxlen=max_seq_length)\n",
        "\n",
        "# Préparation des données\n",
        "X_train_padded = prepare_data(train_df)\n",
        "y_train = train_df['sentiment'].values\n",
        "\n",
        "X_val_padded = prepare_data(val_df)\n",
        "y_val = val_df['sentiment'].values\n",
        "\n",
        "X_test_padded = prepare_data(test_df)\n",
        "y_test = test_df['sentiment'].values\n",
        "\n"
      ],
      "metadata": {
        "id": "OetSJvr2Zu25"
      },
      "execution_count": 8,
      "outputs": []
    },
    {
      "cell_type": "code",
      "source": [
        "\"\"\"\n",
        "data_sample_df['text'] = data_sample_df['text'].apply(clean_text)\n",
        "sample_sequences = tokenizer.texts_to_sequences(data_sample_df['text'])\n",
        "sample_padded = pad_sequences(sample_sequences, maxlen=max_seq_length)\n",
        "\"\"\""
      ],
      "metadata": {
        "id": "8SWsv9tawIXl"
      },
      "execution_count": null,
      "outputs": []
    },
    {
      "cell_type": "code",
      "source": [
        "\"\"\"\n",
        "# examiner les séquences tokenisées et les longueurs de séquence\n",
        "for i in range(5):\n",
        "    print(f\"Texte original: {data['text'].iloc[i]}\")\n",
        "    print(f\"Séquence tokenisée: {sequences[i]}\")\n",
        "    print(f\"Longueur de la séquence: {len(sequences[i])}\\n\")\n",
        "\"\"\""
      ],
      "metadata": {
        "id": "n89T2tUZzk6J"
      },
      "execution_count": null,
      "outputs": []
    },
    {
      "cell_type": "markdown",
      "source": [
        "**How to get num_words and max_seq_length**"
      ],
      "metadata": {
        "id": "avCxxitQV8ti"
      }
    },
    {
      "cell_type": "code",
      "source": [
        "# Tokenizer sans limiter le nombre de mots\n",
        "tokenizer = Tokenizer()\n",
        "tokenizer.fit_on_texts(data_df['text'])\n",
        "\n",
        "# Nombre total de mots uniques\n",
        "word_count = len(tokenizer.word_index)\n",
        "print(f\"Nombre total de mots uniques dans le jeu de données : {word_count}\")"
      ],
      "metadata": {
        "colab": {
          "base_uri": "https://localhost:8080/"
        },
        "id": "mxhcvif-QbZe",
        "outputId": "8e3fbf99-ea34-4c3a-ce6d-74c434548254"
      },
      "execution_count": 6,
      "outputs": [
        {
          "output_type": "stream",
          "name": "stdout",
          "text": [
            "Nombre total de mots uniques dans le jeu de données : 12385\n"
          ]
        }
      ]
    },
    {
      "cell_type": "code",
      "source": [
        "text_lengths = [len(text.split()) for text in data_df['text']]\n",
        "print(f\"Moyenne: {np.mean(text_lengths)}\")\n",
        "print(f\"Médiane: {np.median(text_lengths)}\")\n",
        "print(f\"Percentile 90: {np.percentile(text_lengths, 90)}\")"
      ],
      "metadata": {
        "colab": {
          "base_uri": "https://localhost:8080/"
        },
        "id": "7jJF9XKfO7rQ",
        "outputId": "c90d6abd-a2ce-4e7f-894d-d0ad5e236d49"
      },
      "execution_count": 7,
      "outputs": [
        {
          "output_type": "stream",
          "name": "stdout",
          "text": [
            "Moyenne: 7.460360360360361\n",
            "Médiane: 6.0\n",
            "Percentile 90: 15.0\n"
          ]
        }
      ]
    },
    {
      "cell_type": "markdown",
      "source": [
        "**Verifications**"
      ],
      "metadata": {
        "id": "MlDBj_WxzwZR"
      }
    },
    {
      "cell_type": "code",
      "source": [
        "# Vérification des dimensions pour l'entraînement du modèle\n",
        "\n",
        "print(f\"Dimensions de X_train_padded: {X_train_padded.shape}\")\n",
        "print(f\"Dimensions de y_train: {y_train.shape}\")\n",
        "print(f\"Dimensions de X_test_padded: {X_test_padded.shape}\")\n",
        "print(f\"Dimensions de y_test: {y_test.shape}\")\n",
        "print(f\"Dimensions de X_val_padded: {X_val_padded.shape}\")\n",
        "print(f\"Dimensions de y_val: {y_val.shape}\")"
      ],
      "metadata": {
        "colab": {
          "base_uri": "https://localhost:8080/"
        },
        "id": "lrBLloP80xwV",
        "outputId": "3a979532-28de-442d-8806-8fcdc422f5e6"
      },
      "execution_count": 9,
      "outputs": [
        {
          "output_type": "stream",
          "name": "stdout",
          "text": [
            "Dimensions de X_train_padded: (64169, 15)\n",
            "Dimensions de y_train: (64169,)\n",
            "Dimensions de X_test_padded: (8008, 15)\n",
            "Dimensions de y_test: (8008,)\n",
            "Dimensions de X_val_padded: (6633, 15)\n",
            "Dimensions de y_val: (6633,)\n"
          ]
        }
      ]
    },
    {
      "cell_type": "code",
      "source": [
        "print(f\"Dimensions de ids_train: {train_ids.shape}\")\n",
        "print(f\"Dimensions de ids_val: {val_ids.shape}\")\n",
        "print(f\"Dimensions de ids_test: {test_ids.shape}\")"
      ],
      "metadata": {
        "colab": {
          "base_uri": "https://localhost:8080/"
        },
        "id": "YyTwmg2mpYws",
        "outputId": "9ef8499e-f8fb-4011-815b-f4cf685a3716"
      },
      "execution_count": 10,
      "outputs": [
        {
          "output_type": "stream",
          "name": "stdout",
          "text": [
            "Dimensions de ids_train: (357,)\n",
            "Dimensions de ids_val: (44,)\n",
            "Dimensions de ids_test: (46,)\n"
          ]
        }
      ]
    },
    {
      "cell_type": "markdown",
      "source": [
        "**Step 2 : Word Embeddings preparation**"
      ],
      "metadata": {
        "id": "KzRYev-heu2B"
      }
    },
    {
      "cell_type": "code",
      "source": [
        "# Chargement des embeddings GloVe\n",
        "EMBEDDING_DIM = 100  # Par exemple, pour GloVe 6B avec des vecteurs de 100 dimensions\n",
        "embedding_index = {}\n",
        "with open('glove.6B.100d.txt', 'r', encoding='utf-8') as f:\n",
        "    for line in f:\n",
        "        values = line.split()\n",
        "        word = values[0]\n",
        "        coefs = np.asarray(values[1:], dtype='float32')\n",
        "        embedding_index[word] = coefs\n",
        "\n",
        "# Préparation de la matrice d'embedding\n",
        "embedding_matrix = np.zeros((len(tokenizer.word_index) + 1, EMBEDDING_DIM))\n",
        "for word, i in tokenizer.word_index.items():\n",
        "    embedding_vector = embedding_index.get(word)\n",
        "    if embedding_vector is not None:\n",
        "        embedding_matrix[i] = embedding_vector\n",
        "\n",
        "# Création de la couche d'embedding en utilisant la matrice d'embedding\n",
        "embedding_layer = Embedding(len(tokenizer.word_index) + 1,\n",
        "                            EMBEDDING_DIM,\n",
        "                            embeddings_initializer=Constant(embedding_matrix),\n",
        "                            input_length=max_seq_length,\n",
        "                            trainable=False)"
      ],
      "metadata": {
        "id": "tsnVYzk3WJZx"
      },
      "execution_count": 11,
      "outputs": []
    },
    {
      "cell_type": "code",
      "source": [
        "#contrôler la matrice d'embedding\n",
        "print(\"Dimensions de la matrice d'embedding:\", embedding_matrix.shape)"
      ],
      "metadata": {
        "colab": {
          "base_uri": "https://localhost:8080/"
        },
        "id": "ObajGf7Q0mAS",
        "outputId": "60a36c66-750a-4e73-c15b-27b5aa25910c"
      },
      "execution_count": 12,
      "outputs": [
        {
          "output_type": "stream",
          "name": "stdout",
          "text": [
            "Dimensions de la matrice d'embedding: (12386, 100)\n"
          ]
        }
      ]
    },
    {
      "cell_type": "markdown",
      "source": [
        "**Verifications**"
      ],
      "metadata": {
        "id": "pwR3XCzJ2EkS"
      }
    },
    {
      "cell_type": "code",
      "source": [
        "# Tokenizer Vocabulary\n",
        "for word, index in tokenizer.word_index.items():\n",
        "    print(f\"Mot : {word}, Index : {index}\")\n",
        "    if index == 100:  # Afficher les 10 premiers mots\n",
        "        break\n"
      ],
      "metadata": {
        "id": "SaMPliXW1zQA"
      },
      "execution_count": null,
      "outputs": []
    },
    {
      "cell_type": "code",
      "source": [
        "# Correspondence in the Embedding Matrix\n",
        "for word, index in tokenizer.word_index.items():\n",
        "    if word in embedding_index:\n",
        "        print(f\"Le mot '{word}' est dans GloVe.\")\n",
        "    else:\n",
        "        print(f\"Le mot '{word}' n'est pas dans GloVe.\")\n",
        "    if index == 100:  # Vérifier pour les 10 premiers mots\n",
        "        break\n"
      ],
      "metadata": {
        "id": "C9L-nZ0N15Gs"
      },
      "execution_count": null,
      "outputs": []
    },
    {
      "cell_type": "code",
      "source": [
        "# Coverage %\n",
        "total_mots = len(tokenizer.word_index)\n",
        "mots_dans_glove = sum(1 for word in tokenizer.word_index if word in embedding_index)\n",
        "pourcentage_couverture = (mots_dans_glove / total_mots) * 100\n",
        "print(f\"Pourcentage de mots du tokeniseur couverts par GloVe : {pourcentage_couverture}%\")\n"
      ],
      "metadata": {
        "id": "7w7HX2FK17_U",
        "colab": {
          "base_uri": "https://localhost:8080/"
        },
        "outputId": "fd5ca81a-2c85-46fc-8fef-edc8e3d97f04"
      },
      "execution_count": 14,
      "outputs": [
        {
          "output_type": "stream",
          "name": "stdout",
          "text": [
            "Pourcentage de mots du tokeniseur couverts par GloVe : 89.01897456600727%\n"
          ]
        }
      ]
    },
    {
      "cell_type": "markdown",
      "source": [
        "**Step 3 : LSTM model**"
      ],
      "metadata": {
        "id": "X_jpDytJrLRR"
      }
    },
    {
      "cell_type": "code",
      "source": [
        "# Création du modèle LSTM\n",
        "model = Sequential()\n",
        "model.add(embedding_layer)  # Utilisez la couche d'embedding préparée précédemment\n",
        "model.add(LSTM(128, return_sequences=False))  # return_sequences=False pour la dernière couche LSTM\n",
        "model.add(Dropout(0.3))\n",
        "model.add(Dense(1, activation='tanh'))  # Score de sentiment entre -1 et 1\n",
        "\n",
        "model.compile(optimizer='adam', loss='mean_squared_error')\n"
      ],
      "metadata": {
        "id": "zrfjmHAF3vjd"
      },
      "execution_count": 16,
      "outputs": []
    },
    {
      "cell_type": "code",
      "source": [
        "\"\"\"\n",
        "grouped = data.groupby('conversation_id')  # Groupez par ID de conversation\n",
        "X = []\n",
        "\n",
        "for _, group in grouped:\n",
        "    # Tokenisez et paddez chaque réponse dans la conversation\n",
        "    sequences = tokenizer.texts_to_sequences(group['text'])\n",
        "    padded_sequences = pad_sequences(sequences, maxlen=max_seq_length)\n",
        "    X.append(padded_sequences)\n",
        "\n",
        "y = []\n",
        "\n",
        "for _, group in grouped:\n",
        "    sentiment_scores = group['sentiment'].values  # Scores de sentiment pour la conversation\n",
        "    y.append(sentiment_scores)\n",
        "\n",
        "print(y)\n",
        "\"\"\""
      ],
      "metadata": {
        "id": "Gr3eh7Tk8G-C"
      },
      "execution_count": null,
      "outputs": []
    },
    {
      "cell_type": "markdown",
      "source": [
        "**Step 4 : Model training**"
      ],
      "metadata": {
        "id": "hFwXnEfjrSDt"
      }
    },
    {
      "cell_type": "code",
      "source": [
        "from keras.callbacks import EarlyStopping\n",
        "\n",
        "early_stopping = EarlyStopping(monitor='val_loss', patience=10)\n",
        "\n",
        "# Entraînement du modèle avec Early Stopping\n",
        "model.fit(X_train_padded, y_train, epochs=25, batch_size=64, validation_data=(X_val_padded, y_val), callbacks=[early_stopping])\n",
        "# results --> good behavior, good performance"
      ],
      "metadata": {
        "colab": {
          "base_uri": "https://localhost:8080/"
        },
        "id": "nuSI6ZVQEogo",
        "outputId": "91829b88-c687-4770-aed2-a1b64b181da5"
      },
      "execution_count": 17,
      "outputs": [
        {
          "output_type": "stream",
          "name": "stdout",
          "text": [
            "Epoch 1/25\n",
            "1003/1003 [==============================] - 50s 46ms/step - loss: 0.0306 - val_loss: 0.0177\n",
            "Epoch 2/25\n",
            "1003/1003 [==============================] - 41s 41ms/step - loss: 0.0183 - val_loss: 0.0130\n",
            "Epoch 3/25\n",
            "1003/1003 [==============================] - 43s 43ms/step - loss: 0.0145 - val_loss: 0.0105\n",
            "Epoch 4/25\n",
            "1003/1003 [==============================] - 46s 46ms/step - loss: 0.0117 - val_loss: 0.0085\n",
            "Epoch 5/25\n",
            "1003/1003 [==============================] - 42s 42ms/step - loss: 0.0100 - val_loss: 0.0076\n",
            "Epoch 6/25\n",
            "1003/1003 [==============================] - 44s 43ms/step - loss: 0.0087 - val_loss: 0.0067\n",
            "Epoch 7/25\n",
            "1003/1003 [==============================] - 41s 41ms/step - loss: 0.0078 - val_loss: 0.0063\n",
            "Epoch 8/25\n",
            "1003/1003 [==============================] - 41s 41ms/step - loss: 0.0071 - val_loss: 0.0061\n",
            "Epoch 9/25\n",
            "1003/1003 [==============================] - 41s 41ms/step - loss: 0.0064 - val_loss: 0.0058\n",
            "Epoch 10/25\n",
            "1003/1003 [==============================] - 41s 41ms/step - loss: 0.0058 - val_loss: 0.0054\n",
            "Epoch 11/25\n",
            "1003/1003 [==============================] - 46s 46ms/step - loss: 0.0053 - val_loss: 0.0052\n",
            "Epoch 12/25\n",
            "1003/1003 [==============================] - 41s 41ms/step - loss: 0.0048 - val_loss: 0.0051\n",
            "Epoch 13/25\n",
            "1003/1003 [==============================] - 42s 42ms/step - loss: 0.0045 - val_loss: 0.0050\n",
            "Epoch 14/25\n",
            "1003/1003 [==============================] - 40s 40ms/step - loss: 0.0042 - val_loss: 0.0052\n",
            "Epoch 15/25\n",
            "1003/1003 [==============================] - 43s 43ms/step - loss: 0.0039 - val_loss: 0.0049\n",
            "Epoch 16/25\n",
            "1003/1003 [==============================] - 42s 41ms/step - loss: 0.0037 - val_loss: 0.0052\n",
            "Epoch 17/25\n",
            "1003/1003 [==============================] - 42s 42ms/step - loss: 0.0035 - val_loss: 0.0047\n",
            "Epoch 18/25\n",
            "1003/1003 [==============================] - 42s 42ms/step - loss: 0.0033 - val_loss: 0.0044\n",
            "Epoch 19/25\n",
            "1003/1003 [==============================] - 41s 41ms/step - loss: 0.0031 - val_loss: 0.0047\n",
            "Epoch 20/25\n",
            "1003/1003 [==============================] - 44s 44ms/step - loss: 0.0029 - val_loss: 0.0048\n",
            "Epoch 21/25\n",
            "1003/1003 [==============================] - 40s 40ms/step - loss: 0.0028 - val_loss: 0.0046\n",
            "Epoch 22/25\n",
            "1003/1003 [==============================] - 43s 43ms/step - loss: 0.0027 - val_loss: 0.0045\n",
            "Epoch 23/25\n",
            "1003/1003 [==============================] - 40s 40ms/step - loss: 0.0026 - val_loss: 0.0043\n",
            "Epoch 24/25\n",
            "1003/1003 [==============================] - 43s 43ms/step - loss: 0.0025 - val_loss: 0.0045\n",
            "Epoch 25/25\n",
            "1003/1003 [==============================] - 42s 41ms/step - loss: 0.0025 - val_loss: 0.0043\n"
          ]
        },
        {
          "output_type": "execute_result",
          "data": {
            "text/plain": [
              "<keras.src.callbacks.History at 0x79cced919ed0>"
            ]
          },
          "metadata": {},
          "execution_count": 17
        }
      ]
    },
    {
      "cell_type": "markdown",
      "source": [
        "**Step 5 : Model evaluation**"
      ],
      "metadata": {
        "id": "vuDShrV4ra5V"
      }
    },
    {
      "cell_type": "code",
      "source": [
        "# Évaluation du Modèle sur l'Ensemble de Test\n",
        "test_loss = model.evaluate(X_test_padded, y_test)\n",
        "print(f\"Perte sur l'ensemble de test: {test_loss}\")\n"
      ],
      "metadata": {
        "colab": {
          "base_uri": "https://localhost:8080/"
        },
        "id": "RYTUroeuT0i_",
        "outputId": "997553e2-94b9-4c91-8851-cbd078fd3638"
      },
      "execution_count": 18,
      "outputs": [
        {
          "output_type": "stream",
          "name": "stdout",
          "text": [
            "251/251 [==============================] - 4s 16ms/step - loss: 0.0053\n",
            "Perte sur l'ensemble de test: 0.005294329486787319\n"
          ]
        }
      ]
    },
    {
      "cell_type": "code",
      "source": [
        "# Prédiction des Sentiments sur l'Ensemble de Test\n",
        "pred_sentiment = model.predict(X_test_padded)"
      ],
      "metadata": {
        "colab": {
          "base_uri": "https://localhost:8080/"
        },
        "id": "0Sq4VckgaY6g",
        "outputId": "a3cdd493-aa45-428c-92cf-44fa4e970eea"
      },
      "execution_count": 19,
      "outputs": [
        {
          "output_type": "stream",
          "name": "stdout",
          "text": [
            "251/251 [==============================] - 4s 15ms/step\n"
          ]
        }
      ]
    },
    {
      "cell_type": "code",
      "source": [
        "from sklearn.metrics import mean_squared_error, mean_absolute_error\n",
        "\n",
        "# Calcul des métriques de régression\n",
        "mse = mean_squared_error(y_test, pred_sentiment)\n",
        "mae = mean_absolute_error(y_test, pred_sentiment)\n",
        "rmse = np.sqrt(mse)\n",
        "\n",
        "print(f\"MSE(Mean Squared Error): {mse}, MAE(Mean Absolute Error): {mae}, RMSE(Root Mean Squared Error): {rmse}\")\n",
        "#low MSE --> the model, on average, predicts values ​​quite close to the actual values.\n",
        "#low MAE --> low average error per prediction\n",
        "#low RMSE --> low dispersion of errors in the model predictions\n",
        "#the model gives relatively accurate predictions with low errors on the test set.\n"
      ],
      "metadata": {
        "colab": {
          "base_uri": "https://localhost:8080/"
        },
        "id": "EfzazK1yYAdF",
        "outputId": "028f1142-9784-471d-ec4b-fb4fa91f95d7"
      },
      "execution_count": 20,
      "outputs": [
        {
          "output_type": "stream",
          "name": "stdout",
          "text": [
            "MSE(Mean Squared Error): 0.0052943295501708815, MAE(Mean Absolute Error): 0.030618040599591684, RMSE(Root Mean Squared Error): 0.0727621436611847\n"
          ]
        }
      ]
    },
    {
      "cell_type": "markdown",
      "source": [
        "**Contextualization**"
      ],
      "metadata": {
        "id": "zEpvlM7ejLx0"
      }
    },
    {
      "cell_type": "code",
      "source": [
        "# Calcul de l'écart-type des scores de sentiment réels\n",
        "ecart_type_sentiment = np.std(data_df['sentiment'])\n",
        "print(f\"Écart-type des scores de sentiment réels: {ecart_type_sentiment}\")\n",
        "\n",
        "# Moyenne absolue des scores de sentiment réels\n",
        "moyenne_absolue_sentiment = np.mean(np.abs(data_df['sentiment']))\n",
        "print(f\"Moyenne absolue des scores de sentiment réels: {moyenne_absolue_sentiment}\")"
      ],
      "metadata": {
        "colab": {
          "base_uri": "https://localhost:8080/"
        },
        "id": "pBt6vUh9e374",
        "outputId": "fe248316-a487-45b8-95e4-af19ab797a57"
      },
      "execution_count": 21,
      "outputs": [
        {
          "output_type": "stream",
          "name": "stdout",
          "text": [
            "Écart-type des scores de sentiment réels: 0.2202848557326425\n",
            "Moyenne absolue des scores de sentiment réels: 0.10087772460610742\n"
          ]
        }
      ]
    },
    {
      "cell_type": "code",
      "source": [
        "\n",
        "# Comparaison de l'RMSE avec l'écart-type\n",
        "print(f\"Le RMSE représente {(rmse / ecart_type_sentiment) * 100:.2f}% de l'écart-type des scores réels.\")\n",
        "# the errors of your sentiment prediction model are quite significant compared to the variability of the real data"
      ],
      "metadata": {
        "colab": {
          "base_uri": "https://localhost:8080/"
        },
        "id": "yMfJSFSoe8iK",
        "outputId": "6a3ff8a8-a592-4f69-fb5c-ca313fc5e01a"
      },
      "execution_count": 22,
      "outputs": [
        {
          "output_type": "stream",
          "name": "stdout",
          "text": [
            "Le RMSE représente 33.03% de l'écart-type des scores réels.\n"
          ]
        }
      ]
    },
    {
      "cell_type": "code",
      "source": [
        "#Comparaison du MSE avec l'écart-type\n",
        "print(f\"Le MSE représente {(mse / ecart_type_sentiment**2) * 100:.2f}% de la variance des scores réels.\")\n",
        "# a small part of the variability in sentiment scores is due to your model's prediction errors --> the model is quite precise\n",
        "\n",
        "# Comparaison du MAE avec la moyenne absolue\n",
        "print(f\"Le MAE représente {(mae / moyenne_absolue_sentiment) * 100:.2f}% de la moyenne absolue des scores réels.\")\n",
        "# the prediction errors, on average, are quite significant compared to the average deviation of the actual scores\n",
        "\n"
      ],
      "metadata": {
        "colab": {
          "base_uri": "https://localhost:8080/"
        },
        "id": "rJ2oWx9xjfI0",
        "outputId": "349e5844-3a25-417a-d03c-7339442e12cd"
      },
      "execution_count": 23,
      "outputs": [
        {
          "output_type": "stream",
          "name": "stdout",
          "text": [
            "Le MSE représente 10.91% de la variance des scores réels.\n",
            "Le MAE représente 30.35% de la moyenne absolue des scores réels.\n"
          ]
        }
      ]
    },
    {
      "cell_type": "code",
      "source": [
        "# Graphique de dispersion\n",
        "plt.scatter(y_test, pred_sentiment)\n",
        "plt.xlabel('Valeurs Réelles')\n",
        "plt.ylabel('Prédictions')\n",
        "plt.title('Valeurs Réelles vs Prédictions')\n",
        "plt.plot([y_test.min(), y_test.max()], [y_test.min(), y_test.max()], 'k--')  # Ligne idéale\n",
        "plt.show()"
      ],
      "metadata": {
        "colab": {
          "base_uri": "https://localhost:8080/",
          "height": 472
        },
        "id": "JmwBk-V8As-Y",
        "outputId": "cbd599cb-54b0-47c3-85b6-18524c694f96"
      },
      "execution_count": 33,
      "outputs": [
        {
          "output_type": "display_data",
          "data": {
            "text/plain": [
              "<Figure size 640x480 with 1 Axes>"
            ],
            "image/png": "[encoded data removed]"
          },
          "metadata": {}
        }
      ]
    },
    {
      "cell_type": "markdown",
      "source": [
        "**Step 6 : Results**"
      ],
      "metadata": {
        "id": "JSLLxxzNfUFY"
      }
    },
    {
      "cell_type": "code",
      "source": [
        "# Créer un DataFrame pour associer les prédictions aux conversations\n",
        "test_df['predicted_sentiment'] = pred_sentiment.flatten()\n",
        "\n",
        "# Grouper par conversation_id\n",
        "conversations = test_df.groupby('conversation_id')\n",
        "evolution_sentiments = {}\n",
        "\n",
        "for conversation_id, group in conversations:\n",
        "    sentiment_debut = group['predicted_sentiment'].iloc[0]\n",
        "    sentiment_fin = group['predicted_sentiment'].iloc[-1]\n",
        "    evolution_sentiments[conversation_id] = sentiment_fin - sentiment_debut\n",
        "\n",
        "evolutions_patient = [evolution_sentiments[cid] for cid, group in conversations if group['group'].iloc[0] == 'patient']\n",
        "evolutions_control = [evolution_sentiments[cid] for cid, group in conversations if group['group'].iloc[0] == 'control']"
      ],
      "metadata": {
        "colab": {
          "base_uri": "https://localhost:8080/"
        },
        "id": "Wgpuxty41bog",
        "outputId": "c7e0c033-eb28-416d-b3cf-f91a810fd60e"
      },
      "execution_count": 24,
      "outputs": [
        {
          "output_type": "stream",
          "name": "stderr",
          "text": [
            "<ipython-input-24-d6b5f769083e>:2: SettingWithCopyWarning: \n",
            "A value is trying to be set on a copy of a slice from a DataFrame.\n",
            "Try using .loc[row_indexer,col_indexer] = value instead\n",
            "\n",
            "See the caveats in the documentation: https://pandas.pydata.org/pandas-docs/stable/user_guide/indexing.html#returning-a-view-versus-a-copy\n",
            "  test_df['predicted_sentiment'] = pred_sentiment.flatten()\n"
          ]
        }
      ]
    },
    {
      "cell_type": "code",
      "source": [
        "test_df.columns"
      ],
      "metadata": {
        "id": "vDbQcQoW5gTR",
        "colab": {
          "base_uri": "https://localhost:8080/"
        },
        "outputId": "5da90467-2ff2-474b-8811-c6f906f2e32d"
      },
      "execution_count": null,
      "outputs": [
        {
          "output_type": "execute_result",
          "data": {
            "text/plain": [
              "Index(['text', 'conversation_id', 'group', 'sentiment', 'predicted_sentiment'], dtype='object')"
            ]
          },
          "metadata": {},
          "execution_count": 20
        }
      ]
    },
    {
      "cell_type": "code",
      "source": [
        "test_df.to_csv('test_df.csv', index=\"False\")"
      ],
      "metadata": {
        "id": "L_11T3h91v4_"
      },
      "execution_count": 25,
      "outputs": []
    },
    {
      "cell_type": "markdown",
      "source": [
        "**Variation totale du sentiment**"
      ],
      "metadata": {
        "id": "zw2B93QBaU57"
      }
    },
    {
      "cell_type": "code",
      "source": [
        "# Initialisation des variables pour accumuler les variations\n",
        "variation_totale = {}\n",
        "variation_totale_patient = []\n",
        "variation_totale_controle = []\n",
        "nombre_conversations_patient = 0\n",
        "nombre_conversations_controle = 0\n",
        "\n",
        "for conversation_id, group in conversations:\n",
        "    # Calcul de la variation du sentiment pour la conversation\n",
        "    variation = group['predicted_sentiment'].iloc[-1] - group['predicted_sentiment'].iloc[0]\n",
        "    variation_totale[conversation_id] = variation\n",
        "\n",
        "    # Compter le nombre de conversations pour chaque groupe\n",
        "    if group['group'].iloc[0] == 'patient':\n",
        "        nombre_conversations_patient += 1\n",
        "        variation_totale_patient.append(variation)\n",
        "    elif group['group'].iloc[0] == 'control':\n",
        "        nombre_conversations_controle += 1\n",
        "        variation_totale_controle.append(variation)\n",
        "\n",
        "# Calcul des moyennes\n",
        "moyenne_variation_patient = np.mean(variation_totale_patient)\n",
        "moyenne_variation_controle = np.mean(variation_totale_controle)\n",
        "\n",
        "print(f\"Moyenne de la variation pour les patients: {moyenne_variation_patient}\")\n",
        "print(f\"Moyenne de la variation pour les contrôles: {moyenne_variation_controle}\")\n",
        "\n",
        "print(\"Variations Totales par Conversation:\", variation_totale)\n",
        "print(\"Nombre de Conversations - Patient:\", nombre_conversations_patient)\n",
        "print(\"Nombre de Conversations - Control:\", nombre_conversations_controle)\n",
        "\n"
      ],
      "metadata": {
        "colab": {
          "base_uri": "https://localhost:8080/"
        },
        "id": "N7PI5ghm5wNz",
        "outputId": "833546e2-0299-423d-dd01-49664be9cc7a"
      },
      "execution_count": 26,
      "outputs": [
        {
          "output_type": "stream",
          "name": "stdout",
          "text": [
            "Moyenne de la variation pour les patients: -0.06101858988404274\n",
            "Moyenne de la variation pour les contrôles: -0.012604392133653164\n",
            "Variations Totales par Conversation: {'50-2': -0.68857914, '52-1': -0.8753988, '59-2': -0.004056436, '67-2': 0.17077458, 'Baycrest10631a': -0.36305204, 'Baycrest11841a': 0.5076356, 'Baycrest12269a': 0.0, 'Baycrest8673a': -0.86250305, 'MSUC02b': 0.008760994, 'MSUC06b': -0.018416546, 'UMD05': -0.1446932, 'adler01a': -0.054357287, 'adler02a': 0.6527903, 'adler08a': 0.50215644, 'adler10a': -0.4988495, 'adler25a': 0.0012675836, 'kurland02a': 0.47068745, 'kurland02d': -0.5120405, 'kurland02f': -0.08717193, 'kurland09b': 0.0, 'kurland12b': 0.9146751, 'kurland12d': 0.5120141, 'kurland16d': -0.0015756842, 'kurland21d': 0.60288423, 'kurland26a': -0.47567627, 'kurland26b': -0.018146103, 'kurland26d': -0.36772582, 'kurland27c': -0.50457656, 'kurland27d': 0.5422316, 'scale05b': 0.47245765, 'scale06d': -0.2734636, 'scale16a': 0.04531096, 'scale34a': -0.47888336, 'tucson06b': 0.016703356, 'tucson08b': -0.50643706, 'tucson18a': -0.0005165102, 'williamson06a': -0.09252882, 'williamson09a': -0.4696851, 'williamson14a': -0.9468796, 'wright102a': 0.3786085, 'wright16a': -0.018055495, 'wright25a': 0.24592364, 'wright49a': -0.33321398, 'wright59a': -0.00824125, 'wright62a': -0.021584308, 'wright85a': 0.45236966}\n",
            "Nombre de Conversations - Patient: 32\n",
            "Nombre de Conversations - Control: 14\n"
          ]
        }
      ]
    },
    {
      "cell_type": "markdown",
      "source": [
        "**Visualisation graphique**"
      ],
      "metadata": {
        "id": "nhJHufK4m1zO"
      }
    },
    {
      "cell_type": "code",
      "source": [
        "import matplotlib.pyplot as plt\n",
        "\n",
        "# Histogramme des variations de sentiment\n",
        "plt.figure(figsize=(12, 6))\n",
        "\n",
        "plt.subplot(1, 2, 1)\n",
        "plt.hist(variation_totale_patient, bins=20, color='blue', alpha=0.7)\n",
        "plt.title(\"Distribution des Variations - Patients\")\n",
        "plt.xlabel(\"Variation de Sentiment\")\n",
        "plt.ylabel(\"Nombre de Conversations\")\n",
        "\n",
        "plt.subplot(1, 2, 2)\n",
        "plt.hist(variation_totale_controle, bins=20, color='green', alpha=0.7)\n",
        "plt.title(\"Distribution des Variations - Contrôles\")\n",
        "plt.xlabel(\"Variation de Sentiment\")\n",
        "plt.ylabel(\"Nombre de Conversations\")\n",
        "\n",
        "plt.tight_layout()\n",
        "plt.show()"
      ],
      "metadata": {
        "colab": {
          "base_uri": "https://localhost:8080/",
          "height": 436
        },
        "id": "JC_BVr5pIWla",
        "outputId": "2475e3d5-ae07-4d61-e4d4-68c7a2e8d562"
      },
      "execution_count": 27,
      "outputs": [
        {
          "output_type": "display_data",
          "data": {
            "text/plain": [
              "<Figure size 1200x600 with 2 Axes>"
            ],
            "image/png": "[encoded data removed]"
          },
          "metadata": {}
        }
      ]
    },
    {
      "cell_type": "code",
      "source": [
        "# Comparaison des moyennes des variations\n",
        "plt.figure(figsize=(6, 4))\n",
        "groupes = ['Patient', 'Control']\n",
        "moyennes = [moyenne_variation_patient, moyenne_variation_controle]\n",
        "\n",
        "plt.bar(groupes, moyennes, color=['blue', 'green'])\n",
        "plt.xlabel('Group')\n",
        "plt.ylabel('Moyenne de Variation de Sentiment')\n",
        "plt.title('Comparaison de la Variation Moyenne des Sentiments')\n",
        "plt.show()\n"
      ],
      "metadata": {
        "colab": {
          "base_uri": "https://localhost:8080/",
          "height": 410
        },
        "id": "WVNikahHI1u3",
        "outputId": "aaff744d-6369-49c0-b9ee-ded244a64428"
      },
      "execution_count": 28,
      "outputs": [
        {
          "output_type": "display_data",
          "data": {
            "text/plain": [
              "<Figure size 600x400 with 1 Axes>"
            ],
            "image/png": "[encoded data removed]"
          },
          "metadata": {}
        }
      ]
    },
    {
      "cell_type": "markdown",
      "source": [
        "**Static analysis**"
      ],
      "metadata": {
        "id": "CW9fFK92pdlS"
      }
    },
    {
      "cell_type": "code",
      "source": [
        "#variation_patient_sqrt = np.sqrt(np.array(variation_totale_patient) + 1)\n"
      ],
      "metadata": {
        "id": "_A1AGRfRr3DG"
      },
      "execution_count": null,
      "outputs": []
    },
    {
      "cell_type": "code",
      "source": [
        "\n",
        "#shapiro_test_patient_transformed = stats.shapiro(variation_patient_sqrt)  # Ou variation_patient_box_cox, variation_patient_sqrt\n",
        "#print(f\"Shapiro Test après transformation: Statistique={shapiro_test_patient_transformed[0]}, p-value={shapiro_test_patient_transformed[1]}\")\n"
      ],
      "metadata": {
        "colab": {
          "base_uri": "https://localhost:8080/"
        },
        "id": "uVqkQre1sASa",
        "outputId": "57bec129-cccb-4014-c880-5a564bddd8ef"
      },
      "execution_count": null,
      "outputs": [
        {
          "output_type": "stream",
          "name": "stdout",
          "text": [
            "Shapiro Test après transformation: Statistique=0.9239652156829834, p-value=0.038470104336738586\n"
          ]
        }
      ]
    },
    {
      "cell_type": "code",
      "source": [
        "# check the normality\n",
        "import scipy.stats as stats\n",
        "\n",
        "# Test de Shapiro-Wilk pour vérifier la normalité\n",
        "# Pour le groupe patient\n",
        "shapiro_test_patient = stats.shapiro(variation_totale_patient)\n",
        "print(f\"Shapiro Test pour le groupe patient: Statistique={shapiro_test_patient[0]}, p-value={shapiro_test_patient[1]}\")\n",
        "\n",
        "# Pour le groupe contrôle\n",
        "shapiro_test_controle = stats.shapiro(variation_totale_controle)\n",
        "print(f\"Shapiro Test pour le groupe contrôle: Statistique={shapiro_test_controle[0]}, p-value={shapiro_test_controle[1]}\")\n"
      ],
      "metadata": {
        "colab": {
          "base_uri": "https://localhost:8080/"
        },
        "id": "ncn8yqa6nSCI",
        "outputId": "b9cbd84c-05bc-4211-9624-112e5469f713"
      },
      "execution_count": 29,
      "outputs": [
        {
          "output_type": "stream",
          "name": "stdout",
          "text": [
            "Shapiro Test pour le groupe patient: Statistique=0.9580698013305664, p-value=0.24303635954856873\n",
            "Shapiro Test pour le groupe contrôle: Statistique=0.9200807809829712, p-value=0.22048410773277283\n"
          ]
        }
      ]
    },
    {
      "cell_type": "code",
      "source": [
        "#check the homogeneity of variances\n",
        "from scipy.stats import levene\n",
        "\n",
        "# Test de Levene pour vérifier l'homogénéité des variances\n",
        "stat, p_value = levene(variation_totale_patient, variation_totale_controle)\n",
        "\n",
        "print(f\"Test de Levene: Statistique={stat}, p-value={p_value}\")\n",
        "\n",
        "# variances are equal"
      ],
      "metadata": {
        "colab": {
          "base_uri": "https://localhost:8080/"
        },
        "id": "YfOasNMk2KZ4",
        "outputId": "93168173-4892-405c-a4a6-e9933e23b74f"
      },
      "execution_count": 30,
      "outputs": [
        {
          "output_type": "stream",
          "name": "stdout",
          "text": [
            "Test de Levene: Statistique=2.0110756020576916, p-value=0.16319854641913137\n"
          ]
        }
      ]
    },
    {
      "cell_type": "code",
      "source": [
        "from scipy.stats import ttest_ind\n",
        "\n",
        "# Effectuer un test t pour échantillons indépendants\n",
        "t_stat, p_value = ttest_ind(variation_totale_patient, variation_totale_controle)\n",
        "\n",
        "print(f\"Test t pour échantillons indépendants: Statistique t={t_stat}, p-value={p_value}\")\n",
        "\n",
        "#p-value > 0.05 --> the difference between the means of the two groups is not statistically significant\n"
      ],
      "metadata": {
        "colab": {
          "base_uri": "https://localhost:8080/"
        },
        "id": "bbn-peL_8TLw",
        "outputId": "d96b32a5-6c51-4fc2-faf2-e9f2ebd8a1df"
      },
      "execution_count": 31,
      "outputs": [
        {
          "output_type": "stream",
          "name": "stdout",
          "text": [
            "Test t pour échantillons indépendants: Statistique t=-0.3431624693597588, p-value=0.7331104792241796\n"
          ]
        }
      ]
    },
    {
      "cell_type": "markdown",
      "source": [
        "Test de Mann-Whitney U"
      ],
      "metadata": {
        "id": "qQd9o7pKOBc1"
      }
    },
    {
      "cell_type": "code",
      "source": [
        "from scipy.stats import mannwhitneyu\n",
        "\n",
        "# Effectuer le test de Mann-Whitney U\n",
        "u_statistic, p_value = mannwhitneyu(variation_totale_patient, variation_totale_controle, alternative='two-sided')\n",
        "\n",
        "print(f\"Test de Mann-Whitney U: U Statistique={u_statistic}, p-value={p_value}\")\n",
        "#-->  p-value pas de différence statistique significative entre les deux groupes"
      ],
      "metadata": {
        "colab": {
          "base_uri": "https://localhost:8080/"
        },
        "id": "f7ARSw3UAhyA",
        "outputId": "295ef163-c6b1-49ff-b763-e62836ae574c"
      },
      "execution_count": 32,
      "outputs": [
        {
          "output_type": "stream",
          "name": "stdout",
          "text": [
            "Test de Mann-Whitney U: U Statistique=210.5, p-value=0.7562906382855821\n"
          ]
        }
      ]
    }
  ]
}