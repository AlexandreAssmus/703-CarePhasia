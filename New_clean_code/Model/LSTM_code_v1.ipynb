{
  "nbformat": 4,
  "nbformat_minor": 0,
  "metadata": {
    "colab": {
      "provenance": []
    },
    "kernelspec": {
      "name": "python3",
      "display_name": "Python 3"
    },
    "language_info": {
      "name": "python"
    }
  },
  "cells": [
    {
      "cell_type": "code",
      "source": [
        "from google.colab import files"
      ],
      "metadata": {
        "id": "pmshiijttrVw"
      },
      "execution_count": 5,
      "outputs": []
    },
    {
      "cell_type": "code",
      "source": [
        "from google.colab import drive\n",
        "drive.mount('/content/drive')"
      ],
      "metadata": {
        "colab": {
          "base_uri": "https://localhost:8080/"
        },
        "id": "klxSwkvqtxcU",
        "outputId": "74540893-f9ce-4536-95d0-ccbfdc99a15e"
      },
      "execution_count": 6,
      "outputs": [
        {
          "output_type": "stream",
          "name": "stdout",
          "text": [
            "Drive already mounted at /content/drive; to attempt to forcibly remount, call drive.mount(\"/content/drive\", force_remount=True).\n"
          ]
        }
      ]
    },
    {
      "cell_type": "markdown",
      "source": [
        "**Libraries importation**"
      ],
      "metadata": {
        "id": "rYslxR_7NPQC"
      }
    },
    {
      "cell_type": "code",
      "source": [
        "import os\n",
        "import pandas as pd\n",
        "import re\n",
        "import numpy as np\n",
        "import matplotlib.pyplot as plt\n",
        "import scipy.stats as stats\n",
        "from textblob import TextBlob\n",
        "from sklearn.model_selection import train_test_split\n",
        "from sklearn.metrics import mean_squared_error, mean_absolute_error\n",
        "from keras.preprocessing.text import Tokenizer\n",
        "from keras.preprocessing.sequence import pad_sequences\n",
        "from keras.layers import Embedding\n",
        "from keras.initializers import Constant\n",
        "from keras.models import Sequential\n",
        "from keras.layers import LSTM, Dense, Dropout\n",
        "from keras.losses import mean_squared_error\n",
        "from keras.callbacks import EarlyStopping\n",
        "from sklearn.model_selection import KFold\n",
        "\n"
      ],
      "metadata": {
        "id": "rQum3jsn0Bwo"
      },
      "execution_count": 7,
      "outputs": []
    },
    {
      "cell_type": "code",
      "execution_count": 8,
      "metadata": {
        "colab": {
          "base_uri": "https://localhost:8080/"
        },
        "id": "TWj7ydaZrGp1",
        "outputId": "774c0b7d-059d-4043-ab85-5a6b1881023c"
      },
      "outputs": [
        {
          "output_type": "stream",
          "name": "stdout",
          "text": [
            "/content/drive/MyDrive/703_Project/LSTM\n"
          ]
        }
      ],
      "source": [
        "%cd /content/drive/MyDrive/703_Project/LSTM/"
      ]
    },
    {
      "cell_type": "markdown",
      "source": [
        "**Create combined csv files**\n",
        "\n",
        "\n",
        "\n"
      ],
      "metadata": {
        "id": "n8lPKfzW72qN"
      }
    },
    {
      "cell_type": "code",
      "source": [
        "\"\"\"\n",
        "def process_folder(main_folder_path, group_label):\n",
        "   Traite tous les fichiers CSV dans un dossier et retourne un DataFrame fusionné.\n",
        "    frames = []  # Liste pour stocker les DataFrames de chaque fichier\n",
        "    for subdir, dirs, files in os.walk(main_folder_path):\n",
        "      for filename in files:\n",
        "        if filename.endswith('.csv'):\n",
        "            file_path = os.path.join(subdir, filename)\n",
        "            df = pd.read_csv(file_path)\n",
        "            df['conversation_id'] = filename.split('.')[0]  # Utilisez le nom du fichier comme ID\n",
        "            df['group'] = group_label\n",
        "            df = df[['text', 'conversation_id', 'group']]\n",
        "            frames.append(df)\n",
        "    return pd.concat(frames)\n",
        "\n",
        "# Chemins des dossiers pour les fichiers CSV des groupes contrôle et patient\n",
        "control_main_folder_path = \"Control_csv_data_clean\"\n",
        "patient_main_folder_path = \"Patient_csv_data_clean\"\n",
        "\n",
        "# Traitement des dossiers et fusion des DataFrames\n",
        "control_df = process_folder(control_main_folder_path, 'control')\n",
        "patient_df = process_folder(patient_main_folder_path, 'patient')\n",
        "combined_df = pd.concat([control_df, patient_df])\n",
        "\n",
        "# Enregistrement du DataFrame fusionné dans un nouveau fichier CSV\n",
        "combined_df.to_csv('combined_control_patient_data.csv', index=False)\n",
        "\"\"\""
      ],
      "metadata": {
        "id": "GdcWELd1QSig"
      },
      "execution_count": null,
      "outputs": []
    },
    {
      "cell_type": "markdown",
      "source": [
        "**Step 1 : data split and preprocessing**\n",
        "\n",
        ">\n",
        "\n"
      ],
      "metadata": {
        "id": "zZbZR6heVJto"
      }
    },
    {
      "cell_type": "code",
      "source": [
        "# Charger les données\n",
        "data = pd.read_csv('combined_control_patient_data.csv')\n",
        "data_df = pd.DataFrame(data)\n",
        "\n",
        "# Fonction de nettoyage des données textuelles\n",
        "def clean_text(text):\n",
        "    text = text.lower()\n",
        "    text = re.sub(r\"[^a-zA-Z0-9']\", \" \", text)  # Supprimer les caractères non alphanumériques\n",
        "    text = re.sub(r\"\\s+\", \" \", text)  # Supprimer les espaces supplémentaires\n",
        "    return text\n",
        "\n",
        "# Nettoyage du texte\n",
        "data_df['text'] = data_df['text'].apply(clean_text)\n",
        "\n",
        "\n",
        "# Fonction pour calculer le score de sentiment\n",
        "def sentiment_score(text):\n",
        "    analysis = TextBlob(text)\n",
        "    return analysis.sentiment.polarity  # Retourne un score entre -1 et 1\n",
        "\n",
        "# Appliquer la fonction à chaque réponse\n",
        "data_df['sentiment'] = data_df['text'].apply(sentiment_score)\n",
        "\n",
        "# Groupement des données par conversation_id\n",
        "conversation_ids = data['conversation_id'].unique()\n",
        "np.random.shuffle(conversation_ids)\n",
        "\n",
        "# Division des identifiants de conversation\n",
        "train_size = int(0.8 * len(conversation_ids))\n",
        "val_size = int(0.1 * len(conversation_ids))\n",
        "\n",
        "train_ids = conversation_ids[:train_size]\n",
        "val_ids = conversation_ids[train_size:train_size + val_size]\n",
        "test_ids = conversation_ids[train_size + val_size:]\n",
        "\n",
        "# Sélection des ensembles d'entraînement, de validation et de test\n",
        "train_df = data[data['conversation_id'].isin(train_ids)]\n",
        "val_df = data[data['conversation_id'].isin(val_ids)]\n",
        "test_df = data[data['conversation_id'].isin(test_ids)]\n",
        "\n",
        "# Tokenisation et Padding\n",
        "tokenizer = Tokenizer(num_words=12385)\n",
        "tokenizer.fit_on_texts(data['text'])\n",
        "\n",
        "# Fonction pour tokeniser et pad un DataFrame\n",
        "max_seq_length = 15\n",
        "def prepare_data(df):\n",
        "    sequences = tokenizer.texts_to_sequences(df['text'])\n",
        "    return pad_sequences(sequences, maxlen=max_seq_length)\n",
        "\n",
        "# Préparation des données\n",
        "X_train_padded = prepare_data(train_df)\n",
        "y_train = train_df['sentiment'].values\n",
        "\n",
        "X_val_padded = prepare_data(val_df)\n",
        "y_val = val_df['sentiment'].values\n",
        "\n",
        "X_test_padded = prepare_data(test_df)\n",
        "y_test = test_df['sentiment'].values\n",
        "\n"
      ],
      "metadata": {
        "id": "OetSJvr2Zu25"
      },
      "execution_count": 30,
      "outputs": []
    },
    {
      "cell_type": "code",
      "source": [
        "\"\"\"\n",
        "data_sample_df['text'] = data_sample_df['text'].apply(clean_text)\n",
        "sample_sequences = tokenizer.texts_to_sequences(data_sample_df['text'])\n",
        "sample_padded = pad_sequences(sample_sequences, maxlen=max_seq_length)\n",
        "\"\"\""
      ],
      "metadata": {
        "id": "8SWsv9tawIXl"
      },
      "execution_count": null,
      "outputs": []
    },
    {
      "cell_type": "code",
      "source": [
        "\"\"\"\n",
        "# examiner les séquences tokenisées et les longueurs de séquence\n",
        "for i in range(5):\n",
        "    print(f\"Texte original: {data['text'].iloc[i]}\")\n",
        "    print(f\"Séquence tokenisée: {sequences[i]}\")\n",
        "    print(f\"Longueur de la séquence: {len(sequences[i])}\\n\")\n",
        "\"\"\""
      ],
      "metadata": {
        "id": "n89T2tUZzk6J"
      },
      "execution_count": null,
      "outputs": []
    },
    {
      "cell_type": "markdown",
      "source": [
        "**How to get num_words and max_seq_length**"
      ],
      "metadata": {
        "id": "avCxxitQV8ti"
      }
    },
    {
      "cell_type": "code",
      "source": [
        "# Tokenizer sans limiter le nombre de mots\n",
        "tokenizer = Tokenizer()\n",
        "tokenizer.fit_on_texts(data_df['text'])\n",
        "\n",
        "# Nombre total de mots uniques\n",
        "word_count = len(tokenizer.word_index)\n",
        "print(f\"Nombre total de mots uniques dans le jeu de données : {word_count}\")"
      ],
      "metadata": {
        "colab": {
          "base_uri": "https://localhost:8080/"
        },
        "id": "mxhcvif-QbZe",
        "outputId": "8e3fbf99-ea34-4c3a-ce6d-74c434548254"
      },
      "execution_count": null,
      "outputs": [
        {
          "output_type": "stream",
          "name": "stdout",
          "text": [
            "Nombre total de mots uniques dans le jeu de données : 12385\n"
          ]
        }
      ]
    },
    {
      "cell_type": "code",
      "source": [
        "text_lengths = [len(text.split()) for text in data_df['text']]\n",
        "print(f\"Moyenne: {np.mean(text_lengths)}\")\n",
        "print(f\"Médiane: {np.median(text_lengths)}\")\n",
        "print(f\"Percentile 90: {np.percentile(text_lengths, 90)}\")"
      ],
      "metadata": {
        "colab": {
          "base_uri": "https://localhost:8080/"
        },
        "id": "7jJF9XKfO7rQ",
        "outputId": "c90d6abd-a2ce-4e7f-894d-d0ad5e236d49"
      },
      "execution_count": null,
      "outputs": [
        {
          "output_type": "stream",
          "name": "stdout",
          "text": [
            "Moyenne: 7.460360360360361\n",
            "Médiane: 6.0\n",
            "Percentile 90: 15.0\n"
          ]
        }
      ]
    },
    {
      "cell_type": "markdown",
      "source": [
        "**Verifications**"
      ],
      "metadata": {
        "id": "MlDBj_WxzwZR"
      }
    },
    {
      "cell_type": "code",
      "source": [
        "# Vérification des dimensions pour l'entraînement du modèle\n",
        "\n",
        "print(f\"Dimensions de X_train_padded: {X_train_padded.shape}\")\n",
        "print(f\"Dimensions de y_train: {y_train.shape}\")\n",
        "print(f\"Dimensions de X_test_padded: {X_test_padded.shape}\")\n",
        "print(f\"Dimensions de y_test: {y_test.shape}\")\n",
        "print(f\"Dimensions de X_val_padded: {X_val_padded.shape}\")\n",
        "print(f\"Dimensions de y_val: {y_val.shape}\")"
      ],
      "metadata": {
        "colab": {
          "base_uri": "https://localhost:8080/"
        },
        "id": "lrBLloP80xwV",
        "outputId": "3a979532-28de-442d-8806-8fcdc422f5e6"
      },
      "execution_count": null,
      "outputs": [
        {
          "output_type": "stream",
          "name": "stdout",
          "text": [
            "Dimensions de X_train_padded: (64169, 15)\n",
            "Dimensions de y_train: (64169,)\n",
            "Dimensions de X_test_padded: (8008, 15)\n",
            "Dimensions de y_test: (8008,)\n",
            "Dimensions de X_val_padded: (6633, 15)\n",
            "Dimensions de y_val: (6633,)\n"
          ]
        }
      ]
    },
    {
      "cell_type": "code",
      "source": [
        "print(f\"Dimensions de ids_train: {train_ids.shape}\")\n",
        "print(f\"Dimensions de ids_val: {val_ids.shape}\")\n",
        "print(f\"Dimensions de ids_test: {test_ids.shape}\")"
      ],
      "metadata": {
        "colab": {
          "base_uri": "https://localhost:8080/"
        },
        "id": "YyTwmg2mpYws",
        "outputId": "9ef8499e-f8fb-4011-815b-f4cf685a3716"
      },
      "execution_count": null,
      "outputs": [
        {
          "output_type": "stream",
          "name": "stdout",
          "text": [
            "Dimensions de ids_train: (357,)\n",
            "Dimensions de ids_val: (44,)\n",
            "Dimensions de ids_test: (46,)\n"
          ]
        }
      ]
    },
    {
      "cell_type": "markdown",
      "source": [
        "**Step 2 : Word Embeddings preparation**"
      ],
      "metadata": {
        "id": "KzRYev-heu2B"
      }
    },
    {
      "cell_type": "code",
      "source": [
        "# Chargement des embeddings GloVe\n",
        "EMBEDDING_DIM = 100  # Par exemple, pour GloVe 6B avec des vecteurs de 100 dimensions\n",
        "embedding_index = {}\n",
        "with open('glove.6B.100d.txt', 'r', encoding='utf-8') as f:\n",
        "    for line in f:\n",
        "        values = line.split()\n",
        "        word = values[0]\n",
        "        coefs = np.asarray(values[1:], dtype='float32')\n",
        "        embedding_index[word] = coefs\n",
        "\n",
        "# Préparation de la matrice d'embedding\n",
        "embedding_matrix = np.zeros((len(tokenizer.word_index) + 1, EMBEDDING_DIM))\n",
        "for word, i in tokenizer.word_index.items():\n",
        "    embedding_vector = embedding_index.get(word)\n",
        "    if embedding_vector is not None:\n",
        "        embedding_matrix[i] = embedding_vector\n",
        "\n",
        "# Création de la couche d'embedding en utilisant la matrice d'embedding\n",
        "embedding_layer = Embedding(len(tokenizer.word_index) + 1,\n",
        "                            EMBEDDING_DIM,\n",
        "                            embeddings_initializer=Constant(embedding_matrix),\n",
        "                            input_length=max_seq_length,\n",
        "                            trainable=False)"
      ],
      "metadata": {
        "id": "tsnVYzk3WJZx"
      },
      "execution_count": 16,
      "outputs": []
    },
    {
      "cell_type": "code",
      "source": [
        "#contrôler la matrice d'embedding\n",
        "print(\"Dimensions de la matrice d'embedding:\", embedding_matrix.shape)"
      ],
      "metadata": {
        "colab": {
          "base_uri": "https://localhost:8080/"
        },
        "id": "ObajGf7Q0mAS",
        "outputId": "60a36c66-750a-4e73-c15b-27b5aa25910c"
      },
      "execution_count": null,
      "outputs": [
        {
          "output_type": "stream",
          "name": "stdout",
          "text": [
            "Dimensions de la matrice d'embedding: (12386, 100)\n"
          ]
        }
      ]
    },
    {
      "cell_type": "markdown",
      "source": [
        "**Verifications**"
      ],
      "metadata": {
        "id": "pwR3XCzJ2EkS"
      }
    },
    {
      "cell_type": "code",
      "source": [
        "# Tokenizer Vocabulary\n",
        "for word, index in tokenizer.word_index.items():\n",
        "    print(f\"Mot : {word}, Index : {index}\")\n",
        "    if index == 100:  # Afficher les 10 premiers mots\n",
        "        break\n"
      ],
      "metadata": {
        "id": "SaMPliXW1zQA"
      },
      "execution_count": null,
      "outputs": []
    },
    {
      "cell_type": "code",
      "source": [
        "# Correspondence in the Embedding Matrix\n",
        "for word, index in tokenizer.word_index.items():\n",
        "    if word in embedding_index:\n",
        "        print(f\"Le mot '{word}' est dans GloVe.\")\n",
        "    else:\n",
        "        print(f\"Le mot '{word}' n'est pas dans GloVe.\")\n",
        "    if index == 100:  # Vérifier pour les 10 premiers mots\n",
        "        break\n"
      ],
      "metadata": {
        "id": "C9L-nZ0N15Gs"
      },
      "execution_count": null,
      "outputs": []
    },
    {
      "cell_type": "code",
      "source": [
        "# Coverage %\n",
        "total_mots = len(tokenizer.word_index)\n",
        "mots_dans_glove = sum(1 for word in tokenizer.word_index if word in embedding_index)\n",
        "pourcentage_couverture = (mots_dans_glove / total_mots) * 100\n",
        "print(f\"Pourcentage de mots du tokeniseur couverts par GloVe : {pourcentage_couverture}%\")\n"
      ],
      "metadata": {
        "id": "7w7HX2FK17_U",
        "colab": {
          "base_uri": "https://localhost:8080/"
        },
        "outputId": "fd5ca81a-2c85-46fc-8fef-edc8e3d97f04"
      },
      "execution_count": null,
      "outputs": [
        {
          "output_type": "stream",
          "name": "stdout",
          "text": [
            "Pourcentage de mots du tokeniseur couverts par GloVe : 89.01897456600727%\n"
          ]
        }
      ]
    },
    {
      "cell_type": "markdown",
      "source": [
        "**Step 3 : LSTM model**"
      ],
      "metadata": {
        "id": "X_jpDytJrLRR"
      }
    },
    {
      "cell_type": "code",
      "source": [
        "# Création du modèle LSTM\n",
        "model = Sequential()\n",
        "model.add(embedding_layer)  # Utilisez la couche d'embedding préparée précédemment\n",
        "model.add(LSTM(128, return_sequences=False))  # return_sequences=False pour la dernière couche LSTM\n",
        "model.add(Dropout(0.3))\n",
        "model.add(Dense(1, activation='tanh'))  # Score de sentiment entre -1 et 1\n",
        "\n",
        "model.compile(optimizer='adam', loss='mean_squared_error')\n"
      ],
      "metadata": {
        "id": "zrfjmHAF3vjd"
      },
      "execution_count": 17,
      "outputs": []
    },
    {
      "cell_type": "code",
      "source": [],
      "metadata": {
        "id": "Gr3eh7Tk8G-C"
      },
      "execution_count": null,
      "outputs": []
    },
    {
      "cell_type": "markdown",
      "source": [
        "**Step 4 : Model training**"
      ],
      "metadata": {
        "id": "hFwXnEfjrSDt"
      }
    },
    {
      "cell_type": "code",
      "source": [
        "from keras.callbacks import EarlyStopping\n",
        "\n",
        "early_stopping = EarlyStopping(monitor='val_loss', patience=10)\n",
        "\n",
        "# Entraînement du modèle avec Early Stopping\n",
        "model.fit(X_train_padded, y_train, epochs=25, batch_size=64, validation_data=(X_val_padded, y_val), callbacks=[early_stopping])\n",
        "# results --> good behavior, good performance"
      ],
      "metadata": {
        "colab": {
          "base_uri": "https://localhost:8080/"
        },
        "id": "nuSI6ZVQEogo",
        "outputId": "91829b88-c687-4770-aed2-a1b64b181da5"
      },
      "execution_count": null,
      "outputs": [
        {
          "output_type": "stream",
          "name": "stdout",
          "text": [
            "Epoch 1/25\n",
            "1003/1003 [==============================] - 50s 46ms/step - loss: 0.0306 - val_loss: 0.0177\n",
            "Epoch 2/25\n",
            "1003/1003 [==============================] - 41s 41ms/step - loss: 0.0183 - val_loss: 0.0130\n",
            "Epoch 3/25\n",
            "1003/1003 [==============================] - 43s 43ms/step - loss: 0.0145 - val_loss: 0.0105\n",
            "Epoch 4/25\n",
            "1003/1003 [==============================] - 46s 46ms/step - loss: 0.0117 - val_loss: 0.0085\n",
            "Epoch 5/25\n",
            "1003/1003 [==============================] - 42s 42ms/step - loss: 0.0100 - val_loss: 0.0076\n",
            "Epoch 6/25\n",
            "1003/1003 [==============================] - 44s 43ms/step - loss: 0.0087 - val_loss: 0.0067\n",
            "Epoch 7/25\n",
            "1003/1003 [==============================] - 41s 41ms/step - loss: 0.0078 - val_loss: 0.0063\n",
            "Epoch 8/25\n",
            "1003/1003 [==============================] - 41s 41ms/step - loss: 0.0071 - val_loss: 0.0061\n",
            "Epoch 9/25\n",
            "1003/1003 [==============================] - 41s 41ms/step - loss: 0.0064 - val_loss: 0.0058\n",
            "Epoch 10/25\n",
            "1003/1003 [==============================] - 41s 41ms/step - loss: 0.0058 - val_loss: 0.0054\n",
            "Epoch 11/25\n",
            "1003/1003 [==============================] - 46s 46ms/step - loss: 0.0053 - val_loss: 0.0052\n",
            "Epoch 12/25\n",
            "1003/1003 [==============================] - 41s 41ms/step - loss: 0.0048 - val_loss: 0.0051\n",
            "Epoch 13/25\n",
            "1003/1003 [==============================] - 42s 42ms/step - loss: 0.0045 - val_loss: 0.0050\n",
            "Epoch 14/25\n",
            "1003/1003 [==============================] - 40s 40ms/step - loss: 0.0042 - val_loss: 0.0052\n",
            "Epoch 15/25\n",
            "1003/1003 [==============================] - 43s 43ms/step - loss: 0.0039 - val_loss: 0.0049\n",
            "Epoch 16/25\n",
            "1003/1003 [==============================] - 42s 41ms/step - loss: 0.0037 - val_loss: 0.0052\n",
            "Epoch 17/25\n",
            "1003/1003 [==============================] - 42s 42ms/step - loss: 0.0035 - val_loss: 0.0047\n",
            "Epoch 18/25\n",
            "1003/1003 [==============================] - 42s 42ms/step - loss: 0.0033 - val_loss: 0.0044\n",
            "Epoch 19/25\n",
            "1003/1003 [==============================] - 41s 41ms/step - loss: 0.0031 - val_loss: 0.0047\n",
            "Epoch 20/25\n",
            "1003/1003 [==============================] - 44s 44ms/step - loss: 0.0029 - val_loss: 0.0048\n",
            "Epoch 21/25\n",
            "1003/1003 [==============================] - 40s 40ms/step - loss: 0.0028 - val_loss: 0.0046\n",
            "Epoch 22/25\n",
            "1003/1003 [==============================] - 43s 43ms/step - loss: 0.0027 - val_loss: 0.0045\n",
            "Epoch 23/25\n",
            "1003/1003 [==============================] - 40s 40ms/step - loss: 0.0026 - val_loss: 0.0043\n",
            "Epoch 24/25\n",
            "1003/1003 [==============================] - 43s 43ms/step - loss: 0.0025 - val_loss: 0.0045\n",
            "Epoch 25/25\n",
            "1003/1003 [==============================] - 42s 41ms/step - loss: 0.0025 - val_loss: 0.0043\n"
          ]
        },
        {
          "output_type": "execute_result",
          "data": {
            "text/plain": [
              "<keras.src.callbacks.History at 0x79cced919ed0>"
            ]
          },
          "metadata": {},
          "execution_count": 17
        }
      ]
    },
    {
      "cell_type": "markdown",
      "source": [
        "**Step 5 : Model evaluation**"
      ],
      "metadata": {
        "id": "vuDShrV4ra5V"
      }
    },
    {
      "cell_type": "code",
      "source": [
        "# Évaluation du Modèle sur l'Ensemble de Test\n",
        "test_loss = model.evaluate(X_test_padded, y_test)\n",
        "print(f\"Perte sur l'ensemble de test: {test_loss}\")\n"
      ],
      "metadata": {
        "colab": {
          "base_uri": "https://localhost:8080/"
        },
        "id": "RYTUroeuT0i_",
        "outputId": "a876d6fd-40df-4df0-f8e7-0b2dbb3652b4"
      },
      "execution_count": 33,
      "outputs": [
        {
          "output_type": "stream",
          "name": "stdout",
          "text": [
            "491/491 [==============================] - 8s 17ms/step - loss: 0.0044\n",
            "Perte sur l'ensemble de test: 0.004400575999170542\n"
          ]
        }
      ]
    },
    {
      "cell_type": "code",
      "source": [
        "# Prédiction des Sentiments sur l'Ensemble de Test\n",
        "pred_sentiment = model.predict(X_test_padded)"
      ],
      "metadata": {
        "colab": {
          "base_uri": "https://localhost:8080/"
        },
        "id": "0Sq4VckgaY6g",
        "outputId": "ac08405f-fb04-474f-e55c-854a1c298a6b"
      },
      "execution_count": 34,
      "outputs": [
        {
          "output_type": "stream",
          "name": "stdout",
          "text": [
            "491/491 [==============================] - 10s 19ms/step\n"
          ]
        }
      ]
    },
    {
      "cell_type": "code",
      "source": [
        "from sklearn.metrics import mean_squared_error, mean_absolute_error\n",
        "\n",
        "# Calcul des métriques de régression\n",
        "mse = mean_squared_error(y_test, pred_sentiment)\n",
        "mae = mean_absolute_error(y_test, pred_sentiment)\n",
        "rmse = np.sqrt(mse)\n",
        "\n",
        "print(f\"MSE(Mean Squared Error): {mse}, MAE(Mean Absolute Error): {mae}, RMSE(Root Mean Squared Error): {rmse}\")\n",
        "#low MSE --> the model, on average, predicts values ​​quite close to the actual values.\n",
        "#low MAE --> low average error per prediction\n",
        "#low RMSE --> low dispersion of errors in the model predictions\n",
        "#the model gives relatively accurate predictions with low errors on the test set.\n"
      ],
      "metadata": {
        "colab": {
          "base_uri": "https://localhost:8080/"
        },
        "id": "EfzazK1yYAdF",
        "outputId": "740abbea-7522-47e6-9e6d-1622f54a3f55"
      },
      "execution_count": 35,
      "outputs": [
        {
          "output_type": "stream",
          "name": "stdout",
          "text": [
            "MSE(Mean Squared Error): 0.00440057495500335, MAE(Mean Absolute Error): 0.032226320567720505, RMSE(Root Mean Squared Error): 0.06633682955194158\n"
          ]
        }
      ]
    },
    {
      "cell_type": "markdown",
      "source": [
        "**Contextualization**"
      ],
      "metadata": {
        "id": "zEpvlM7ejLx0"
      }
    },
    {
      "cell_type": "code",
      "source": [
        "# Calcul de l'écart-type des scores de sentiment réels\n",
        "ecart_type_sentiment = np.std(data_df['sentiment'])\n",
        "print(f\"Écart-type des scores de sentiment réels: {ecart_type_sentiment}\")\n",
        "\n",
        "# Moyenne absolue des scores de sentiment réels\n",
        "moyenne_absolue_sentiment = np.mean(np.abs(data_df['sentiment']))\n",
        "print(f\"Moyenne absolue des scores de sentiment réels: {moyenne_absolue_sentiment}\")"
      ],
      "metadata": {
        "id": "pBt6vUh9e374"
      },
      "execution_count": null,
      "outputs": []
    },
    {
      "cell_type": "code",
      "source": [
        "\n",
        "# Comparaison de l'RMSE avec l'écart-type\n",
        "print(f\"Le RMSE représente {(rmse / ecart_type_sentiment) * 100:.2f}% de l'écart-type des scores réels.\")\n",
        "# the errors of your sentiment prediction model are quite significant compared to the variability of the real data"
      ],
      "metadata": {
        "colab": {
          "base_uri": "https://localhost:8080/"
        },
        "id": "yMfJSFSoe8iK",
        "outputId": "237e1fbc-6c7f-4c64-b903-e37498d2b178"
      },
      "execution_count": 37,
      "outputs": [
        {
          "output_type": "stream",
          "name": "stdout",
          "text": [
            "Le RMSE représente 30.11% de l'écart-type des scores réels.\n"
          ]
        }
      ]
    },
    {
      "cell_type": "code",
      "source": [
        "#Comparaison du MSE avec l'écart-type\n",
        "print(f\"Le MSE représente {(mse / ecart_type_sentiment**2) * 100:.2f}% de la variance des scores réels.\")\n",
        "# a small part of the variability in sentiment scores is due to your model's prediction errors --> the model is quite precise\n",
        "\n",
        "# Comparaison du MAE avec la moyenne absolue\n",
        "print(f\"Le MAE représente {(mae / moyenne_absolue_sentiment) * 100:.2f}% de la moyenne absolue des scores réels.\")\n",
        "# the prediction errors, on average, are quite significant compared to the average deviation of the actual scores\n",
        "\n"
      ],
      "metadata": {
        "colab": {
          "base_uri": "https://localhost:8080/"
        },
        "id": "rJ2oWx9xjfI0",
        "outputId": "38c3cdb7-8adf-48ae-ff70-5cd03229ff80"
      },
      "execution_count": 38,
      "outputs": [
        {
          "output_type": "stream",
          "name": "stdout",
          "text": [
            "Le MSE représente 9.07% de la variance des scores réels.\n",
            "Le MAE représente 31.95% de la moyenne absolue des scores réels.\n"
          ]
        }
      ]
    },
    {
      "cell_type": "code",
      "source": [
        "# Graphique de dispersion\n",
        "plt.scatter(y_test, pred_sentiment)\n",
        "plt.xlabel('Valeurs Réelles')\n",
        "plt.ylabel('Prédictions')\n",
        "plt.title('Valeurs Réelles vs Prédictions')\n",
        "plt.plot([y_test.min(), y_test.max()], [y_test.min(), y_test.max()], 'k--')  # Ligne idéale\n",
        "plt.show()"
      ],
      "metadata": {
        "id": "JmwBk-V8As-Y"
      },
      "execution_count": null,
      "outputs": []
    },
    {
      "cell_type": "markdown",
      "source": [
        "**Step 6 : Results**"
      ],
      "metadata": {
        "id": "JSLLxxzNfUFY"
      }
    },
    {
      "cell_type": "code",
      "source": [
        "# Créer un DataFrame pour associer les prédictions aux conversations\n",
        "test_df['predicted_sentiment'] = pred_sentiment.flatten()\n",
        "\n",
        "# Grouper par conversation_id\n",
        "conversations = test_df.groupby('conversation_id')\n",
        "evolution_sentiments = {}\n",
        "\n",
        "for conversation_id, group in conversations:\n",
        "    sentiment_debut = group['predicted_sentiment'].iloc[0]\n",
        "    sentiment_fin = group['predicted_sentiment'].iloc[-1]\n",
        "    evolution_sentiments[conversation_id] = sentiment_fin - sentiment_debut\n",
        "\n",
        "evolutions_patient = [evolution_sentiments[cid] for cid, group in conversations if group['group'].iloc[0] == 'patient']\n",
        "evolutions_control = [evolution_sentiments[cid] for cid, group in conversations if group['group'].iloc[0] == 'control']"
      ],
      "metadata": {
        "colab": {
          "base_uri": "https://localhost:8080/"
        },
        "id": "Wgpuxty41bog",
        "outputId": "7c3feae3-e484-4e86-a7d8-3b9aff9ab30b"
      },
      "execution_count": 39,
      "outputs": [
        {
          "output_type": "stream",
          "name": "stderr",
          "text": [
            "<ipython-input-39-d6b5f769083e>:2: SettingWithCopyWarning: \n",
            "A value is trying to be set on a copy of a slice from a DataFrame.\n",
            "Try using .loc[row_indexer,col_indexer] = value instead\n",
            "\n",
            "See the caveats in the documentation: https://pandas.pydata.org/pandas-docs/stable/user_guide/indexing.html#returning-a-view-versus-a-copy\n",
            "  test_df['predicted_sentiment'] = pred_sentiment.flatten()\n"
          ]
        }
      ]
    },
    {
      "cell_type": "code",
      "source": [
        "test_df.columns"
      ],
      "metadata": {
        "id": "vDbQcQoW5gTR",
        "colab": {
          "base_uri": "https://localhost:8080/"
        },
        "outputId": "5da90467-2ff2-474b-8811-c6f906f2e32d"
      },
      "execution_count": null,
      "outputs": [
        {
          "output_type": "execute_result",
          "data": {
            "text/plain": [
              "Index(['text', 'conversation_id', 'group', 'sentiment', 'predicted_sentiment'], dtype='object')"
            ]
          },
          "metadata": {},
          "execution_count": 20
        }
      ]
    },
    {
      "cell_type": "code",
      "source": [
        "test_df.to_csv('test_df.csv', index=\"False\")"
      ],
      "metadata": {
        "id": "L_11T3h91v4_"
      },
      "execution_count": 40,
      "outputs": []
    },
    {
      "cell_type": "markdown",
      "source": [
        "**Variation totale du sentiment**"
      ],
      "metadata": {
        "id": "zw2B93QBaU57"
      }
    },
    {
      "cell_type": "code",
      "source": [
        "# Initialisation des variables pour accumuler les variations\n",
        "variation_totale = {}\n",
        "variation_totale_patient = []\n",
        "variation_totale_controle = []\n",
        "nombre_conversations_patient = 0\n",
        "nombre_conversations_controle = 0\n",
        "\n",
        "for conversation_id, group in conversations:\n",
        "    # Calcul de la variation du sentiment pour la conversation\n",
        "    variation = group['predicted_sentiment'].iloc[-1] - group['predicted_sentiment'].iloc[0]\n",
        "    variation_totale[conversation_id] = variation\n",
        "\n",
        "    # Compter le nombre de conversations pour chaque groupe\n",
        "    if group['group'].iloc[0] == 'patient':\n",
        "        nombre_conversations_patient += 1\n",
        "        variation_totale_patient.append(variation)\n",
        "    elif group['group'].iloc[0] == 'control':\n",
        "        nombre_conversations_controle += 1\n",
        "        variation_totale_controle.append(variation)\n",
        "\n",
        "# Calcul des moyennes\n",
        "moyenne_variation_patient = np.mean(variation_totale_patient)\n",
        "moyenne_variation_controle = np.mean(variation_totale_controle)\n",
        "\n",
        "print(f\"Moyenne de la variation pour les patients: {moyenne_variation_patient}\")\n",
        "print(f\"Moyenne de la variation pour les contrôles: {moyenne_variation_controle}\")\n",
        "\n",
        "print(\"Variations Totales par Conversation:\", variation_totale)\n",
        "print(\"Nombre de Conversations - Patient:\", nombre_conversations_patient)\n",
        "print(\"Nombre de Conversations - Control:\", nombre_conversations_controle)\n",
        "\n"
      ],
      "metadata": {
        "colab": {
          "base_uri": "https://localhost:8080/"
        },
        "id": "N7PI5ghm5wNz",
        "outputId": "9c092f83-8212-46d5-c6af-04e75921f67c"
      },
      "execution_count": 41,
      "outputs": [
        {
          "output_type": "stream",
          "name": "stdout",
          "text": [
            "Moyenne de la variation pour les patients: -0.2011728584766388\n",
            "Moyenne de la variation pour les contrôles: -0.14747031033039093\n",
            "Variations Totales par Conversation: {'57-1': -0.4753898, '77-2': -0.58543944, 'Baycrest10599a': -0.36202195, 'Baycrest11752a': -0.8639724, 'Baycrest12073a': -1.1705257, 'Baycrest2571a': -0.3900237, 'Baycrest6819a': -0.79176116, 'MSUC03a': 0.836847, 'MSUC04b': -0.086972155, 'UMD01': -0.4524585, 'UMD03': -0.48971972, 'UMD04': -0.30953228, 'UMD10': -0.48821282, 'UMD12': -0.48410338, 'UMD21': -0.16882557, 'adler02a': 0.6734761, 'adler03a': -0.5094954, 'adler15a': -0.87579024, 'adler19a': -0.011541871, 'kurland01a': -0.01565592, 'kurland02f': -0.07181149, 'kurland04b': 0.12615913, 'kurland09d': -0.013827095, 'kurland12a': -0.0037524616, 'kurland13a': 0.008865248, 'kurland15a': -0.064668335, 'kurland15d': -0.027857494, 'kurland17c': -0.67110956, 'kurland18a': -0.49501234, 'kurland19b': 0.0, 'kurland21b': -0.49886084, 'kurland22a': 0.033121645, 'kurland23c': -0.5079744, 'kurland24a': 0.017374717, 'kurland25c': 0.027078934, 'kurland26c': -0.51716375, 'kurland27c': -0.48913613, 'kurland28a': -0.65711224, 'kurland28c': -0.0064831953, 'kurland29a': 0.25206572, 'kurland29b': 0.48022038, 'kurland29d': 0.008828148, 'scale02b': 0.0032764387, 'scale04a': 0.00019227504, 'scale06d': -0.42896014, 'scale12b': -0.015261393, 'scale12c': -0.48417413, 'scale15a': -0.5114621, 'scale16a': 0.0345633, 'scale17c': 0.0041060336, 'scale18c': -0.026937403, 'scale23a': -0.4549764, 'scale25a': -0.49515104, 'scale26a': 0.008865248, 'scale33a': -0.4407885, 'scale34a': -0.47399426, 'tucson06b': 0.004352671, 'tucson07a': 0.0065049073, 'tucson08b': -0.5019841, 'tucson12a': -0.44514602, 'tucson17a': 0.1536303, 'tucson18a': -0.034522705, 'tucson19a': -0.47438756, 'tucson20a': -0.0043072896, 'williamson06a': -0.012033999, 'williamson09a': -0.49853447, 'williamson10a': 0.0, 'williamson14a': -1.0323143, 'williamson18a': -0.49266544, 'williamson22a': 0.016148606, 'wright14a': -0.50564826, 'wright21a': 0.30023015, 'wright25a': 0.19265914, 'wright26a': -0.4624, 'wright29a': 0.12669694, 'wright32a': -0.06614212, 'wright34a': -0.06563004, 'wright40a': -0.50640607, 'wright42a': 0.71867216, 'wright49a': -0.25041708, 'wright50a': 0.05374196, 'wright53a': 0.4824145, 'wright62a': -0.017748052, 'wright77a': -0.47399426, 'wright80a': 0.030277826, 'wright87a': -0.030703709, 'wright91a': 0.25838947, 'wright97a': 0.0039943196, 'wright98a': 0.7142452}\n",
            "Nombre de Conversations - Patient: 57\n",
            "Nombre de Conversations - Control: 32\n"
          ]
        }
      ]
    },
    {
      "cell_type": "markdown",
      "source": [
        "**Visualisation graphique**"
      ],
      "metadata": {
        "id": "nhJHufK4m1zO"
      }
    },
    {
      "cell_type": "code",
      "source": [
        "import matplotlib.pyplot as plt\n",
        "\n",
        "# Histogramme des variations de sentiment\n",
        "plt.figure(figsize=(12, 6))\n",
        "\n",
        "plt.subplot(1, 2, 1)\n",
        "plt.hist(variation_totale_patient, bins=20, color='blue', alpha=0.7)\n",
        "plt.title(\"Distribution des Variations - Patients\")\n",
        "plt.xlabel(\"Variation de Sentiment\")\n",
        "plt.ylabel(\"Nombre de Conversations\")\n",
        "\n",
        "plt.subplot(1, 2, 2)\n",
        "plt.hist(variation_totale_controle, bins=20, color='green', alpha=0.7)\n",
        "plt.title(\"Distribution des Variations - Contrôles\")\n",
        "plt.xlabel(\"Variation de Sentiment\")\n",
        "plt.ylabel(\"Nombre de Conversations\")\n",
        "\n",
        "plt.tight_layout()\n",
        "plt.show()"
      ],
      "metadata": {
        "colab": {
          "base_uri": "https://localhost:8080/",
          "height": 436
        },
        "id": "JC_BVr5pIWla",
        "outputId": "05c6b571-6b60-4c78-b20b-344fb7d3db4f"
      },
      "execution_count": 42,
      "outputs": [
        {
          "output_type": "display_data",
          "data": {
            "text/plain": [
              "<Figure size 1200x600 with 2 Axes>"
            ],
            "image/png": "[encoded data removed]"
          },
          "metadata": {}
        }
      ]
    },
    {
      "cell_type": "code",
      "source": [
        "# Comparaison des moyennes des variations\n",
        "plt.figure(figsize=(6, 4))\n",
        "groupes = ['Patient', 'Control']\n",
        "moyennes = [moyenne_variation_patient, moyenne_variation_controle]\n",
        "\n",
        "plt.bar(groupes, moyennes, color=['blue', 'green'])\n",
        "plt.xlabel('Group')\n",
        "plt.ylabel('Moyenne de Variation de Sentiment')\n",
        "plt.title('Comparaison de la Variation Moyenne des Sentiments')\n",
        "plt.show()\n"
      ],
      "metadata": {
        "colab": {
          "base_uri": "https://localhost:8080/",
          "height": 410
        },
        "id": "WVNikahHI1u3",
        "outputId": "81940e73-5a89-4512-a292-a97cb6b2c8c8"
      },
      "execution_count": 43,
      "outputs": [
        {
          "output_type": "display_data",
          "data": {
            "text/plain": [
              "<Figure size 600x400 with 1 Axes>"
            ],
            "image/png": "[encoded data removed]"
          },
          "metadata": {}
        }
      ]
    },
    {
      "cell_type": "markdown",
      "source": [
        "**Static analysis**"
      ],
      "metadata": {
        "id": "CW9fFK92pdlS"
      }
    },
    {
      "cell_type": "code",
      "source": [
        "#variation_patient_sqrt = np.sqrt(np.array(variation_totale_patient) + 1)\n"
      ],
      "metadata": {
        "id": "_A1AGRfRr3DG"
      },
      "execution_count": null,
      "outputs": []
    },
    {
      "cell_type": "code",
      "source": [
        "\n",
        "#shapiro_test_patient_transformed = stats.shapiro(variation_patient_sqrt)  # Ou variation_patient_box_cox, variation_patient_sqrt\n",
        "#print(f\"Shapiro Test après transformation: Statistique={shapiro_test_patient_transformed[0]}, p-value={shapiro_test_patient_transformed[1]}\")\n"
      ],
      "metadata": {
        "colab": {
          "base_uri": "https://localhost:8080/"
        },
        "id": "uVqkQre1sASa",
        "outputId": "57bec129-cccb-4014-c880-5a564bddd8ef"
      },
      "execution_count": null,
      "outputs": [
        {
          "output_type": "stream",
          "name": "stdout",
          "text": [
            "Shapiro Test après transformation: Statistique=0.9239652156829834, p-value=0.038470104336738586\n"
          ]
        }
      ]
    },
    {
      "cell_type": "code",
      "source": [
        "# check the normality\n",
        "import scipy.stats as stats\n",
        "\n",
        "# Test de Shapiro-Wilk pour vérifier la normalité\n",
        "# Pour le groupe patient\n",
        "shapiro_test_patient = stats.shapiro(variation_totale_patient)\n",
        "print(f\"Shapiro Test pour le groupe patient: Statistique={shapiro_test_patient[0]}, p-value={shapiro_test_patient[1]}\")\n",
        "\n",
        "# Pour le groupe contrôle\n",
        "shapiro_test_controle = stats.shapiro(variation_totale_controle)\n",
        "print(f\"Shapiro Test pour le groupe contrôle: Statistique={shapiro_test_controle[0]}, p-value={shapiro_test_controle[1]}\")\n"
      ],
      "metadata": {
        "colab": {
          "base_uri": "https://localhost:8080/"
        },
        "id": "ncn8yqa6nSCI",
        "outputId": "d26f14e1-977a-467b-8c98-6fd229132110"
      },
      "execution_count": 45,
      "outputs": [
        {
          "output_type": "stream",
          "name": "stdout",
          "text": [
            "Shapiro Test pour le groupe patient: Statistique=0.8898577094078064, p-value=8.568270277464762e-05\n",
            "Shapiro Test pour le groupe contrôle: Statistique=0.9697996973991394, p-value=0.4938863515853882\n"
          ]
        }
      ]
    },
    {
      "cell_type": "code",
      "source": [
        "#check the homogeneity of variances\n",
        "from scipy.stats import levene\n",
        "\n",
        "# Test de Levene pour vérifier l'homogénéité des variances\n",
        "stat, p_value = levene(variation_totale_patient, variation_totale_controle)\n",
        "\n",
        "print(f\"Test de Levene: Statistique={stat}, p-value={p_value}\")\n",
        "\n",
        "# variances are equal"
      ],
      "metadata": {
        "colab": {
          "base_uri": "https://localhost:8080/"
        },
        "id": "YfOasNMk2KZ4",
        "outputId": "5160ae15-3cea-4932-bee6-8f4b0a1d11eb"
      },
      "execution_count": 46,
      "outputs": [
        {
          "output_type": "stream",
          "name": "stdout",
          "text": [
            "Test de Levene: Statistique=2.896634928436465, p-value=0.09233571471997856\n"
          ]
        }
      ]
    },
    {
      "cell_type": "code",
      "source": [
        "from scipy.stats import ttest_ind\n",
        "\n",
        "# Effectuer un test t pour échantillons indépendants\n",
        "t_stat, p_value = ttest_ind(variation_totale_patient, variation_totale_controle)\n",
        "\n",
        "print(f\"Test t pour échantillons indépendants: Statistique t={t_stat}, p-value={p_value}\")\n",
        "\n",
        "#p-value > 0.05 --> the difference between the means of the two groups is not statistically significant\n"
      ],
      "metadata": {
        "colab": {
          "base_uri": "https://localhost:8080/"
        },
        "id": "bbn-peL_8TLw",
        "outputId": "8afabb2a-30b8-48ad-f386-ce3f5548722c"
      },
      "execution_count": 47,
      "outputs": [
        {
          "output_type": "stream",
          "name": "stdout",
          "text": [
            "Test t pour échantillons indépendants: Statistique t=-0.6389966460485572, p-value=0.5245039216921175\n"
          ]
        }
      ]
    },
    {
      "cell_type": "markdown",
      "source": [
        "Test de Mann-Whitney U"
      ],
      "metadata": {
        "id": "qQd9o7pKOBc1"
      }
    },
    {
      "cell_type": "code",
      "source": [
        "from scipy.stats import mannwhitneyu\n",
        "\n",
        "# Effectuer le test de Mann-Whitney U\n",
        "u_statistic, p_value = mannwhitneyu(variation_totale_patient, variation_totale_controle, alternative='two-sided')\n",
        "\n",
        "print(f\"Test de Mann-Whitney U: U Statistique={u_statistic}, p-value={p_value}\")\n",
        "#-->  p-value pas de différence statistique significative entre les deux groupes"
      ],
      "metadata": {
        "colab": {
          "base_uri": "https://localhost:8080/"
        },
        "id": "f7ARSw3UAhyA",
        "outputId": "08b62eb8-dd0f-4a2c-c182-7e0e00505854"
      },
      "execution_count": 48,
      "outputs": [
        {
          "output_type": "stream",
          "name": "stdout",
          "text": [
            "Test de Mann-Whitney U: U Statistique=856.5, p-value=0.6381792141166578\n"
          ]
        }
      ]
    },
    {
      "cell_type": "code",
      "source": [],
      "metadata": {
        "id": "9CCRqqD71ZAu"
      },
      "execution_count": null,
      "outputs": []
    },
    {
      "cell_type": "code",
      "source": [],
      "metadata": {
        "id": "NzkV7te71ZOk"
      },
      "execution_count": null,
      "outputs": []
    },
    {
      "cell_type": "markdown",
      "source": [
        "**Test Cross validation**"
      ],
      "metadata": {
        "id": "weC6jUJgc4SM"
      }
    },
    {
      "cell_type": "code",
      "source": [],
      "metadata": {
        "id": "D3F2I-6n2Oyr"
      },
      "execution_count": null,
      "outputs": []
    },
    {
      "cell_type": "markdown",
      "source": [
        "**Step 1 : Data preprocessing and split**"
      ],
      "metadata": {
        "id": "W2i8xVdkNcC7"
      }
    },
    {
      "cell_type": "code",
      "source": [
        "# load the data\n",
        "data = pd.read_csv('combined_control_patient_data.csv')\n",
        "data_df = pd.DataFrame(data) # DataFrame"
      ],
      "metadata": {
        "id": "-v_lzovDQd2n"
      },
      "execution_count": 9,
      "outputs": []
    },
    {
      "cell_type": "code",
      "source": [
        "# Text data cleaning function\n",
        "def clean_text(text):\n",
        "    text = text.lower()\n",
        "    text = re.sub(r\"[^a-zA-Z0-9']\", \" \", text) # Remove non-alphanumeric characters\n",
        "    text = re.sub(r\"\\s+\", \" \", text)  # Remove extra white spaces\n",
        "    return text\n",
        "\n",
        "# Text cleaning\n",
        "data_df['text'] = data_df['text'].apply(clean_text)"
      ],
      "metadata": {
        "id": "Rhe0d-clRSOT"
      },
      "execution_count": 10,
      "outputs": []
    },
    {
      "cell_type": "code",
      "source": [
        "# Function to calculate sentiment score\n",
        "def sentiment_score(text):\n",
        "    analysis = TextBlob(text) # Creating a TextBlob object from the given text\n",
        "    return analysis.sentiment.polarity  # Returns the sentiment polarity calculated by TextBlob, he polarity is a floating-point score ranging from -1 (negative) to 1 (positive)\n",
        "\n",
        "# Apply the sentiment score calculation function to each text in the 'text' column of the DataFrame\n",
        "#The result is stored in a new column 'sentiment' in the DataFrame\n",
        "data_df['sentiment'] = data_df['text'].apply(sentiment_score)"
      ],
      "metadata": {
        "id": "Had-inrOSOY4"
      },
      "execution_count": 11,
      "outputs": []
    },
    {
      "cell_type": "code",
      "source": [
        "# Grouping data by conversation_id\n",
        "conversation_ids = data['conversation_id'].unique() # Extract unique conversation IDs from the data\n",
        "np.random.shuffle(conversation_ids) # Shuffle the conversation IDs for randomness\n",
        "\n",
        "# Splitting conversation IDs for training, validation, and testing\n",
        "train_size = int(0.8 * len(conversation_ids)) # 80 % of data for training\n",
        "#val_size = int(0.1 * len(conversation_ids)) # 10% of data for validation\n",
        "test_size = int(0.2 * len(conversation_ids))  # 20% of data for testing\n",
        "\n",
        "# Assigning conversation IDs to each dataset\n",
        "train_ids = conversation_ids[:train_size] # IDs for training set\n",
        "#val_ids = conversation_ids[train_size:train_size + val_size] #IDs for validation set\n",
        "test_ids = conversation_ids[train_size:] #IDS for test set\n",
        "\n",
        "# Selecting the training, validation, and test sets based on conversation IDs\n",
        "train_df = data[data['conversation_id'].isin(train_ids)] # Training data frame\n",
        "#val_df = data[data['conversation_id'].isin(val_ids)] # Validation data frame\n",
        "test_df = data[data['conversation_id'].isin(test_ids)] #test data frame\n"
      ],
      "metadata": {
        "id": "Z8hAgMzdVblA"
      },
      "execution_count": 12,
      "outputs": []
    },
    {
      "cell_type": "code",
      "source": [
        "# Tokenization and Padding\n",
        "tokenizer = Tokenizer(num_words=12385) # Initialize tokenizer with a maximum number of words\n",
        "tokenizer.fit_on_texts(data['text']) # Fit tokenizer on the text data\n",
        "\n",
        "# Function to tokenize and pad a DataFrame\n",
        "max_seq_length = 15 # Setting the maximum sequence length for padding\n",
        "def prepare_data(df):\n",
        "    sequences = tokenizer.texts_to_sequences(df['text']) # Tokenize the text\n",
        "    return pad_sequences(sequences, maxlen=max_seq_length) # Return padded sequences\n"
      ],
      "metadata": {
        "id": "YFdGTPsyVh_H"
      },
      "execution_count": 13,
      "outputs": []
    },
    {
      "cell_type": "markdown",
      "source": [
        "**How to get num_words and max_seq_length**"
      ],
      "metadata": {
        "id": "9g4jH7pLWt1U"
      }
    },
    {
      "cell_type": "code",
      "source": [
        "# Initializing a tokenizer without limiting the number of words\n",
        "tokenizer = Tokenizer() # Create a new Tokenizer instance\n",
        "tokenizer.fit_on_texts(data_df['text']) # Fit the tokenizer on the text data\n",
        "\n",
        "# Calculating the total number of unique words in the dataset\n",
        "word_count = len(tokenizer.word_index)  # Get the length of the word_index\n",
        "print(f\"Nombre total de mots uniques dans le jeu de données : {word_count}\") # Print the total number of unique words\n",
        "\n",
        "text_lengths = [len(text.split()) for text in data_df['text']]\n",
        "print(f\"Moyenne: {np.mean(text_lengths)}\")\n",
        "print(f\"Médiane: {np.median(text_lengths)}\")\n",
        "print(f\"Percentile 90: {np.percentile(text_lengths, 90)}\")"
      ],
      "metadata": {
        "colab": {
          "base_uri": "https://localhost:8080/"
        },
        "id": "w1cbSLAFWr4p",
        "outputId": "77750536-3962-417b-fdfe-07ebdcb9ee59"
      },
      "execution_count": 14,
      "outputs": [
        {
          "output_type": "stream",
          "name": "stdout",
          "text": [
            "Nombre total de mots uniques dans le jeu de données : 12385\n",
            "Moyenne: 7.460360360360361\n",
            "Médiane: 6.0\n",
            "Percentile 90: 15.0\n"
          ]
        }
      ]
    },
    {
      "cell_type": "markdown",
      "source": [
        "**Dimensions verification**"
      ],
      "metadata": {
        "id": "6pmfFobnhmOy"
      }
    },
    {
      "cell_type": "code",
      "source": [
        "#  dimensions of various data frame\n",
        "\n",
        "print(f\"Dimensions of X_train_padded: {X_train_padded.shape}\")\n",
        "\n",
        "\n",
        "print(f\"Dimensions of y_train: {y_train.shape}\")\n",
        "\n",
        "print(f\"Dimensions of X_test_padded: {X_test_padded.shape}\")\n",
        "\n",
        "print(f\"Dimensions of y_test: {y_test.shape}\")\n",
        "\n",
        "print(f\"Dimensions of X_val_padded: {X_val_padded.shape}\")\n",
        "\n",
        "print(f\"Dimensions of y_val: {y_val.shape}\")\n",
        "\n",
        "print(f\"Dimensions of train_ids: {train_ids.shape}\")\n",
        "\n",
        "print(f\"Dimensions of val_ids: {val_ids.shape}\")\n",
        "\n",
        "print(f\"Dimensions of test_ids: {test_ids.shape}\")"
      ],
      "metadata": {
        "id": "5nN0nIRlhrD8"
      },
      "execution_count": null,
      "outputs": []
    },
    {
      "cell_type": "markdown",
      "source": [
        "**Step 2 : Word Embeddings preparation**"
      ],
      "metadata": {
        "id": "HSwHY2FBW5Lq"
      }
    },
    {
      "cell_type": "code",
      "source": [
        "# Loading GloVe embeddings\n",
        "EMBEDDING_DIM = 100  # for GloVe 6B with 100-dimensional vectors\n",
        "embedding_index = {}\n",
        "with open('glove.6B.100d.txt', 'r', encoding='utf-8') as f:\n",
        "    for line in f:\n",
        "        values = line.split()\n",
        "        word = values[0]\n",
        "        coefs = np.asarray(values[1:], dtype='float32')\n",
        "        embedding_index[word] = coefs\n",
        "\n",
        "# Preparing the embedding matrix\n",
        "embedding_matrix = np.zeros((len(tokenizer.word_index) + 1, EMBEDDING_DIM))\n",
        "for word, i in tokenizer.word_index.items():\n",
        "    embedding_vector = embedding_index.get(word)\n",
        "    if embedding_vector is not None:\n",
        "        embedding_matrix[i] = embedding_vector\n",
        "\n",
        "# Creating the embedding layer using the embedding matrix\n",
        "embedding_layer = Embedding(len(tokenizer.word_index) + 1,\n",
        "                            EMBEDDING_DIM,\n",
        "                            embeddings_initializer=Constant(embedding_matrix),\n",
        "                            input_length=max_seq_length,\n",
        "                            trainable=False)"
      ],
      "metadata": {
        "id": "86i2eLHHXAIc"
      },
      "execution_count": 16,
      "outputs": []
    },
    {
      "cell_type": "code",
      "source": [
        "# control the embedding matrix\n",
        "print(\"Embeddingx matrix dimension :\", embedding_matrix.shape)"
      ],
      "metadata": {
        "colab": {
          "base_uri": "https://localhost:8080/"
        },
        "id": "ztH2KrSGfqYA",
        "outputId": "da1ee293-ccec-403a-8160-622f91504767"
      },
      "execution_count": 17,
      "outputs": [
        {
          "output_type": "stream",
          "name": "stdout",
          "text": [
            "Embeddingx matrix dimension : (12386, 100)\n"
          ]
        }
      ]
    },
    {
      "cell_type": "markdown",
      "source": [
        "**Coverage Verification**"
      ],
      "metadata": {
        "id": "hUwR50Xyfzlw"
      }
    },
    {
      "cell_type": "code",
      "source": [
        "# Calculating the percentage of words in the tokenizer that are covered by GloVe embeddings\n",
        "total_words = len(tokenizer.word_index) # Get the total number of unique words in the tokenizer\n",
        "words_in_glove = sum(1 for word in tokenizer.word_index if word in embedding_index) # Count how many of these words are present in the GloVe embeddings\n",
        "coverage_percentage = (words_in_glove / total_words) * 100 # Calculate the coverage percentage: the ratio of words in GloVe to the total words in the tokenizer\n",
        "print(f\"Percentage of tokenizer words covered by GloVe : {coverage_percentage}%\")\n",
        "# 89 % --> good coverage"
      ],
      "metadata": {
        "colab": {
          "base_uri": "https://localhost:8080/"
        },
        "id": "l89-Ar3Of5Aa",
        "outputId": "f33bcc0c-6eec-4641-d1a0-e002e43c36e4"
      },
      "execution_count": 18,
      "outputs": [
        {
          "output_type": "stream",
          "name": "stdout",
          "text": [
            "Percentage of tokenizer words covered by GloVe : 89.01897456600727%\n"
          ]
        }
      ]
    },
    {
      "cell_type": "markdown",
      "source": [
        "**Step 3 : LSTM implementation, training and Cross-Validation Methodology**"
      ],
      "metadata": {
        "id": "pkhUf4DRkR3g"
      }
    },
    {
      "cell_type": "code",
      "source": [
        "# Initialize fold number and number of folds for cross-validation\n",
        "fold_no = 1\n",
        "num_folds = 5\n",
        "kfold = KFold(n_splits=num_folds, shuffle=True) # Create KFold object with 3 splits and shuffling\n",
        "# Initialize early stopping callback\n",
        "#early_stopping = EarlyStopping(monitor='val_loss', patience=10)\n",
        "# Loop through each fold for cross-validation\n",
        "for fold_no, (train_indices, test_indices) in enumerate(kfold.split(conversation_ids), start=1): # Extract train and test IDs for the current fold\n",
        "    # creating an LSTM model and reinitialize it for each fold\n",
        "    model = Sequential() # Initialize a sequential model\n",
        "    model.add(embedding_layer)  # Use the previously prepared embedding layer\n",
        "    model.add(LSTM(128, return_sequences=False))  # return_sequences=False for the last LSTM layer\n",
        "    model.add(Dropout(0.5)) # Add a Dropout layer to prevent overfitting\n",
        "    model.add(Dense(1, activation='tanh'))  # Sentiment score between -1 and 1\n",
        "    model.compile(optimizer='adam', loss='mean_squared_error') # adam is a popular choice and the loss function is mean squared error, typical for regression problems\n",
        "\n",
        "    # Extract train and test IDs for the current fold\n",
        "    train_ids = conversation_ids[train_indices]\n",
        "    test_ids = conversation_ids[test_indices]\n",
        "    #val_ids = conversation_ids[val]\n",
        "\n",
        "    # Select train and test DataFrame based on the conversation IDs\n",
        "    train_df = data[data['conversation_id'].isin(train_ids)]\n",
        "    test_df = data[data['conversation_id'].isin(test_ids)]\n",
        "    #val_df = data[data['conversation_id'].isin(val_ids)]\n",
        "\n",
        "    # Prepare data for training and testing\n",
        "    X_train_padded = prepare_data(train_df)\n",
        "    y_train = train_df['sentiment'].values\n",
        "\n",
        "    X_test_padded = prepare_data(test_df)\n",
        "    y_test = test_df['sentiment'].values\n",
        "\n",
        "    #X_val_padded = prepare_data(val_df)\n",
        "    #y_val = val_df['sentiment'].values\n",
        "\n",
        "    # Model training for the current fold\n",
        "    print(f'Training for fold {fold_no} ...')\n",
        "    model.fit(X_train_padded, y_train, epochs=2, batch_size=64)\n",
        "\n",
        "    # Model Evaluation on the test set\n",
        "    test_loss = model.evaluate(X_test_padded, y_test)\n",
        "    print(f'Perte sur l\\'ensemble de test pour le fold {fold_no}: {test_loss}')\n",
        "\n",
        "    # Increment the fold number\n",
        "    fold_no = fold_no + 1\n"
      ],
      "metadata": {
        "colab": {
          "base_uri": "https://localhost:8080/"
        },
        "id": "bubBka0wskkj",
        "outputId": "209bda37-cd7e-4ddb-db49-9348a5a2b226"
      },
      "execution_count": 37,
      "outputs": [
        {
          "output_type": "stream",
          "name": "stdout",
          "text": [
            "Training for fold 1 ...\n",
            "Epoch 1/2\n",
            "971/971 [==============================] - 40s 39ms/step - loss: 0.0310\n",
            "Epoch 2/2\n",
            "971/971 [==============================] - 42s 43ms/step - loss: 0.0190\n",
            "522/522 [==============================] - 6s 10ms/step - loss: 0.0164\n",
            "Perte sur l'ensemble de test pour le fold 1: 0.01644360087811947\n",
            "Training for fold 2 ...\n",
            "Epoch 1/2\n",
            "972/972 [==============================] - 44s 43ms/step - loss: 0.0328\n",
            "Epoch 2/2\n",
            "972/972 [==============================] - 49s 50ms/step - loss: 0.0196\n",
            "520/520 [==============================] - 7s 10ms/step - loss: 0.0148\n",
            "Perte sur l'ensemble de test pour le fold 2: 0.014775244519114494\n",
            "Training for fold 3 ...\n",
            "Epoch 1/2\n",
            "975/975 [==============================] - 41s 39ms/step - loss: 0.0311\n",
            "Epoch 2/2\n",
            "975/975 [==============================] - 38s 39ms/step - loss: 0.0187\n",
            "515/515 [==============================] - 9s 16ms/step - loss: 0.0158\n",
            "Perte sur l'ensemble de test pour le fold 3: 0.015770895406603813\n",
            "Training for fold 4 ...\n",
            "Epoch 1/2\n",
            "1006/1006 [==============================] - 47s 44ms/step - loss: 0.0316\n",
            "Epoch 2/2\n",
            "1006/1006 [==============================] - 39s 39ms/step - loss: 0.0191\n",
            "453/453 [==============================] - 11s 23ms/step - loss: 0.0143\n",
            "Perte sur l'ensemble de test pour le fold 4: 0.014318082481622696\n",
            "Training for fold 5 ...\n",
            "Epoch 1/2\n",
            "1005/1005 [==============================] - 47s 43ms/step - loss: 0.0308\n",
            "Epoch 2/2\n",
            "1005/1005 [==============================] - 41s 40ms/step - loss: 0.0185\n",
            "455/455 [==============================] - 8s 17ms/step - loss: 0.0165\n",
            "Perte sur l'ensemble de test pour le fold 5: 0.016513414680957794\n"
          ]
        }
      ]
    },
    {
      "cell_type": "markdown",
      "source": [
        "**Model evaluation**"
      ],
      "metadata": {
        "id": "Jel4YiL7yMSZ"
      }
    },
    {
      "cell_type": "code",
      "source": [
        "# Predicting sentiments on the test set\n",
        "pred_sentiment = model.predict(X_test_padded) # Use the model to predict sentiments for the padded test data"
      ],
      "metadata": {
        "colab": {
          "base_uri": "https://localhost:8080/"
        },
        "id": "jUr9mKwGf1nH",
        "outputId": "8217fde7-f12a-4979-a212-be27383923d5"
      },
      "execution_count": 39,
      "outputs": [
        {
          "output_type": "stream",
          "name": "stdout",
          "text": [
            "455/455 [==============================] - 9s 18ms/step\n"
          ]
        }
      ]
    },
    {
      "cell_type": "code",
      "source": [
        "# Calculating regression metrics\n",
        "pred_sentiment = pred_sentiment.flatten()\n",
        "mse = mean_squared_error(y_test, pred_sentiment) # Calculate Mean Squared Error between actual and predicted values\n",
        "mae = mean_absolute_error(y_test, pred_sentiment) # Calculate Mean Absolute Error between actual and predicted values\n",
        "rmse = np.sqrt(mse) # Calculate Root Mean Squared Error\n",
        "\n",
        "print(f\"MSE(Mean Squared Error): {(mse)}, MAE(Mean Absolute Error): {(mae)}, RMSE(Root Mean Squared Error): {(rmse)}\")\n",
        "#low MSE --> the model, on average, predicts values ​​quite close to the actual values.\n",
        "#low MAE --> low average error per prediction\n",
        "#low RMSE --> low dispersion of errors in the model predictions\n",
        "#the model gives relatively accurate predictions with low errors on the test set.\n"
      ],
      "metadata": {
        "colab": {
          "base_uri": "https://localhost:8080/"
        },
        "id": "vP_cJWpsdcO4",
        "outputId": "d0c33a05-dd13-46d3-95d5-e43dd177f355"
      },
      "execution_count": 48,
      "outputs": [
        {
          "output_type": "stream",
          "name": "stdout",
          "text": [
            "MSE(Mean Squared Error): 0.016513409093022346, MAE(Mean Absolute Error): 0.07063780154931704, RMSE(Root Mean Squared Error): 0.12850451469421387\n"
          ]
        }
      ]
    },
    {
      "cell_type": "markdown",
      "source": [
        "**Contextualization of the metrics**"
      ],
      "metadata": {
        "id": "Wv8NfaLJw9E0"
      }
    },
    {
      "cell_type": "code",
      "source": [
        "# Calculating the standard deviation of the actual sentiment score\n",
        "std_dev_sentiment = np.std(data_df['sentiment'])\n",
        "print(f\"Standard deviation of actual sentiment scores: {std_dev_sentiment}\")\n",
        "\n",
        "# Calculating the mean absolute value of the actual sentiment scores\n",
        "mean_abs_sentiment = np.mean(np.abs(data_df['sentiment']))\n",
        "print(f\"Mean absolute of actual sentiment scores: {mean_abs_sentiment}\")"
      ],
      "metadata": {
        "colab": {
          "base_uri": "https://localhost:8080/"
        },
        "id": "Xc9E3lLH7-Bk",
        "outputId": "30e5fae4-058f-46aa-ce82-0f076ed0375c"
      },
      "execution_count": 49,
      "outputs": [
        {
          "output_type": "stream",
          "name": "stdout",
          "text": [
            "Standard deviation of actual sentiment scores: 0.2202848557326425\n",
            "Mean absolute of actual sentiment scores: 0.10087772460610742\n"
          ]
        }
      ]
    },
    {
      "cell_type": "code",
      "source": [
        "# Comparing RMSE with the standard deviation\n",
        "print(f\"Le RMSE représente { (rmse / std_dev_sentiment) * 100:.2f}% de l'écart-type des scores réels.\")\n",
        "# This indicates how significant the errors of your sentiment prediction model are compared to the variability of the real data\n",
        "# the errors of your sentiment prediction model are quite significant compared to the variability of the real data"
      ],
      "metadata": {
        "colab": {
          "base_uri": "https://localhost:8080/"
        },
        "outputId": "c3210b9d-18fa-4fca-ef51-97765bb0f399",
        "id": "XUGC-8iT7-Bm"
      },
      "execution_count": 52,
      "outputs": [
        {
          "output_type": "stream",
          "name": "stdout",
          "text": [
            "Le RMSE représente 58.34% de l'écart-type des scores réels.\n"
          ]
        }
      ]
    },
    {
      "cell_type": "code",
      "source": [
        "# Comparing MSE with the standard deviation\n",
        "print(f\"The MSE represents {(mse / std_dev_sentiment**2) * 100:.2f}% de la variance des scores réels.\")\n",
        "# a small part of the variability in sentiment scores is due to your model's prediction errors --> the model is quite precise"
      ],
      "metadata": {
        "colab": {
          "base_uri": "https://localhost:8080/"
        },
        "id": "8u_SCCFX0deC",
        "outputId": "96eb89a2-0b48-4775-c1ed-1979deda1118"
      },
      "execution_count": 54,
      "outputs": [
        {
          "output_type": "stream",
          "name": "stdout",
          "text": [
            "The MSE represents 34.03% de la variance des scores réels.\n"
          ]
        }
      ]
    },
    {
      "cell_type": "code",
      "source": [
        "# Comparing MAE with the mean absolute\n",
        "print(f\"The MAE represents {(mae / mean_abs_sentiment) * 100:.2f}% de la moyenne absolue des scores réels.\")\n",
        "# the prediction errors, on average, are quite significant compared to the average deviation of the actual scores\n",
        "\n"
      ],
      "metadata": {
        "colab": {
          "base_uri": "https://localhost:8080/"
        },
        "outputId": "c2bc38ce-726a-4027-ea37-428ffb1197a4",
        "id": "XHR4K-u47-Bn"
      },
      "execution_count": 55,
      "outputs": [
        {
          "output_type": "stream",
          "name": "stdout",
          "text": [
            "The MAE represents 70.02% de la moyenne absolue des scores réels.\n"
          ]
        }
      ]
    },
    {
      "cell_type": "markdown",
      "source": [
        "**Graphic visualization**"
      ],
      "metadata": {
        "id": "mmzLJwZoyCT1"
      }
    },
    {
      "cell_type": "code",
      "source": [
        "# Graphique de dispersion\n",
        "plt.scatter(y_test, pred_sentiment)\n",
        "plt.xlabel('Actual Values')\n",
        "plt.ylabel('Predictions')\n",
        "plt.title('Actual vs Predictions')\n",
        "plt.plot([y_test.min(), y_test.max()], [y_test.min(), y_test.max()], 'k--')  # ideal lign\n",
        "plt.show()"
      ],
      "metadata": {
        "colab": {
          "base_uri": "https://localhost:8080/",
          "height": 472
        },
        "id": "3e4J5-eN7-Bp",
        "outputId": "be03fdbd-1843-4c27-ab85-422c243a7160"
      },
      "execution_count": 56,
      "outputs": [
        {
          "output_type": "display_data",
          "data": {
            "text/plain": [
              "<Figure size 640x480 with 1 Axes>"
            ],
            "image/png": "[encoded data removed]"
          },
          "metadata": {}
        }
      ]
    },
    {
      "cell_type": "code",
      "source": [
        "# Creating a DataFrame to associate predictions with conversations\n",
        "test_df['predicted_sentiment'] = pred_sentiment.flatten() # Add predicted sentiment scores to the test DataFrame\n",
        "\n",
        "# Grouping by conversation_id\n",
        "conversations = test_df.groupby('conversation_id') # Group the DataFrame by conversation_id\n",
        "evolution_sentiments = {} # Initialize a dictionary to store the sentiment evolution for each conversation\n",
        "\n",
        "for conversation_id, group in conversations:\n",
        "    sentiment_debut = group['predicted_sentiment'].iloc[0] # Get the first (starting) sentiment prediction of the conversation\n",
        "    sentiment_fin = group['predicted_sentiment'].iloc[-1] # Get the last (ending) sentiment prediction of the conversation\n",
        "    evolution_sentiments[conversation_id] = sentiment_fin - sentiment_debut # Calculate the change in sentiment from start to end and store it in the dictionary\n",
        "\n",
        "#evolutions_patient = [evolution_sentiments[cid] for cid, group in conversations if group['group'].iloc[0] == 'patient']\n",
        "#evolutions_control = [evolution_sentiments[cid] for cid, group in conversations if group['group'].iloc[0] == 'control']"
      ],
      "metadata": {
        "colab": {
          "base_uri": "https://localhost:8080/"
        },
        "id": "ItE5AyQTd6fa",
        "outputId": "7ca384c3-887b-4150-b289-c2614e01d2ee"
      },
      "execution_count": 57,
      "outputs": [
        {
          "output_type": "stream",
          "name": "stderr",
          "text": [
            "<ipython-input-57-116912a45b38>:2: SettingWithCopyWarning: \n",
            "A value is trying to be set on a copy of a slice from a DataFrame.\n",
            "Try using .loc[row_indexer,col_indexer] = value instead\n",
            "\n",
            "See the caveats in the documentation: https://pandas.pydata.org/pandas-docs/stable/user_guide/indexing.html#returning-a-view-versus-a-copy\n",
            "  test_df['predicted_sentiment'] = pred_sentiment.flatten() # Add predicted sentiment scores to the test DataFrame\n"
          ]
        }
      ]
    },
    {
      "cell_type": "code",
      "source": [
        "test_df.to_csv('test_df.csv', index=\"False\")"
      ],
      "metadata": {
        "id": "KLG_6uhv8XtI"
      },
      "execution_count": 41,
      "outputs": []
    },
    {
      "cell_type": "code",
      "source": [
        "# Initialize variables to accumulate variations\n",
        "total_variation = {}\n",
        "total_variation_patient = []\n",
        "total_variation_control = []\n",
        "num_conversations_patient = 0\n",
        "num_conversations_control = 0\n",
        "\n",
        "for conversation_id, group in conversations:\n",
        "    # Calculate the sentiment variation for the conversation\n",
        "    variation = group['predicted_sentiment'].iloc[-1] - group['predicted_sentiment'].iloc[0]\n",
        "    total_variation[conversation_id] = variation\n",
        "\n",
        "    # Count the number of conversations for each group\n",
        "    if group['group'].iloc[0] == 'patient':\n",
        "        num_conversations_patient += 1\n",
        "        total_variation_patient.append(variation)\n",
        "    elif group['group'].iloc[0] == 'control':\n",
        "        num_conversations_control += 1\n",
        "        total_variation_control.append(variation)\n",
        "\n",
        "# Calculate averages\n",
        "average_variation_patient = np.mean(total_variation_patient)\n",
        "average_variation_control = np.mean(total_variation_control)\n",
        "\n",
        "# Print average variations and conversation counts\n",
        "print(f\"Average variation for patients: {average_variation_patient}\")\n",
        "print(f\"Average variation for controls: {average_variation_control}\")\n",
        "\n",
        "print(\"Total Variations by Conversation:\", total_variation)\n",
        "print(\"Number of Conversations - Patient:\", num_conversations_patient)\n",
        "print(\"Number of Conversations - Control:\", num_conversations_control)\n"
      ],
      "metadata": {
        "colab": {
          "base_uri": "https://localhost:8080/"
        },
        "id": "qWGPeWc-8bZ3",
        "outputId": "64991b7d-6f0a-4126-bbef-9ce5a1e4c2b3"
      },
      "execution_count": 58,
      "outputs": [
        {
          "output_type": "stream",
          "name": "stdout",
          "text": [
            "Average variation for patients: -0.21633294224739075\n",
            "Average variation for controls: -0.0058143180795013905\n",
            "Total Variations by Conversation: {'45-1': -0.30902183, '49-2': -0.3562507, '60-1': -0.5992693, '60-2': -0.6897944, '64-1': -0.49963155, '65-1': -0.16016668, '67-1': -0.17318413, '70-2': -0.73156494, '73-2': -0.013447229, '75-1': -0.038640693, '77-1': -0.025984533, 'Baycrest11257a': -0.6980872, 'Baycrest11752a': -0.7875139, 'Baycrest11841a': 0.45330858, 'Baycrest12269a': 0.0, 'Baycrest12272a': -0.3888363, 'Baycrest12370a': -0.8372587, 'MSUC01a': -0.0258634, 'MSUC05a': -0.052598476, 'MSUC05b': -0.0655469, 'MSUC07a': -0.34916732, 'UMD17': 0.055346556, 'UMD21': 0.32809746, 'adler03a': -0.6039555, 'adler04a': -1.1602417e-05, 'adler14a': -0.018153682, 'adler19a': 0.0065064, 'adler22a': -0.012615773, 'adler24a': -0.0018897802, 'kurland02b': -0.48817453, 'kurland06a': -0.6420429, 'kurland07c': 0.010450728, 'kurland10b': 0.6761099, 'kurland14a': -0.46658897, 'kurland15b': -0.006354708, 'kurland15e': 0.0157463, 'kurland16a': -0.70397264, 'kurland17a': -0.046350114, 'kurland18c': -0.8174596, 'kurland20a': 0.0012606725, 'kurland22b': 0.008685544, 'kurland22c': 0.008685544, 'kurland22d': -0.10199255, 'kurland22e': 0.45446423, 'kurland23b': 0.012684621, 'kurland23c': -0.21663368, 'kurland24c': 0.02536753, 'kurland25b': -0.12920308, 'kurland26b': -0.043449126, 'kurland27b': 0.5504714, 'kurland27c': -0.4822904, 'kurland29c': -0.4808844, 'scale05a': 0.07067652, 'scale06b': -0.65575933, 'scale11a': -0.015055294, 'scale11b': -0.056698807, 'scale13a': 0.007269535, 'scale14a': -0.013362281, 'scale15a': -0.47308642, 'scale18b': -0.45868495, 'scale18c': -0.006989017, 'scale22a': -0.46307045, 'scale25a': -0.47615346, 'scale30b': -0.46849796, 'tucson08b': -0.47593713, 'tucson11a': 0.068404905, 'tucson12a': -0.4339191, 'tucson22a': -0.44620723, 'williamson04a': -0.48323733, 'williamson14a': -0.924285, 'williamson15a': 0.06742147, 'williamson21a': -0.4512839, 'williamson22a': -0.019309092, 'wright06a': 0.008648232, 'wright10a': 0.54016465, 'wright12a': -0.09456636, 'wright13a': -0.30014652, 'wright15a': -0.46291715, 'wright16a': -0.065905824, 'wright19a': -0.47145846, 'wright20a': 0.31134522, 'wright34a': -0.012724705, 'wright45a': 0.13278219, 'wright63a': 0.1718137, 'wright69a': 0.58533996, 'wright83a': 0.5145953, 'wright90a': 0.47925258, 'wright91a': 0.13278219, 'wright96a': 0.7363137}\n",
            "Number of Conversations - Patient: 61\n",
            "Number of Conversations - Control: 28\n"
          ]
        }
      ]
    },
    {
      "cell_type": "code",
      "source": [
        "# Histogram of sentiment variations\n",
        "plt.figure(figsize=(12, 6))\n",
        "\n",
        "# Histogram for patients\n",
        "plt.subplot(1, 2, 1)\n",
        "plt.hist(total_variation_patient, bins=20, color='blue', alpha=0.7)\n",
        "plt.title(\"Distribution of Variations - Patients\")\n",
        "plt.xlabel(\"Sentiment Variation\")\n",
        "plt.ylabel(\"Number of Conversations\")\n",
        "\n",
        "# Histogram for control group\n",
        "plt.subplot(1, 2, 2)\n",
        "plt.hist(total_variation_control, bins=20, color='green', alpha=0.7)\n",
        "plt.title(\"Distribution of Variations - Controls\")\n",
        "plt.xlabel(\"Sentiment Variation\")\n",
        "plt.ylabel(\"Number of Conversations\")\n",
        "\n",
        "plt.tight_layout()\n",
        "plt.show()"
      ],
      "metadata": {
        "colab": {
          "base_uri": "https://localhost:8080/",
          "height": 437
        },
        "id": "m4muyzUy9MBz",
        "outputId": "93a2e0ff-d913-4856-8e24-c65fede57e9c"
      },
      "execution_count": 59,
      "outputs": [
        {
          "output_type": "display_data",
          "data": {
            "text/plain": [
              "<Figure size 1200x600 with 2 Axes>"
            ],
            "image/png": "[encoded data removed]"
          },
          "metadata": {}
        }
      ]
    },
    {
      "cell_type": "code",
      "source": [
        "# Bar Chart\n",
        "# Comparison of the average variations\n",
        "plt.figure(figsize=(6, 4))\n",
        "groups = ['Patient', 'Control']\n",
        "averages = [average_variation_patient, average_variation_control]\n",
        "\n",
        "# Creating a bar chart to compare the averages\n",
        "plt.bar(groups, averages, color=['blue', 'green'])\n",
        "plt.xlabel('Group')\n",
        "plt.ylabel('Average Sentiment Variation')\n",
        "plt.title('Comparison of Average Sentiment Variations')\n",
        "plt.show()"
      ],
      "metadata": {
        "colab": {
          "base_uri": "https://localhost:8080/",
          "height": 410
        },
        "id": "sC8yUGt99Oyb",
        "outputId": "11b6f13d-504c-4aaf-d909-7b9e8e288d50"
      },
      "execution_count": 60,
      "outputs": [
        {
          "output_type": "display_data",
          "data": {
            "text/plain": [
              "<Figure size 600x400 with 1 Axes>"
            ],
            "image/png": "[encoded data removed]"
          },
          "metadata": {}
        }
      ]
    },
    {
      "cell_type": "code",
      "source": [
        "# check the normal distribution\n",
        "# Shapiro-Wilk to check if both groups follow a normal distribution\n",
        "# patient group\n",
        "shapiro_test_patient = stats.shapiro(total_variation_patient)\n",
        "print(f\"Shapiro Test for patient group: Statistic={shapiro_test_patient[0]}, p-value={shapiro_test_patient[1]}\")\n",
        "\n",
        "# control group\n",
        "shapiro_test_control = stats.shapiro(total_variation_control)\n",
        "print(f\"Shapiro Test for control group : Statistic={shapiro_test_control[0]}, p-value={shapiro_test_control[1]}\")\n"
      ],
      "metadata": {
        "colab": {
          "base_uri": "https://localhost:8080/"
        },
        "outputId": "64c87d6c-7183-48b6-944e-4cf8b5ffd04f",
        "id": "M2DPzB-L9nZ0"
      },
      "execution_count": 61,
      "outputs": [
        {
          "output_type": "stream",
          "name": "stdout",
          "text": [
            "Shapiro Test for patient group: Statistic=0.9220333099365234, p-value=0.0008324756054207683\n",
            "Shapiro Test for control group : Statistic=0.9673577547073364, p-value=0.5118076801300049\n"
          ]
        }
      ]
    },
    {
      "cell_type": "code",
      "source": [
        "#check the homogeneity of variances\n",
        "from scipy.stats import levene\n",
        "\n",
        "# Levene's test to check for homogeneity of variances\n",
        "stat, p_value = levene(total_variation_patient, total_variation_control)\n",
        "\n",
        "print(f\"Levene's Test : Statistic={stat}, p-value={p_value}\")\n",
        "\n",
        "# If p-value > 0.05, it suggests homogeneity of variances"
      ],
      "metadata": {
        "colab": {
          "base_uri": "https://localhost:8080/"
        },
        "outputId": "c4bafcea-a5c6-40c9-eabb-e56c5ec93fa4",
        "id": "7lRxAN_G9nZ_"
      },
      "execution_count": 62,
      "outputs": [
        {
          "output_type": "stream",
          "name": "stdout",
          "text": [
            "Levene's Test : Statistic=1.0685495941133891, p-value=0.3041382116180743\n"
          ]
        }
      ]
    },
    {
      "cell_type": "code",
      "source": [
        "from scipy.stats import ttest_ind\n",
        "\n",
        "# Performing a t-test for independent samples\n",
        "t_stat, p_value = ttest_ind(total_variation_patient, total_variation_control)\n",
        "\n",
        "print(f\"T-test for independent samples :  t-Statistic={t_stat}, p-value={p_value}\")\n",
        "\n",
        "#p-value > 0.05 --> the difference between the means of the two groups is not statistically significant\n",
        "# If p-value > 0.05, it suggests that the difference between the means of the two groups is not statistically significant"
      ],
      "metadata": {
        "colab": {
          "base_uri": "https://localhost:8080/"
        },
        "outputId": "3706dd72-845d-4753-df22-123a6bde1a10",
        "id": "4nZ0nfMk9naC"
      },
      "execution_count": 63,
      "outputs": [
        {
          "output_type": "stream",
          "name": "stdout",
          "text": [
            "T-test for independent samples :  t-Statistic=-2.5727751098939575, p-value=0.011783732810084225\n"
          ]
        }
      ]
    },
    {
      "cell_type": "code",
      "source": [
        "from scipy.stats import mannwhitneyu\n",
        "\n",
        "# Mann-Whitney U Test\n",
        "u_statistic, p_value = mannwhitneyu(total_variation_patient, total_variation_control, alternative='two-sided')\n",
        "\n",
        "print(f\"TMann-Whitney U Test: U Statistic={u_statistic}, p-value={p_value}\")\n",
        "#-->  p-value >0.05 not significative statistic difference between the two groups\n",
        "# If p-value > 0.05, it indicates no statistically significant difference between the two groups"
      ],
      "metadata": {
        "colab": {
          "base_uri": "https://localhost:8080/"
        },
        "outputId": "e28d8a32-ee54-4080-c8a3-9ac838f36f1d",
        "id": "Zo1-GVMm9naG"
      },
      "execution_count": 64,
      "outputs": [
        {
          "output_type": "stream",
          "name": "stdout",
          "text": [
            "TMann-Whitney U Test: U Statistic=591.0, p-value=0.02037833802096125\n"
          ]
        }
      ]
    }
  ]
}