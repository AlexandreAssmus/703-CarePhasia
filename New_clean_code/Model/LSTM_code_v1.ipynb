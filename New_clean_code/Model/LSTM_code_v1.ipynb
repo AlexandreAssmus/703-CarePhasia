{
  "nbformat": 4,
  "nbformat_minor": 0,
  "metadata": {
    "colab": {
      "provenance": []
    },
    "kernelspec": {
      "name": "python3",
      "display_name": "Python 3"
    },
    "language_info": {
      "name": "python"
    }
  },
  "cells": [
    {
      "cell_type": "code",
      "source": [
        "from google.colab import files"
      ],
      "metadata": {
        "id": "pmshiijttrVw"
      },
      "execution_count": 1,
      "outputs": []
    },
    {
      "cell_type": "code",
      "source": [
        "from google.colab import drive\n",
        "drive.mount('/content/drive')"
      ],
      "metadata": {
        "colab": {
          "base_uri": "https://localhost:8080/"
        },
        "id": "klxSwkvqtxcU",
        "outputId": "2a88523a-d65d-49d3-f4c2-c598167745ed"
      },
      "execution_count": 2,
      "outputs": [
        {
          "output_type": "stream",
          "name": "stdout",
          "text": [
            "Drive already mounted at /content/drive; to attempt to forcibly remount, call drive.mount(\"/content/drive\", force_remount=True).\n"
          ]
        }
      ]
    },
    {
      "cell_type": "code",
      "source": [
        "import os\n",
        "import pandas as pd\n",
        "import re\n",
        "import numpy as np\n",
        "from textblob import TextBlob\n",
        "from sklearn.model_selection import train_test_split\n",
        "from keras.preprocessing.text import Tokenizer\n",
        "from keras.preprocessing.sequence import pad_sequences\n",
        "from keras.layers import Embedding\n",
        "from keras.initializers import Constant\n",
        "from keras.models import Sequential\n",
        "from keras.layers import LSTM, Dense, Dropout\n",
        "from keras.losses import mean_squared_error"
      ],
      "metadata": {
        "id": "rQum3jsn0Bwo"
      },
      "execution_count": 3,
      "outputs": []
    },
    {
      "cell_type": "code",
      "execution_count": 4,
      "metadata": {
        "colab": {
          "base_uri": "https://localhost:8080/"
        },
        "id": "TWj7ydaZrGp1",
        "outputId": "450fe036-7b81-4098-eb40-5a8f9d0fc052"
      },
      "outputs": [
        {
          "output_type": "stream",
          "name": "stdout",
          "text": [
            "/content/drive/MyDrive/703_Project/LSTM\n"
          ]
        }
      ],
      "source": [
        "%cd /content/drive/MyDrive/703_Project/LSTM/"
      ]
    },
    {
      "cell_type": "markdown",
      "source": [
        "**Create combined csv files**\n",
        "\n",
        "\n",
        "\n"
      ],
      "metadata": {
        "id": "n8lPKfzW72qN"
      }
    },
    {
      "cell_type": "code",
      "source": [
        "\"\"\"\n",
        "def process_folder(main_folder_path, group_label):\n",
        "   Traite tous les fichiers CSV dans un dossier et retourne un DataFrame fusionné.\n",
        "    frames = []  # Liste pour stocker les DataFrames de chaque fichier\n",
        "    for subdir, dirs, files in os.walk(main_folder_path):\n",
        "      for filename in files:\n",
        "        if filename.endswith('.csv'):\n",
        "            file_path = os.path.join(subdir, filename)\n",
        "            df = pd.read_csv(file_path)\n",
        "            df['conversation_id'] = filename.split('.')[0]  # Utilisez le nom du fichier comme ID\n",
        "            df['group'] = group_label\n",
        "            df = df[['text', 'conversation_id', 'group']]\n",
        "            frames.append(df)\n",
        "    return pd.concat(frames)\n",
        "\n",
        "# Chemins des dossiers pour les fichiers CSV des groupes contrôle et patient\n",
        "control_main_folder_path = \"Control_csv_data_clean\"\n",
        "patient_main_folder_path = \"Patient_csv_data_clean\"\n",
        "\n",
        "# Traitement des dossiers et fusion des DataFrames\n",
        "control_df = process_folder(control_main_folder_path, 'control')\n",
        "patient_df = process_folder(patient_main_folder_path, 'patient')\n",
        "combined_df = pd.concat([control_df, patient_df])\n",
        "\n",
        "# Enregistrement du DataFrame fusionné dans un nouveau fichier CSV\n",
        "combined_df.to_csv('combined_control_patient_data.csv', index=False)\n",
        "\"\"\""
      ],
      "metadata": {
        "id": "GdcWELd1QSig"
      },
      "execution_count": null,
      "outputs": []
    },
    {
      "cell_type": "markdown",
      "source": [
        "**Step 1 : data split and preprocessing**"
      ],
      "metadata": {
        "id": "zZbZR6heVJto"
      }
    },
    {
      "cell_type": "code",
      "source": [
        "# Charger les données\n",
        "data = pd.read_csv('combined_control_patient_data.csv')\n",
        "data_df = pd.DataFrame(data)\n",
        "\n",
        "# Fonction de nettoyage des données textuelles\n",
        "def clean_text(text):\n",
        "    text = text.lower()\n",
        "    text = re.sub(r\"[^a-zA-Z0-9']\", \" \", text)  # Supprimer les caractères non alphanumériques\n",
        "    text = re.sub(r\"\\s+\", \" \", text)  # Supprimer les espaces supplémentaires\n",
        "    return text\n",
        "\n",
        "# Nettoyage du texte\n",
        "data_df['text'] = data_df['text'].apply(clean_text)\n",
        "\n",
        "\n",
        "# Fonction pour calculer le score de sentiment\n",
        "def sentiment_score(text):\n",
        "    analysis = TextBlob(text)\n",
        "    return analysis.sentiment.polarity  # Retourne un score entre -1 et 1\n",
        "\n",
        "# Appliquer la fonction à chaque réponse\n",
        "data_df['sentiment'] = data_df['text'].apply(sentiment_score)\n",
        "\n",
        "# Groupement des données par conversation_id\n",
        "conversation_ids = data['conversation_id'].unique()\n",
        "np.random.shuffle(conversation_ids)\n",
        "\n",
        "# Division des identifiants de conversation\n",
        "train_size = int(0.8 * len(conversation_ids))\n",
        "val_size = int(0.1 * len(conversation_ids))\n",
        "\n",
        "train_ids = conversation_ids[:train_size]\n",
        "val_ids = conversation_ids[train_size:train_size + val_size]\n",
        "test_ids = conversation_ids[train_size + val_size:]\n",
        "\n",
        "# Sélection des ensembles d'entraînement, de validation et de test\n",
        "train_df = data[data['conversation_id'].isin(train_ids)]\n",
        "val_df = data[data['conversation_id'].isin(val_ids)]\n",
        "test_df = data[data['conversation_id'].isin(test_ids)]\n",
        "\n",
        "# Tokenisation et Padding\n",
        "tokenizer = Tokenizer(num_words=12400)\n",
        "tokenizer.fit_on_texts(data['text'])\n",
        "\n",
        "# Fonction pour tokeniser et pad un DataFrame\n",
        "max_seq_length = 15\n",
        "def prepare_data(df):\n",
        "    sequences = tokenizer.texts_to_sequences(df['text'])\n",
        "    return pad_sequences(sequences, maxlen=max_seq_length)\n",
        "\n",
        "# Préparation des données\n",
        "X_train_padded = prepare_data(train_df)\n",
        "y_train = train_df['sentiment'].values\n",
        "\n",
        "X_val_padded = prepare_data(val_df)\n",
        "y_val = val_df['sentiment'].values\n",
        "\n",
        "X_test_padded = prepare_data(test_df)\n",
        "y_test = test_df['sentiment'].values\n",
        "\n",
        "\"\"\"\n",
        "# Ici, 'sentiment' est la colonne des labels que nous venons de créer\n",
        "y = data_df['sentiment'].values\n",
        "\n",
        "# Division des données tout en conservant les identifiants de conversation\n",
        "X_train, X_temp, y_train, y_temp, ids_train, ids_temp = train_test_split(data_df.drop(columns=['sentiment']), data_df['sentiment'], data_df['conversation_id'], test_size=0.2, random_state=42)\n",
        "X_val, X_test, y_val, y_test, ids_val, ids_test = train_test_split(X_temp, y_temp, ids_temp, test_size=0.5, random_state=42)\n",
        "\n",
        "# Préparation de la tokenisation\n",
        "tokenizer = Tokenizer(num_words=12400)  # Limite à 12400 mots\n",
        "tokenizer.fit_on_texts(data_df['text'])\n",
        "\n",
        "sequences = tokenizer.texts_to_sequences(data_df['text'])\n",
        "\n",
        "\n",
        "# Tokenization et Padding des ensembles\n",
        "max_seq_length = 15  # Ajuster selon la longueur désirée\n",
        "X_train_padded = pad_sequences(tokenizer.texts_to_sequences(X_train['text']), maxlen=max_seq_length)\n",
        "X_val_padded = pad_sequences(tokenizer.texts_to_sequences(X_val['text']), maxlen=max_seq_length)\n",
        "X_test_padded = pad_sequences(tokenizer.texts_to_sequences(X_test['text']), maxlen=max_seq_length)\n",
        "\"\"\""
      ],
      "metadata": {
        "id": "OetSJvr2Zu25"
      },
      "execution_count": null,
      "outputs": []
    },
    {
      "cell_type": "code",
      "source": [
        "#print(data_df.head(10))"
      ],
      "metadata": {
        "id": "yHONvpb7d-zX"
      },
      "execution_count": null,
      "outputs": []
    },
    {
      "cell_type": "code",
      "source": [
        "#print (data_df['group'].unique())"
      ],
      "metadata": {
        "id": "qhLlOcw0oRmR"
      },
      "execution_count": null,
      "outputs": []
    },
    {
      "cell_type": "code",
      "source": [
        "\"\"\"\n",
        "data_sample_df['text'] = data_sample_df['text'].apply(clean_text)\n",
        "sample_sequences = tokenizer.texts_to_sequences(data_sample_df['text'])\n",
        "sample_padded = pad_sequences(sample_sequences, maxlen=max_seq_length)\n",
        "\"\"\""
      ],
      "metadata": {
        "id": "8SWsv9tawIXl"
      },
      "execution_count": null,
      "outputs": []
    },
    {
      "cell_type": "code",
      "source": [
        "\"\"\"\n",
        "# examiner les séquences tokenisées et les longueurs de séquence\n",
        "for i in range(5):\n",
        "    print(f\"Texte original: {data['text'].iloc[i]}\")\n",
        "    print(f\"Séquence tokenisée: {sequences[i]}\")\n",
        "    print(f\"Longueur de la séquence: {len(sequences[i])}\\n\")\n",
        "\"\"\""
      ],
      "metadata": {
        "id": "n89T2tUZzk6J"
      },
      "execution_count": null,
      "outputs": []
    },
    {
      "cell_type": "markdown",
      "source": [
        "**How to get num_words and max_seq_length**"
      ],
      "metadata": {
        "id": "avCxxitQV8ti"
      }
    },
    {
      "cell_type": "code",
      "source": [
        "# Tokenizer sans limiter le nombre de mots\n",
        "tokenizer = Tokenizer()\n",
        "tokenizer.fit_on_texts(data_df['text'])\n",
        "\n",
        "# Nombre total de mots uniques\n",
        "word_count = len(tokenizer.word_index)\n",
        "print(f\"Nombre total de mots uniques dans le jeu de données : {word_count}\")"
      ],
      "metadata": {
        "colab": {
          "base_uri": "https://localhost:8080/"
        },
        "id": "mxhcvif-QbZe",
        "outputId": "514b16b7-ca15-445b-c510-840b6c3c3d65"
      },
      "execution_count": 6,
      "outputs": [
        {
          "output_type": "stream",
          "name": "stdout",
          "text": [
            "Nombre total de mots uniques dans le jeu de données : 12385\n"
          ]
        }
      ]
    },
    {
      "cell_type": "code",
      "source": [
        "text_lengths = [len(text.split()) for text in data_df['text']]\n",
        "print(f\"Moyenne: {np.mean(text_lengths)}\")\n",
        "print(f\"Médiane: {np.median(text_lengths)}\")\n",
        "print(f\"Percentile 90: {np.percentile(text_lengths, 90)}\")"
      ],
      "metadata": {
        "colab": {
          "base_uri": "https://localhost:8080/"
        },
        "id": "7jJF9XKfO7rQ",
        "outputId": "91377c31-1058-4c9f-8a45-6c12a499e938"
      },
      "execution_count": 7,
      "outputs": [
        {
          "output_type": "stream",
          "name": "stdout",
          "text": [
            "Moyenne: 7.460360360360361\n",
            "Médiane: 6.0\n",
            "Percentile 90: 15.0\n"
          ]
        }
      ]
    },
    {
      "cell_type": "markdown",
      "source": [
        "**Verifications**"
      ],
      "metadata": {
        "id": "MlDBj_WxzwZR"
      }
    },
    {
      "cell_type": "code",
      "source": [
        "# Vérification des dimensions pour l'entraînement du modèle\n",
        "\n",
        "print(f\"Dimensions de X_train_padded: {X_train_padded.shape}\")\n",
        "print(f\"Dimensions de y_train: {y_train.shape}\")\n",
        "print(f\"Dimensions de X_test_padded: {X_test_padded.shape}\")\n",
        "print(f\"Dimensions de y_test: {y_test.shape}\")\n",
        "print(f\"Dimensions de X_val_padded: {X_val_padded.shape}\")\n",
        "print(f\"Dimensions de y_val: {y_val.shape}\")"
      ],
      "metadata": {
        "colab": {
          "base_uri": "https://localhost:8080/"
        },
        "id": "lrBLloP80xwV",
        "outputId": "d92127cc-7c8f-4035-86dc-efa46b88e5ee"
      },
      "execution_count": 8,
      "outputs": [
        {
          "output_type": "stream",
          "name": "stdout",
          "text": [
            "Dimensions de X_train_padded: (63201, 15)\n",
            "Dimensions de y_train: (63201,)\n",
            "Dimensions de X_test_padded: (6793, 15)\n",
            "Dimensions de y_test: (6793,)\n",
            "Dimensions de X_val_padded: (8816, 15)\n",
            "Dimensions de y_val: (8816,)\n"
          ]
        }
      ]
    },
    {
      "cell_type": "code",
      "source": [
        "print(f\"Dimensions de ids_train: {train_ids.shape}\")\n",
        "print(f\"Dimensions de ids_val: {val_ids.shape}\")\n",
        "print(f\"Dimensions de ids_test: {test_ids.shape}\")"
      ],
      "metadata": {
        "colab": {
          "base_uri": "https://localhost:8080/"
        },
        "id": "YyTwmg2mpYws",
        "outputId": "e55686fc-8496-4f58-f5a4-888d84b3a5ce"
      },
      "execution_count": 9,
      "outputs": [
        {
          "output_type": "stream",
          "name": "stdout",
          "text": [
            "Dimensions de ids_train: (357,)\n",
            "Dimensions de ids_val: (44,)\n",
            "Dimensions de ids_test: (46,)\n"
          ]
        }
      ]
    },
    {
      "cell_type": "markdown",
      "source": [
        "**Step 2 : Word Embeddings preparation**"
      ],
      "metadata": {
        "id": "KzRYev-heu2B"
      }
    },
    {
      "cell_type": "code",
      "source": [
        "# Chargement des embeddings GloVe\n",
        "EMBEDDING_DIM = 100  # Par exemple, pour GloVe 6B avec des vecteurs de 100 dimensions\n",
        "embedding_index = {}\n",
        "with open('glove.6B.100d.txt', 'r', encoding='utf-8') as f:\n",
        "    for line in f:\n",
        "        values = line.split()\n",
        "        word = values[0]\n",
        "        coefs = np.asarray(values[1:], dtype='float32')\n",
        "        embedding_index[word] = coefs\n",
        "\n",
        "# Préparation de la matrice d'embedding\n",
        "embedding_matrix = np.zeros((len(tokenizer.word_index) + 1, EMBEDDING_DIM))\n",
        "for word, i in tokenizer.word_index.items():\n",
        "    embedding_vector = embedding_index.get(word)\n",
        "    if embedding_vector is not None:\n",
        "        embedding_matrix[i] = embedding_vector\n",
        "\n",
        "# Création de la couche d'embedding en utilisant la matrice d'embedding\n",
        "embedding_layer = Embedding(len(tokenizer.word_index) + 1,\n",
        "                            EMBEDDING_DIM,\n",
        "                            embeddings_initializer=Constant(embedding_matrix),\n",
        "                            input_length=max_seq_length,\n",
        "                            trainable=False)"
      ],
      "metadata": {
        "id": "tsnVYzk3WJZx"
      },
      "execution_count": 10,
      "outputs": []
    },
    {
      "cell_type": "code",
      "source": [
        "#contrôler la matrice d'embedding\n",
        "print(\"Dimensions de la matrice d'embedding:\", embedding_matrix.shape)"
      ],
      "metadata": {
        "colab": {
          "base_uri": "https://localhost:8080/"
        },
        "id": "ObajGf7Q0mAS",
        "outputId": "0ea23e88-c3c5-477e-c55c-77f72383db07"
      },
      "execution_count": 11,
      "outputs": [
        {
          "output_type": "stream",
          "name": "stdout",
          "text": [
            "Dimensions de la matrice d'embedding: (12386, 100)\n"
          ]
        }
      ]
    },
    {
      "cell_type": "markdown",
      "source": [
        "**Verifications**"
      ],
      "metadata": {
        "id": "pwR3XCzJ2EkS"
      }
    },
    {
      "cell_type": "code",
      "source": [
        "# Tokenizer Vocabulary\n",
        "for word, index in tokenizer.word_index.items():\n",
        "    print(f\"Mot : {word}, Index : {index}\")\n",
        "    if index == 100:  # Afficher les 10 premiers mots\n",
        "        break\n"
      ],
      "metadata": {
        "id": "SaMPliXW1zQA"
      },
      "execution_count": null,
      "outputs": []
    },
    {
      "cell_type": "code",
      "source": [
        "# Correspondence in the Embedding Matrix\n",
        "for word, index in tokenizer.word_index.items():\n",
        "    if word in embedding_index:\n",
        "        print(f\"Le mot '{word}' est dans GloVe.\")\n",
        "    else:\n",
        "        print(f\"Le mot '{word}' n'est pas dans GloVe.\")\n",
        "    if index == 100:  # Vérifier pour les 10 premiers mots\n",
        "        break\n"
      ],
      "metadata": {
        "id": "C9L-nZ0N15Gs"
      },
      "execution_count": null,
      "outputs": []
    },
    {
      "cell_type": "code",
      "source": [
        "# Coverage %\n",
        "total_mots = len(tokenizer.word_index)\n",
        "mots_dans_glove = sum(1 for word in tokenizer.word_index if word in embedding_index)\n",
        "pourcentage_couverture = (mots_dans_glove / total_mots) * 100\n",
        "print(f\"Pourcentage de mots du tokeniseur couverts par GloVe : {pourcentage_couverture}%\")\n"
      ],
      "metadata": {
        "id": "7w7HX2FK17_U",
        "colab": {
          "base_uri": "https://localhost:8080/"
        },
        "outputId": "d024baa7-4353-42d2-9e63-8592c73ca07a"
      },
      "execution_count": 14,
      "outputs": [
        {
          "output_type": "stream",
          "name": "stdout",
          "text": [
            "Pourcentage de mots du tokeniseur couverts par GloVe : 89.01897456600727%\n"
          ]
        }
      ]
    },
    {
      "cell_type": "markdown",
      "source": [
        "**Step 3 : LSTM model**"
      ],
      "metadata": {
        "id": "X_jpDytJrLRR"
      }
    },
    {
      "cell_type": "code",
      "source": [
        "# Création du modèle LSTM\n",
        "model = Sequential()\n",
        "model.add(embedding_layer)  # Utilisez la couche d'embedding préparée précédemment\n",
        "model.add(LSTM(64, return_sequences=False))  # return_sequences=False pour la dernière couche LSTM\n",
        "model.add(Dropout(0.5))\n",
        "model.add(Dense(1, activation='tanh'))  # Score de sentiment entre -1 et 1\n",
        "\n",
        "model.compile(optimizer='adam', loss='mean_squared_error')\n"
      ],
      "metadata": {
        "id": "zrfjmHAF3vjd"
      },
      "execution_count": 15,
      "outputs": []
    },
    {
      "cell_type": "code",
      "source": [
        "\"\"\"\n",
        "grouped = data.groupby('conversation_id')  # Groupez par ID de conversation\n",
        "X = []\n",
        "\n",
        "for _, group in grouped:\n",
        "    # Tokenisez et paddez chaque réponse dans la conversation\n",
        "    sequences = tokenizer.texts_to_sequences(group['text'])\n",
        "    padded_sequences = pad_sequences(sequences, maxlen=max_seq_length)\n",
        "    X.append(padded_sequences)\n",
        "\n",
        "y = []\n",
        "\n",
        "for _, group in grouped:\n",
        "    sentiment_scores = group['sentiment'].values  # Scores de sentiment pour la conversation\n",
        "    y.append(sentiment_scores)\n",
        "\n",
        "print(y)\n",
        "\"\"\""
      ],
      "metadata": {
        "id": "Gr3eh7Tk8G-C"
      },
      "execution_count": null,
      "outputs": []
    },
    {
      "cell_type": "markdown",
      "source": [
        "**Step 4 : Model training**"
      ],
      "metadata": {
        "id": "hFwXnEfjrSDt"
      }
    },
    {
      "cell_type": "code",
      "source": [
        "from keras.callbacks import EarlyStopping\n",
        "\n",
        "early_stopping = EarlyStopping(monitor='val_loss', patience=5)\n",
        "\n",
        "# Entraînement du modèle avec Early Stopping\n",
        "model.fit(X_train_padded, y_train, epochs=10, batch_size=32, validation_data=(X_val_padded, y_val), callbacks=[early_stopping])\n"
      ],
      "metadata": {
        "colab": {
          "base_uri": "https://localhost:8080/"
        },
        "id": "nuSI6ZVQEogo",
        "outputId": "086c46de-2884-4da0-881a-e005533a09b3"
      },
      "execution_count": 33,
      "outputs": [
        {
          "output_type": "stream",
          "name": "stdout",
          "text": [
            "Epoch 1/10\n",
            "1976/1976 [==============================] - 28s 14ms/step - loss: 0.0086 - val_loss: 0.0087\n",
            "Epoch 2/10\n",
            "1976/1976 [==============================] - 30s 15ms/step - loss: 0.0081 - val_loss: 0.0082\n",
            "Epoch 3/10\n",
            "1976/1976 [==============================] - 28s 14ms/step - loss: 0.0077 - val_loss: 0.0077\n",
            "Epoch 4/10\n",
            "1976/1976 [==============================] - 26s 13ms/step - loss: 0.0072 - val_loss: 0.0078\n",
            "Epoch 5/10\n",
            "1976/1976 [==============================] - 29s 15ms/step - loss: 0.0069 - val_loss: 0.0072\n",
            "Epoch 6/10\n",
            "1976/1976 [==============================] - 34s 17ms/step - loss: 0.0065 - val_loss: 0.0074\n",
            "Epoch 7/10\n",
            "1976/1976 [==============================] - 35s 18ms/step - loss: 0.0063 - val_loss: 0.0066\n",
            "Epoch 8/10\n",
            "1976/1976 [==============================] - 33s 17ms/step - loss: 0.0061 - val_loss: 0.0070\n",
            "Epoch 9/10\n",
            "1976/1976 [==============================] - 31s 16ms/step - loss: 0.0058 - val_loss: 0.0066\n",
            "Epoch 10/10\n",
            "1976/1976 [==============================] - 34s 17ms/step - loss: 0.0056 - val_loss: 0.0067\n"
          ]
        },
        {
          "output_type": "execute_result",
          "data": {
            "text/plain": [
              "<keras.src.callbacks.History at 0x7bcfe750fe80>"
            ]
          },
          "metadata": {},
          "execution_count": 33
        }
      ]
    },
    {
      "cell_type": "markdown",
      "source": [
        "**Step 5 : Results analysis**"
      ],
      "metadata": {
        "id": "vuDShrV4ra5V"
      }
    },
    {
      "cell_type": "code",
      "source": [
        "# Évaluation du Modèle sur l'Ensemble de Test\n",
        "test_loss = model.evaluate(X_test_padded, y_test)\n",
        "print(f\"Perte sur l'ensemble de test: {test_loss}\")\n"
      ],
      "metadata": {
        "colab": {
          "base_uri": "https://localhost:8080/"
        },
        "id": "RYTUroeuT0i_",
        "outputId": "1607988f-06ce-4d16-8063-7bf4315ad5d3"
      },
      "execution_count": 34,
      "outputs": [
        {
          "output_type": "stream",
          "name": "stdout",
          "text": [
            "213/213 [==============================] - 1s 7ms/step - loss: 0.0058\n",
            "Perte sur l'ensemble de test: 0.005824749357998371\n"
          ]
        }
      ]
    },
    {
      "cell_type": "code",
      "source": [
        "# Prédiction des Sentiments sur l'Ensemble de Test\n",
        "pred_sentiment = model.predict(X_test_padded)"
      ],
      "metadata": {
        "colab": {
          "base_uri": "https://localhost:8080/"
        },
        "id": "0Sq4VckgaY6g",
        "outputId": "faf4a2f6-699b-471b-a04b-c968a6eab236"
      },
      "execution_count": 35,
      "outputs": [
        {
          "output_type": "stream",
          "name": "stdout",
          "text": [
            "213/213 [==============================] - 1s 6ms/step\n"
          ]
        }
      ]
    },
    {
      "cell_type": "code",
      "source": [
        "# Créer un DataFrame pour associer les prédictions aux conversations\n",
        "test_df['predicted_sentiment'] = pred_sentiment.flatten()\n",
        "\n",
        "# Grouper par conversation_id\n",
        "conversations = test_df.groupby('conversation_id')\n",
        "evolution_sentiments = {}\n",
        "\n",
        "for conversation_id, group in conversations:\n",
        "    sentiment_debut = group['predicted_sentiment'].iloc[0]\n",
        "    sentiment_fin = group['predicted_sentiment'].iloc[-1]\n",
        "    evolution_sentiments[conversation_id] = sentiment_fin - sentiment_debut\n",
        "\n",
        "evolutions_patient = [evolution_sentiments[cid] for cid, group in conversations if group['group'].iloc[0] == 'patient']\n",
        "evolutions_patient\n",
        "evolutions_control = [evolution_sentiments[cid] for cid, group in conversations if group['group'].iloc[0] == 'control']"
      ],
      "metadata": {
        "colab": {
          "base_uri": "https://localhost:8080/"
        },
        "id": "Wgpuxty41bog",
        "outputId": "cd46650f-52da-4657-a704-67ea0e8dca19"
      },
      "execution_count": 36,
      "outputs": [
        {
          "output_type": "stream",
          "name": "stderr",
          "text": [
            "<ipython-input-36-da7b2f64de48>:2: SettingWithCopyWarning: \n",
            "A value is trying to be set on a copy of a slice from a DataFrame.\n",
            "Try using .loc[row_indexer,col_indexer] = value instead\n",
            "\n",
            "See the caveats in the documentation: https://pandas.pydata.org/pandas-docs/stable/user_guide/indexing.html#returning-a-view-versus-a-copy\n",
            "  test_df['predicted_sentiment'] = pred_sentiment.flatten()\n"
          ]
        }
      ]
    },
    {
      "cell_type": "code",
      "source": [
        "test_df.columns"
      ],
      "metadata": {
        "id": "vDbQcQoW5gTR",
        "colab": {
          "base_uri": "https://localhost:8080/"
        },
        "outputId": "5da90467-2ff2-474b-8811-c6f906f2e32d"
      },
      "execution_count": 20,
      "outputs": [
        {
          "output_type": "execute_result",
          "data": {
            "text/plain": [
              "Index(['text', 'conversation_id', 'group', 'sentiment', 'predicted_sentiment'], dtype='object')"
            ]
          },
          "metadata": {},
          "execution_count": 20
        }
      ]
    },
    {
      "cell_type": "code",
      "source": [
        "test_df.to_csv('test_df2.csv', index=\"False\")"
      ],
      "metadata": {
        "id": "L_11T3h91v4_"
      },
      "execution_count": 21,
      "outputs": []
    },
    {
      "cell_type": "markdown",
      "source": [
        "**Variation totale du sentiment**"
      ],
      "metadata": {
        "id": "zw2B93QBaU57"
      }
    },
    {
      "cell_type": "code",
      "source": [
        "variation_totale = {}\n",
        "nombre_conversations_patient = 0\n",
        "nombre_conversations_controle = 0\n",
        "\n",
        "for conversation_id, group in conversations:\n",
        "    variation = group['predicted_sentiment'].iloc[-1] - group['predicted_sentiment'].iloc[0]\n",
        "    variation_totale[conversation_id] = variation\n",
        "\n",
        "    # Compter le nombre de conversations pour chaque groupe\n",
        "    if group['group'].iloc[0] == 'patient':\n",
        "        nombre_conversations_patient += 1\n",
        "    elif group['group'].iloc[0] == 'control':\n",
        "        nombre_conversations_controle += 1\n",
        "\n",
        "print(\"Variations Totales par Conversation:\", variation_totale)\n",
        "print(\"Nombre de Conversations - Patient:\", nombre_conversations_patient)\n",
        "print(\"Nombre de Conversations - Control:\", nombre_conversations_controle)\n"
      ],
      "metadata": {
        "colab": {
          "base_uri": "https://localhost:8080/"
        },
        "id": "N7PI5ghm5wNz",
        "outputId": "4c1e09b6-0411-431f-d5dc-1e7040b117da"
      },
      "execution_count": 46,
      "outputs": [
        {
          "output_type": "stream",
          "name": "stdout",
          "text": [
            "Variations Totales par Conversation: {'46-1': -0.015379535, '47-2': -0.7907433, '60-1': -0.43510494, '64-2': -0.76209766, '65-1': -0.29867128, '73-2': -0.01067391, 'Baycrest12370a': -0.85209215, 'UMD08': 0.62700987, 'UMD14': 0.20308176, 'UMD17': 0.015387378, 'adler05a': -0.7606561, 'adler08a': 0.5171664, 'adler09a': -0.51097935, 'adler20a': -0.028781548, 'kurland02a': 0.5189428, 'kurland02g': -0.29978436, 'kurland08c': 0.01766279, 'kurland15e': -0.0029013078, 'kurland18b': -0.522524, 'kurland18d': -0.543969, 'kurland24a': -0.02016129, 'kurland26a': -0.55034816, 'scale05a': -0.027502293, 'scale06b': -0.8999462, 'scale11b': -0.015307053, 'scale15a': -0.5204405, 'scale15c': 0.0013990006, 'scale30a': -0.523436, 'scale35a': 0.5123235, 'tucson04a': -0.53681517, 'tucson08a': -0.007984592, 'tucson11a': -0.06428915, 'williamson19a': -0.0050425045, 'wright09a': -0.24133806, 'wright11a': -0.14129809, 'wright12a': -0.045489334, 'wright21a': 0.061972685, 'wright23a': -0.46019736, 'wright26a': -0.48399594, 'wright31a': -0.10053117, 'wright32a': -0.094606385, 'wright35a': -0.003023114, 'wright38a': -0.5032311, 'wright55a': -0.0014750818, 'wright82a': 0.7923253, 'wright84a': 0.082208484}\n",
            "Nombre de Conversations - Patient: 29\n",
            "Nombre de Conversations - Contrôle: 17\n"
          ]
        }
      ]
    },
    {
      "cell_type": "code",
      "source": [
        "variation_totale = {}\n",
        "for conversation_id, group in conversations:\n",
        "    variation_totale[conversation_id] = group['predicted_sentiment'].iloc[-1] - group['predicted_sentiment'].iloc[0]\n",
        "\n",
        "variation_totale"
      ],
      "metadata": {
        "id": "A3feeWFoAGOg"
      },
      "execution_count": null,
      "outputs": []
    },
    {
      "cell_type": "code",
      "source": [
        "# Initialisation des variables pour accumuler les variations\n",
        "variation_totale_patient = []\n",
        "variation_totale_controle = []\n",
        "\n",
        "for conversation_id, group in conversations:\n",
        "    # Calcul de la variation du sentiment pour la conversation\n",
        "    variation = group['predicted_sentiment'].iloc[-1] - group['predicted_sentiment'].iloc[0]\n",
        "\n",
        "    # Ajout de la variation au groupe approprié\n",
        "    if group['group'].iloc[0] == 'patient':\n",
        "        variation_totale_patient.append(variation)\n",
        "    elif group['group'].iloc[0] == 'control':\n",
        "        variation_totale_controle.append(variation)\n",
        "\n",
        "# Calcul des moyennes\n",
        "moyenne_variation_patient = np.mean(variation_totale_patient)\n",
        "moyenne_variation_controle = np.mean(variation_totale_controle)\n",
        "\n",
        "print(f\"Moyenne de la variation pour les patients: {moyenne_variation_patient}\")\n",
        "print(f\"Moyenne de la variation pour les contrôles: {moyenne_variation_controle}\")\n"
      ],
      "metadata": {
        "colab": {
          "base_uri": "https://localhost:8080/"
        },
        "id": "51BsKKIeiFmL",
        "outputId": "9517a5d3-557a-45f0-b9d2-775de58003bc"
      },
      "execution_count": 47,
      "outputs": [
        {
          "output_type": "stream",
          "name": "stdout",
          "text": [
            "Moyenne de la variation pour les patients: -0.22710499167442322\n",
            "Moyenne de la variation pour les contrôles: -0.06737012416124344\n"
          ]
        }
      ]
    },
    {
      "cell_type": "markdown",
      "source": [
        "**Visualisation graphique**"
      ],
      "metadata": {
        "id": "nhJHufK4m1zO"
      }
    },
    {
      "cell_type": "code",
      "source": [
        "import matplotlib.pyplot as plt\n",
        "\n",
        "# Valeurs pour la visualisation\n",
        "groupes = ['Patient', 'Contrôle']\n",
        "valeurs = [moyenne_variation_patient, moyenne_variation_controle]\n",
        "\n",
        "plt.bar(groupes, valeurs, color=['blue', 'green'])\n",
        "plt.xlabel('Groupe')\n",
        "plt.ylabel('Moyenne de Variation de Sentiment')\n",
        "plt.title('Comparaison de la Variation Moyenne des Sentiments')\n",
        "plt.show()"
      ],
      "metadata": {
        "colab": {
          "base_uri": "https://localhost:8080/",
          "height": 472
        },
        "id": "Lvv61b_7myY5",
        "outputId": "d3495e59-3ad8-42b5-c002-05dfd4cff493"
      },
      "execution_count": 39,
      "outputs": [
        {
          "output_type": "display_data",
          "data": {
            "text/plain": [
              "<Figure size 640x480 with 1 Axes>"
            ],
            "image/png": "[encoded data removed]"
          },
          "metadata": {}
        }
      ]
    },
    {
      "cell_type": "markdown",
      "source": [
        "**Static analysis**"
      ],
      "metadata": {
        "id": "CW9fFK92pdlS"
      }
    },
    {
      "cell_type": "code",
      "source": [
        "variation_patient_sqrt = np.sqrt(np.array(variation_totale_patient) + 1)\n"
      ],
      "metadata": {
        "id": "_A1AGRfRr3DG"
      },
      "execution_count": 41,
      "outputs": []
    },
    {
      "cell_type": "code",
      "source": [
        "shapiro_test_patient_transformed = stats.shapiro(variation_patient_sqrt)  # Ou variation_patient_box_cox, variation_patient_sqrt\n",
        "print(f\"Shapiro Test après transformation: Statistique={shapiro_test_patient_transformed[0]}, p-value={shapiro_test_patient_transformed[1]}\")\n"
      ],
      "metadata": {
        "colab": {
          "base_uri": "https://localhost:8080/"
        },
        "id": "uVqkQre1sASa",
        "outputId": "57bec129-cccb-4014-c880-5a564bddd8ef"
      },
      "execution_count": 42,
      "outputs": [
        {
          "output_type": "stream",
          "name": "stdout",
          "text": [
            "Shapiro Test après transformation: Statistique=0.9239652156829834, p-value=0.038470104336738586\n"
          ]
        }
      ]
    },
    {
      "cell_type": "code",
      "source": [
        "# check the normality\n",
        "import scipy.stats as stats\n",
        "\n",
        "# Test de Shapiro-Wilk pour vérifier la normalité\n",
        "# Pour le groupe patient\n",
        "shapiro_test_patient = stats.shapiro(variation_totale_patient)\n",
        "print(f\"Shapiro Test pour le groupe patient: Statistique={shapiro_test_patient[0]}, p-value={shapiro_test_patient[1]}\")\n",
        "\n",
        "# Pour le groupe contrôle\n",
        "shapiro_test_controle = stats.shapiro(variation_totale_controle)\n",
        "print(f\"Shapiro Test pour le groupe contrôle: Statistique={shapiro_test_controle[0]}, p-value={shapiro_test_controle[1]}\")\n"
      ],
      "metadata": {
        "colab": {
          "base_uri": "https://localhost:8080/"
        },
        "id": "ncn8yqa6nSCI",
        "outputId": "9d950e24-4285-4c31-b2b9-2b4d08f0f1ac"
      },
      "execution_count": 40,
      "outputs": [
        {
          "output_type": "stream",
          "name": "stdout",
          "text": [
            "Shapiro Test pour le groupe patient: Statistique=0.9153380393981934, p-value=0.02326894737780094\n",
            "Shapiro Test pour le groupe contrôle: Statistique=0.9449255466461182, p-value=0.3813399374485016\n"
          ]
        }
      ]
    },
    {
      "cell_type": "code",
      "source": [
        "#check the homogeneity of variances\n",
        "from scipy.stats import levene\n",
        "\n",
        "# Test de Levene pour vérifier l'homogénéité des variances\n",
        "stat, p_value = levene(variation_totale_patient, variation_totale_controle)\n",
        "\n",
        "print(f\"Test de Levene: Statistique={stat}, p-value={p_value}\")\n",
        "\n",
        "# variances are equal"
      ],
      "metadata": {
        "colab": {
          "base_uri": "https://localhost:8080/"
        },
        "id": "YfOasNMk2KZ4",
        "outputId": "24cf8cb3-bd1f-4c9f-bbad-6b99fc067bf6"
      },
      "execution_count": 43,
      "outputs": [
        {
          "output_type": "stream",
          "name": "stdout",
          "text": [
            "Test de Levene: Statistique=0.3652226088628668, p-value=0.5487236654740284\n"
          ]
        }
      ]
    },
    {
      "cell_type": "code",
      "source": [
        "from scipy.stats import ttest_ind\n",
        "\n",
        "# Effectuer un test t pour échantillons indépendants\n",
        "t_stat, p_value = ttest_ind(variation_totale_patient, variation_totale_controle)\n",
        "\n",
        "print(f\"Test t pour échantillons indépendants: Statistique t={t_stat}, p-value={p_value}\")\n",
        "\n",
        "#p-value > 0.05 --> the difference between the means of the two groups is not statistically significant\n"
      ],
      "metadata": {
        "colab": {
          "base_uri": "https://localhost:8080/"
        },
        "id": "bbn-peL_8TLw",
        "outputId": "f15ce2ea-9b96-47b8-b8e8-5b77270c97eb"
      },
      "execution_count": 49,
      "outputs": [
        {
          "output_type": "stream",
          "name": "stdout",
          "text": [
            "Test t pour échantillons indépendants: Statistique t=-1.3341225484711228, p-value=0.1890279708346075\n"
          ]
        }
      ]
    },
    {
      "cell_type": "markdown",
      "source": [
        "**Variation Moyenne du Sentiment**"
      ],
      "metadata": {
        "id": "MnubyMiqZ07K"
      }
    },
    {
      "cell_type": "code",
      "source": [
        "variation_moyenne = {}\n",
        "for conversation_id, group in conversations:\n",
        "    variations = group['predicted_sentiment'].diff().abs()\n",
        "    variation_moyenne[conversation_id] = variations.mean()\n",
        "\n",
        "variation_moyenne"
      ],
      "metadata": {
        "id": "xJvNYj0celpY"
      },
      "execution_count": null,
      "outputs": []
    },
    {
      "cell_type": "markdown",
      "source": [
        "**Analyse de la dispersion des sentiments**"
      ],
      "metadata": {
        "id": "S6NL-OjvakV0"
      }
    },
    {
      "cell_type": "code",
      "source": [
        "ecart_type_sentiment = {}\n",
        "for conversation_id, group in conversations:\n",
        "    ecart_type_sentiment[conversation_id] = group['predicted_sentiment'].std()\n",
        "ecart_type_sentiment"
      ],
      "metadata": {
        "id": "Gg5w3KZNfvnu"
      },
      "execution_count": null,
      "outputs": []
    },
    {
      "cell_type": "code",
      "source": [],
      "metadata": {
        "id": "MLOq205vdoFJ"
      },
      "execution_count": null,
      "outputs": []
    },
    {
      "cell_type": "code",
      "source": [
        "\n"
      ],
      "metadata": {
        "id": "156kEnIpbvlf"
      },
      "execution_count": null,
      "outputs": []
    },
    {
      "cell_type": "markdown",
      "source": [
        "**Test sample**"
      ],
      "metadata": {
        "id": "YxrSwRuKdDE6"
      }
    }
  ]
}