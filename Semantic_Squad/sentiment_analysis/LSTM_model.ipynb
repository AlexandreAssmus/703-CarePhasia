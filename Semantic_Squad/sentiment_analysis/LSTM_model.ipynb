{
  "nbformat": 4,
  "nbformat_minor": 0,
  "metadata": {
    "colab": {
      "provenance": []
    },
    "kernelspec": {
      "name": "python3",
      "display_name": "Python 3"
    },
    "language_info": {
      "name": "python"
    }
  },
  "cells": [
    {
      "cell_type": "code",
      "source": [
        "import pandas as pd\n",
        "from google.colab import files"
      ],
      "metadata": {
        "id": "OSEkcF4SpxIJ"
      },
      "execution_count": 1,
      "outputs": []
    },
    {
      "cell_type": "code",
      "source": [
        "from google.colab import drive\n",
        "drive.mount('/content/drive')"
      ],
      "metadata": {
        "colab": {
          "base_uri": "https://localhost:8080/"
        },
        "id": "9bB8k6GhpyMl",
        "outputId": "15c77d4f-fa5f-4787-939d-892e51c35ca7"
      },
      "execution_count": 8,
      "outputs": [
        {
          "output_type": "stream",
          "name": "stdout",
          "text": [
            "Mounted at /content/drive\n"
          ]
        }
      ]
    },
    {
      "cell_type": "code",
      "source": [
        "%cd /content/drive/MyDrive/703_Project/"
      ],
      "metadata": {
        "colab": {
          "base_uri": "https://localhost:8080/"
        },
        "id": "yWv9n9YKo9Tw",
        "outputId": "27f46b8a-aa49-4ad5-f987-765195050776"
      },
      "execution_count": 18,
      "outputs": [
        {
          "output_type": "stream",
          "name": "stdout",
          "text": [
            "/content/drive/MyDrive/703_Project\n"
          ]
        }
      ]
    },
    {
      "cell_type": "code",
      "execution_count": 21,
      "metadata": {
        "colab": {
          "base_uri": "https://localhost:8080/"
        },
        "id": "xrakrZ_EkFI4",
        "outputId": "7a19d87e-70ea-4893-a465-5c3b59a21b4d"
      },
      "outputs": [
        {
          "output_type": "stream",
          "name": "stdout",
          "text": [
            "DataFrame With stuttering\n",
            "                                                    text\n",
            "0                      well I could I could talk youknow\n",
            "1                                               remember\n",
            "2                     when it was like the end of August\n",
            "3                         it was infact it was Labor Day\n",
            "4      but I youknow I I when I was sick I didnt I I ...\n",
            "...                                                  ...\n",
            "39306      the the the the a the peanut butter and jelly\n",
            "39307                                              jelly\n",
            "39308                                jelly on the step s\n",
            "39309                                   and there you go\n",
            "39310                               and you could eat it\n",
            "\n",
            "[39311 rows x 1 columns]\n",
            "------------------\n",
            "DataFrame without stuttering\n",
            "                                                    text\n",
            "0                              well I could talk youknow\n",
            "1                                               remember\n",
            "2                     when it was like the end of August\n",
            "3                         it was infact it was Labor Day\n",
            "4      but I youknow I when I was sick I didnt I was ...\n",
            "...                                                  ...\n",
            "39306                  the a the peanut butter and jelly\n",
            "39307                                              jelly\n",
            "39308                                jelly on the step s\n",
            "39309                                   and there you go\n",
            "39310                               and you could eat it\n",
            "\n",
            "[39311 rows x 1 columns]\n"
          ]
        }
      ],
      "source": [
        "import pandas as pd\n",
        "import re\n",
        "\n",
        "# # Load the CSV file for patients\n",
        "df_patients = pd.read_csv('patient_data_clean.csv')\n",
        "print(\"DataFrame With stuttering\")\n",
        "print(df_patients)\n",
        "\n",
        "# Function to remove repeated words corresponding to stuttering\n",
        "def remove_stutter(sentence):\n",
        "  if isinstance(sentence, str):\n",
        "    sentence = re.sub(r'\\b(\\w+)( \\1\\b)+', r'\\1', sentence)\n",
        "    # Remove repeated groups of words (2 words or more)\n",
        "    sentence = re.sub(r'\\b(\\w+\\s\\w+)( \\1\\b)+', r'\\1', sentence)\n",
        "    return sentence\n",
        "  elif pd.notna(sentence):  # Check if the value is not NaN\n",
        "        return str(sentence).lower()  # Convert non-NaN values to lowercase string\n",
        "  else:\n",
        "    return sentence\n",
        "\n",
        "# Apply the function to the column containing patients' sentences\n",
        "df_patients['text'] = df_patients['text'].apply(remove_stutter)\n",
        "\n",
        "# Display the modified DataFrame\n",
        "print (\"------------------\")\n",
        "print(\"DataFrame without stuttering\")\n",
        "print(df_patients)\n",
        "\n",
        "# Save the modified DataFrame to a new CSV file\n",
        "df_patients.to_csv('/content/drive/MyDrive/703_Project/patient_data_clean_nostutter.csv', index=False)\n",
        "\n"
      ]
    },
    {
      "cell_type": "code",
      "source": [
        "\n",
        "import nltk\n",
        "\n",
        "# Download stopwords data\n",
        "nltk.download('stopwords')\n",
        "# Download WordNet data\n",
        "nltk.download('wordnet')"
      ],
      "metadata": {
        "colab": {
          "base_uri": "https://localhost:8080/"
        },
        "id": "UE5ZjxyvDcMJ",
        "outputId": "592ca1cd-8bab-4e8d-9f62-967df1b90ed6"
      },
      "execution_count": 22,
      "outputs": [
        {
          "output_type": "stream",
          "name": "stderr",
          "text": [
            "[nltk_data] Downloading package stopwords to /root/nltk_data...\n",
            "[nltk_data]   Package stopwords is already up-to-date!\n",
            "[nltk_data] Downloading package wordnet to /root/nltk_data...\n",
            "[nltk_data]   Package wordnet is already up-to-date!\n"
          ]
        },
        {
          "output_type": "execute_result",
          "data": {
            "text/plain": [
              "True"
            ]
          },
          "metadata": {},
          "execution_count": 22
        }
      ]
    },
    {
      "cell_type": "markdown",
      "source": [
        "**KEEP THE FOLLOWING CODE :**"
      ],
      "metadata": {
        "id": "kCXKnLRhDdIA"
      }
    },
    {
      "cell_type": "code",
      "source": [
        "# Import necessary libraries\n",
        "import pandas as pd\n",
        "import numpy as np\n",
        "from textblob import TextBlob\n",
        "from textblob import Word\n",
        "from nltk.corpus import stopwords\n",
        "from sklearn.preprocessing import LabelEncoder\n",
        "from sklearn.metrics import classification_report, confusion_matrix, accuracy_score\n",
        "from keras.models import Sequential\n",
        "from keras.preprocessing.text import Tokenizer\n",
        "from keras.preprocessing.sequence import pad_sequences\n",
        "from keras.layers import Dense, Embedding, LSTM, SpatialDropout1D\n",
        "from sklearn.model_selection import train_test_split\n",
        "\n",
        "# Load data\n",
        "patients_data = pd.read_csv('/content/drive/MyDrive/703_Project/patient_data_clean_nostutter.csv')\n",
        "control_data = pd.read_csv('/content/drive/MyDrive/703_Project/control_data_clean.csv')\n",
        "\n",
        "# Add a 'sentences' column for consistency with existing code\n",
        "patients_data['sentences'] = patients_data['text']\n",
        "control_data['sentences'] = control_data['text']\n",
        "\n",
        "# Predict sentiments using TextBlob\n",
        "patients_data['sentiment'] = patients_data['sentences'].apply(lambda x: TextBlob(str(x)).sentiment.polarity)\n",
        "control_data['sentiment'] = control_data['sentences'].apply(lambda x: TextBlob(str(x)).sentiment.polarity)\n",
        "\n",
        "# Convert sentiments to labels (positive if sentiment > 0, neutral if sentiment == 0, negative otherwise)\n",
        "patients_data['label'] = patients_data['sentiment'].apply(lambda x: 'positive' if x > 0 else ('neutral' if x == 0 else 'negative'))\n",
        "control_data['label'] = control_data['sentiment'].apply(lambda x: 'positive' if x > 0 else ('neutral' if x == 0 else 'negative'))\n",
        "\n",
        "# Text preprocessing function\n",
        "def cleaning(df, stop_words):\n",
        "    df['sentences'] = df['sentences'].apply(lambda x: ' '.join(x.lower() for x in str(x).split()))\n",
        "    # Remplacement des chiffres/numéros\n",
        "    df['sentences'] = df['sentences'].str.replace('\\d+', '')\n",
        "    # Suppression des stop words\n",
        "    df['sentences'] = df['sentences'].apply(lambda x: ' '.join(x for x in x.split() if x not in stop_words))\n",
        "    # Lemmatisation\n",
        "    df['sentences'] = df['sentences'].apply(lambda x: ' '.join([Word(x).lemmatize() for x in x.split()]))\n",
        "    return df\n",
        "\n",
        "stop_words = stopwords.words('english')\n",
        "\n",
        "# Apply cleaning to patient data\n",
        "patients_cleaned = cleaning(patients_data, stop_words)\n",
        "\n",
        "# Apply cleaning to control data\n",
        "control_cleaned = cleaning(control_data, stop_words)\n",
        "\n",
        "# Reset the index of the control_cleaned DataFrame\n",
        "control_data = control_data.reset_index(drop=True)\n",
        "control_cleaned = control_cleaned.reset_index(drop=True)\n",
        "\n",
        "# Generate embeddings using a tokenizer\n",
        "tokenizer = Tokenizer(num_words=100, split=' ')\n",
        "tokenizer.fit_on_texts(patients_cleaned['sentences'].values)\n",
        "\n",
        "# Preprocess sentiments for patient\n",
        "X_patients = tokenizer.texts_to_sequences(patients_cleaned['sentences'].values)\n",
        "X_patients = pad_sequences(X_patients)\n",
        "\n",
        "# Preprocess sentiments for control group\n",
        "X_control = tokenizer.texts_to_sequences(control_cleaned['sentences'].values)\n",
        "X_control = pad_sequences(X_control)\n",
        "\n",
        "# Labels for patients\n",
        "labels_patients = pd.get_dummies(patients_data['label']).values\n",
        "\n",
        "# Split data into training and testing sets\n",
        "X_train_patients, X_test_patients, y_train_patients, y_test_patients = train_test_split(X_patients, labels_patients, test_size=0.2, random_state=42)\n",
        "\n",
        "# Build LSTM model\n",
        "model = Sequential()\n",
        "model.add(Embedding(100, 30, input_length=X_patients.shape[1]))\n",
        "model.add(SpatialDropout1D(0.2))\n",
        "model.add(LSTM(128, dropout=0.2, recurrent_dropout=0.2))\n",
        "model.add(Dense(64, activation='relu'))\n",
        "model.add(Dense(3, activation='softmax'))\n",
        "model.compile(loss='categorical_crossentropy', optimizer='adam', metrics=['accuracy'])\n",
        "print(model.summary())\n",
        "\n",
        "\n",
        "\n",
        "\n",
        "\n"
      ],
      "metadata": {
        "colab": {
          "base_uri": "https://localhost:8080/"
        },
        "id": "N-sSblSloIgR",
        "outputId": "6b332e65-ff08-4b45-aa47-2d5fc6b078ed"
      },
      "execution_count": 23,
      "outputs": [
        {
          "output_type": "stream",
          "name": "stderr",
          "text": [
            "<ipython-input-23-375608bf624c>:35: FutureWarning: The default value of regex will change from True to False in a future version.\n",
            "  df['sentences'] = df['sentences'].str.replace('\\d+', '')\n"
          ]
        },
        {
          "output_type": "stream",
          "name": "stdout",
          "text": [
            "Model: \"sequential\"\n",
            "_________________________________________________________________\n",
            " Layer (type)                Output Shape              Param #   \n",
            "=================================================================\n",
            " embedding (Embedding)       (None, 13, 30)            3000      \n",
            "                                                                 \n",
            " spatial_dropout1d (Spatial  (None, 13, 30)            0         \n",
            " Dropout1D)                                                      \n",
            "                                                                 \n",
            " lstm (LSTM)                 (None, 128)               81408     \n",
            "                                                                 \n",
            " dense (Dense)               (None, 64)                8256      \n",
            "                                                                 \n",
            " dense_1 (Dense)             (None, 3)                 195       \n",
            "                                                                 \n",
            "=================================================================\n",
            "Total params: 92859 (362.73 KB)\n",
            "Trainable params: 92859 (362.73 KB)\n",
            "Non-trainable params: 0 (0.00 Byte)\n",
            "_________________________________________________________________\n",
            "None\n"
          ]
        }
      ]
    },
    {
      "cell_type": "code",
      "source": [
        "# Train the model on patient data\n",
        "model.fit(X_train_patients, y_train_patients, epochs=1, batch_size=32, verbose=1)\n",
        "\n",
        "# Predict sentiments for control group data\n",
        "predictions_control = model.predict(X_control)\n",
        "predicted_labels_control = [np.argmax(prediction) for prediction in predictions_control]\n",
        "\n",
        "# Add predictions to the control_data DataFrame\n",
        "control_data['predicted_label'] = predicted_labels_control\n"
      ],
      "metadata": {
        "colab": {
          "base_uri": "https://localhost:8080/"
        },
        "id": "15cdLAorDP3A",
        "outputId": "b2fac15c-ed49-4b6d-d964-e3748ef240b1"
      },
      "execution_count": 24,
      "outputs": [
        {
          "output_type": "stream",
          "name": "stdout",
          "text": [
            "983/983 [==============================] - 53s 48ms/step - loss: 0.5545 - accuracy: 0.8216\n",
            "950/950 [==============================] - 8s 8ms/step\n"
          ]
        }
      ]
    },
    {
      "cell_type": "code",
      "source": [
        "# Evaluate the model on control group data\n",
        "y_test_control = pd.get_dummies(control_data['label']).values\n",
        "model.evaluate(X_control, y_test_control)"
      ],
      "metadata": {
        "colab": {
          "base_uri": "https://localhost:8080/"
        },
        "id": "xi2wxH8bCfeY",
        "outputId": "e9480c1d-01ac-4d36-8ee7-5d306722d62c"
      },
      "execution_count": 25,
      "outputs": [
        {
          "output_type": "stream",
          "name": "stdout",
          "text": [
            "950/950 [==============================] - 8s 8ms/step - loss: 0.7862 - accuracy: 0.7276\n"
          ]
        },
        {
          "output_type": "execute_result",
          "data": {
            "text/plain": [
              "[0.786158561706543, 0.7276467084884644]"
            ]
          },
          "metadata": {},
          "execution_count": 25
        }
      ]
    },
    {
      "cell_type": "code",
      "source": [
        "from sklearn.metrics import classification_report, confusion_matrix, accuracy_score, precision_score, recall_score, f1_score\n",
        "import seaborn as sns\n",
        "import matplotlib.pyplot as plt\n",
        "\n",
        "# Add predictions to the control_data DataFrame\n",
        "control_data['predicted_label'] = predicted_labels_control\n",
        "\n",
        "# Convert true labels to class indices\n",
        "true_labels_control = [np.argmax(label) for label in y_test_control]\n",
        "\n",
        "# Define category names\n",
        "categories = ['negative', 'neutral', 'positive']\n",
        "\n",
        "# Display the confusion matrix\n",
        "conf_matrix = confusion_matrix(true_labels_control, predicted_labels_control)\n",
        "# Create a DataFrame with category names\n",
        "confusion_df = pd.DataFrame(conf_matrix, index=categories, columns=categories)\n",
        "print(confusion_df)\n",
        "\n",
        "# Display the confusion matrix using seaborn\n",
        "plt.figure(figsize=(8, 6))\n",
        "sns.heatmap(confusion_df, annot=True, fmt='d', cmap='Blues', cbar=False)\n",
        "plt.xlabel('Predictions')\n",
        "plt.ylabel('True labels')\n",
        "plt.title('Confusion matrix - Control groupe')\n",
        "plt.show()\n",
        "\n",
        "\n",
        "\n",
        "\n"
      ],
      "metadata": {
        "colab": {
          "base_uri": "https://localhost:8080/",
          "height": 635
        },
        "id": "z_4WIruLKURL",
        "outputId": "dbd1ddca-99b4-4fe1-d8cf-0456a1c317ce"
      },
      "execution_count": 26,
      "outputs": [
        {
          "output_type": "stream",
          "name": "stdout",
          "text": [
            "          negative  neutral  positive\n",
            "negative       670     3263       222\n",
            "neutral         30    19577        20\n",
            "positive       138     4603      1864\n"
          ]
        },
        {
          "output_type": "display_data",
          "data": {
            "text/plain": [
              "<Figure size 800x600 with 1 Axes>"
            ],
            "image/png": "[encoded data removed]"
          },
          "metadata": {}
        }
      ]
    },
    {
      "cell_type": "code",
      "source": [
        "# Define a mapping between class indices and class names\n",
        "class_mapping = {0: 'negative', 1: 'neutral', 2: 'positive'}\n",
        "\n",
        "# Replace indices with class names in true and predicted labels\n",
        "true_labels_control_names = [class_mapping[label] for label in true_labels_control]\n",
        "predicted_labels_control_names = [class_mapping[label] for label in predicted_labels_control]\n",
        "\n",
        "# Display the classification report with class names\n",
        "class_report_names = classification_report(true_labels_control_names, predicted_labels_control_names)\n",
        "print(\"Classification report for the control group :\")\n",
        "print(class_report_names)\n",
        "\n",
        "# Calculate and display precision, recall, and F1-score\n",
        "precision = precision_score(true_labels_control, predicted_labels_control, average='weighted')\n",
        "recall = recall_score(true_labels_control, predicted_labels_control, average='weighted')\n",
        "f1 = f1_score(true_labels_control, predicted_labels_control, average='weighted')\n",
        "\n",
        "print(f\"Control group precision : {precision:.4f}\")\n",
        "print(f\"Control group recall : {recall:.4f}\")\n",
        "print(f\"Control group F1-score : {f1:.4f}\")\n",
        "\n",
        "# Calculate and display overall precision (accuracy)\n",
        "accuracy = accuracy_score(true_labels_control, predicted_labels_control)\n",
        "print(f\"Control group global precision : {accuracy:.4f}\")"
      ],
      "metadata": {
        "colab": {
          "base_uri": "https://localhost:8080/"
        },
        "id": "K_rETU9g2cxm",
        "outputId": "03bb67b5-adaa-432b-80f6-2bd6aff701d4"
      },
      "execution_count": 27,
      "outputs": [
        {
          "output_type": "stream",
          "name": "stdout",
          "text": [
            "Classification report for the control group :\n",
            "              precision    recall  f1-score   support\n",
            "\n",
            "    negative       0.80      0.16      0.27      4155\n",
            "     neutral       0.71      1.00      0.83     19627\n",
            "    positive       0.89      0.28      0.43      6605\n",
            "\n",
            "    accuracy                           0.73     30387\n",
            "   macro avg       0.80      0.48      0.51     30387\n",
            "weighted avg       0.76      0.73      0.67     30387\n",
            "\n",
            "Control group precision : 0.7625\n",
            "Control group recall : 0.7276\n",
            "Control group F1-score : 0.6670\n",
            "Control group global precision : 0.7276\n"
          ]
        }
      ]
    },
    {
      "cell_type": "code",
      "source": [
        "# Mapping of class indices to class names\n",
        "label_mapping = {0: 'negative', 1: 'neutral', 2: 'positive'}\n",
        "\n",
        "# Add a \"predicted_category\" column to the control_data DataFrame\n",
        "control_data['predicted_category'] = control_data['predicted_label'].map(label_mapping)\n",
        "\n",
        "# Display prediction statistics with actual categories\n",
        "print(\"Statistiques de prédiction pour le groupe contrôle:\")\n",
        "print(control_data['predicted_category'].value_counts())\n",
        "\n",
        "# Calculate normalized percentages for each category\n",
        "prediction_counts_control = control_data['predicted_category'].value_counts(normalize=True)\n",
        "\n",
        "for category, percentage in prediction_counts_control.items():\n",
        "    print(f\"Percentage of {category}: {percentage * 100:.2f}%\")\n"
      ],
      "metadata": {
        "colab": {
          "base_uri": "https://localhost:8080/"
        },
        "id": "egPdiVyV6_Xz",
        "outputId": "5a8ed308-94ac-45f3-c1c6-cfba3e0da985"
      },
      "execution_count": 28,
      "outputs": [
        {
          "output_type": "stream",
          "name": "stdout",
          "text": [
            "Statistiques de prédiction pour le groupe contrôle:\n",
            "neutral     27443\n",
            "positive     2106\n",
            "negative      838\n",
            "Name: predicted_category, dtype: int64\n",
            "Percentage of neutral: 90.31%\n",
            "Percentage of positive: 6.93%\n",
            "Percentage of negative: 2.76%\n"
          ]
        }
      ]
    },
    {
      "cell_type": "code",
      "source": [
        "# Prédiction des sentiments pour les données des patients\n",
        "predictions_patients = model.predict(X_patients)\n",
        "predicted_labels_patients = [np.argmax(prediction) for prediction in predictions_patients]\n",
        "\n",
        "# Ajouter les prédictions au DataFrame patients_data\n",
        "patients_data['predicted_label'] = predicted_labels_patients\n",
        "\n",
        "# Mapping of class indices to class names\n",
        "label_mapping = {0: 'negative', 1: 'neutral', 2: 'positive'}\n",
        "\n",
        "# Add a \"predicted_category\" column to the patient_data DataFrame\n",
        "patients_data['predicted_category'] = patients_data['predicted_label'].map(label_mapping)\n",
        "\n",
        "# Display prediction statistics with actual categories\n",
        "print(\"Statistiques de prédiction pour le groupe des patients:\")\n",
        "print(patients_data['predicted_category'].value_counts())\n",
        "\n",
        "# Calculate normalized percentages for each category\n",
        "prediction_counts_patient = patients_data['predicted_category'].value_counts(normalize=True)\n",
        "\n",
        "for category, percentage in prediction_counts_patient.items():\n",
        "    print(f\"Pourcentage de {category}: {percentage * 100:.2f}%\")\n"
      ],
      "metadata": {
        "colab": {
          "base_uri": "https://localhost:8080/"
        },
        "id": "LIYd15E68p2u",
        "outputId": "2c490db7-a9e1-4517-c699-a3ab31ade580"
      },
      "execution_count": 29,
      "outputs": [
        {
          "output_type": "stream",
          "name": "stdout",
          "text": [
            "1229/1229 [==============================] - 9s 7ms/step\n",
            "Statistiques de prédiction pour le groupe des patients:\n",
            "neutral     35187\n",
            "positive     3523\n",
            "negative      601\n",
            "Name: predicted_category, dtype: int64\n",
            "Pourcentage de neutral: 89.51%\n",
            "Pourcentage de positive: 8.96%\n",
            "Pourcentage de negative: 1.53%\n"
          ]
        }
      ]
    },
    {
      "cell_type": "code",
      "source": [
        "from scipy.stats import chi2_contingency\n",
        "\n",
        "# Définir les pourcentages observés pour chaque groupe\n",
        "observed_control = np.array([90.21, 6.83, 2.96])\n",
        "observed_patient = np.array([89.47, 8.94, 1.59])\n",
        "\n",
        "# Créer une matrice de contingence\n",
        "observed_data = np.array([observed_control, observed_patient])\n",
        "\n",
        "# Effectuer le test du chi carré\n",
        "chi2, p, _, _ = chi2_contingency(observed_data)\n",
        "\n",
        "# Afficher les résultats du test\n",
        "print(f\"Chi-square test statistic : {chi2}\")\n",
        "print(f\"p-value : {p}\")\n",
        "\n",
        "# Comparer la valeur de p à un seuil de significativité (par exemple, 0.05)\n",
        "if p < 0.05:\n",
        "    print(\"The difference is statistically significant.\")\n",
        "else:\n",
        "    print(\"The difference is not statistically significant.\")\n"
      ],
      "metadata": {
        "colab": {
          "base_uri": "https://localhost:8080/"
        },
        "id": "jKPFnLVhvi7x",
        "outputId": "2e06fae3-171f-4726-fbd3-cf29d28254e4"
      },
      "execution_count": 30,
      "outputs": [
        {
          "output_type": "stream",
          "name": "stdout",
          "text": [
            "Chi-square test statistic : 0.6978676559976926\n",
            "p-value : 0.7054398090893828\n",
            "The difference is not statistically significant.\n"
          ]
        }
      ]
    },
    {
      "cell_type": "code",
      "source": [
        "# Creation of the data_processed_csv\n",
        "\n",
        "# Predict sentiments for patients\n",
        "patients_data['sentiment'] = [TextBlob(str(sentence)).sentiment.polarity for sentence in patients_cleaned['sentences']]\n",
        "\n",
        "# Add predicted sentiments to the DataFrame\n",
        "patients_output = patients_data[['text', 'sentiment']]\n",
        "# Add a column for categories 'positive', 'neutral', 'negative'\n",
        "patients_output['sentiment_category'] = patients_output['sentiment'].apply(lambda x: 'positive' if x > 0 else ('neutral' if x == 0 else 'negative'))\n",
        "\n",
        "# Save the CSV file for patients\n",
        "patients_output.to_csv('/content/drive/MyDrive/703_Project/semantic_data_processed_patients.csv', index=False)\n"
      ],
      "metadata": {
        "colab": {
          "base_uri": "https://localhost:8080/"
        },
        "id": "xhdjfsiFJnmI",
        "outputId": "1989be0e-e456-4838-f584-d4beb6479c7b"
      },
      "execution_count": 31,
      "outputs": [
        {
          "output_type": "stream",
          "name": "stderr",
          "text": [
            "<ipython-input-31-7da040acc04c>:9: SettingWithCopyWarning: \n",
            "A value is trying to be set on a copy of a slice from a DataFrame.\n",
            "Try using .loc[row_indexer,col_indexer] = value instead\n",
            "\n",
            "See the caveats in the documentation: https://pandas.pydata.org/pandas-docs/stable/user_guide/indexing.html#returning-a-view-versus-a-copy\n",
            "  patients_output['sentiment_category'] = patients_output['sentiment'].apply(lambda x: 'positive' if x > 0 else ('neutral' if x == 0 else 'negative'))\n"
          ]
        }
      ]
    },
    {
      "cell_type": "code",
      "source": [
        "# Same process with control group\n",
        "control_data['sentiment'] = [TextBlob(str(sentence)).sentiment.polarity for sentence in control_cleaned['sentences']]\n",
        "control_output = control_data[['text', 'sentiment']]\n",
        "control_output['sentiment_category'] = control_output['sentiment'].apply(lambda x: 'positive' if x > 0 else ('neutral' if x == 0 else 'negative'))\n",
        "control_output.to_csv('/content/drive/MyDrive/703_Project/semantic_data_processed_control.csv', index=False)\n"
      ],
      "metadata": {
        "colab": {
          "base_uri": "https://localhost:8080/"
        },
        "id": "Puma340MNsd7",
        "outputId": "450f6787-079f-4a42-ae4d-839ec4283da8"
      },
      "execution_count": 32,
      "outputs": [
        {
          "output_type": "stream",
          "name": "stderr",
          "text": [
            "<ipython-input-32-a142d560b3ae>:4: SettingWithCopyWarning: \n",
            "A value is trying to be set on a copy of a slice from a DataFrame.\n",
            "Try using .loc[row_indexer,col_indexer] = value instead\n",
            "\n",
            "See the caveats in the documentation: https://pandas.pydata.org/pandas-docs/stable/user_guide/indexing.html#returning-a-view-versus-a-copy\n",
            "  control_output['sentiment_category'] = control_output['sentiment'].apply(lambda x: 'positive' if x > 0 else ('neutral' if x == 0 else 'negative'))\n"
          ]
        }
      ]
    },
    {
      "cell_type": "code",
      "source": [
        "import matplotlib.pyplot as plt\n",
        "import numpy as np\n",
        "\n",
        "# Function to display a bar chart of percentages\n",
        "def plot_percentage_comparison(data_control, data_patients, title):\n",
        "    categories = data_control.index\n",
        "\n",
        "    fig, ax = plt.subplots(figsize=(10, 6))\n",
        "\n",
        "    bar_width = 0.35\n",
        "    opacity = 0.8\n",
        "\n",
        "    # Convert values to float numbers\n",
        "    data_control = data_control.astype(float)\n",
        "    data_patients = data_patients.astype(float)\n",
        "\n",
        "    # Positions of bars for the control group\n",
        "    positions_control = np.arange(len(categories))\n",
        "\n",
        "    # Positions of bars for the patients group (shifted)\n",
        "    positions_patients = positions_control + bar_width\n",
        "\n",
        "    rects1 = ax.bar(positions_control, data_control, bar_width, alpha=opacity, color='b', label='Contrôle')\n",
        "    rects2 = ax.bar(positions_patients, data_patients.tolist(), bar_width, alpha=opacity, color='r', label='Patient')\n",
        "\n",
        "    ax.set_xlabel('Categories')\n",
        "    ax.set_ylabel('Percentage')\n",
        "    ax.set_title(title)\n",
        "    ax.set_xticks(positions_control + bar_width/2)\n",
        "    ax.set_xticklabels(categories)\n",
        "    ax.legend()\n",
        "\n",
        "    plt.show()\n",
        "\n",
        "# Display a comparison chart of percentages for the control group and the patient group\n",
        "plot_percentage_comparison(prediction_counts_control, prediction_counts_patient, \"Comparison of Prediction Percentages\")\n"
      ],
      "metadata": {
        "colab": {
          "base_uri": "https://localhost:8080/",
          "height": 564
        },
        "id": "7YJYdEviCoLv",
        "outputId": "0fe8e152-6a58-4a8f-d319-5a39b5116869"
      },
      "execution_count": 33,
      "outputs": [
        {
          "output_type": "display_data",
          "data": {
            "text/plain": [
              "<Figure size 1000x600 with 1 Axes>"
            ],
            "image/png": "[encoded data removed]"
          },
          "metadata": {}
        }
      ]
    },
    {
      "cell_type": "markdown",
      "source": [
        "**Model Evaluation Interpretation**:\n",
        "The confusion matrix is a tabular representation of the model's results. Each column in the matrix represents the number of instances predicted in a class, while each row represents the number of instances in an actual class. In this case:\n",
        "\n",
        "For the actual 'negative' class:\n",
        "    The model correctly predicted 691 instances as 'negative' (True Negatives).\n",
        "    The model predicted 3247 instances of 'negative' as 'neutral' (False Positives).\n",
        "    The model predicted 217 instances of 'negative' as 'positive' (False Positives).\n",
        "\n",
        "For the actual 'neutral' class:\n",
        "    The model predicted 16 instances of 'neutral' as 'negative' (False Negatives).\n",
        "    The model correctly predicted 19590 instances as 'neutral' (True Positives).\n",
        "    The model predicted 21 instances of 'neutral' as 'positive' (False Positives).\n",
        "\n",
        "For the actual 'positive' class:\n",
        "    The model predicted 132 instances of 'positive' as 'negative' (False Negatives).\n",
        "    The model predicted 4608 instances of 'positive' as 'neutral' (False Negatives).\n",
        "    The model correctly predicted 1865 instances as 'positive' (True Positives).\n",
        "\n",
        "\n",
        "Classification :\n",
        "\n",
        "yaml\n",
        "\n",
        "              precision    recall  f1-score   support\n",
        "    negative       0.82      0.17      0.28      4155\n",
        "     neutral       0.71      1.00      0.83     19627\n",
        "    positive       0.89      0.28      0.43      6605\n",
        "\n",
        "   Precision: The proportion of instances correctly predicted among all instances predicted for a given class. For example, for the 'negative' class, 82% of instances predicted as 'negative' are actually 'negative'.\n",
        "\n",
        "Recall: The proportion of instances correctly predicted among all actual instances of the class. For example, for the 'neutral' class, 100% of actual 'neutral' instances were correctly predicted.\n",
        "\n",
        "F1-score: The weighted average of precision and recall. It is an overall measure of the model's performance.\n",
        "\n",
        "Support: The total number of instances for each class.\n",
        "\n",
        "Overall averages :\n",
        "\n",
        "markdown\n",
        "\n",
        "    accuracy                           0.73     30387\n",
        "   macro avg       0.81      0.48      0.51     30387\n",
        "weighted avg       0.77      0.73      0.67     30387\n",
        "\n",
        "    Overall accuracy: The proportion of correctly predicted instances among all instances. In this case, 72.88% of the model's predictions are correct.\n",
        "\n",
        "    Overall accuracy (precision): Proportion of correctly predicted instances among all instances. In this case, 72.88% of the model's predictions are correct.\n",
        "\n",
        "Macro avg: The unweighted average of metrics per class.\n",
        "\n",
        "Weighted avg: The weighted average of metrics per class, weighted by the number of instances in each class.\n",
        "\n",
        "\n",
        "In summary, the model appears to have high precision for the 'neutral' class, but it struggles to predict 'negative' and 'positive' classes accurately. The low precision for 'negative' is likely due to a large number of false positives, while the low precision for 'positive' is due to a large number of false negatives. Further exploration can be conducted to understand the specific reasons for these errors and improve the model accordingly."
      ],
      "metadata": {
        "id": "iZh3RjPONzU3"
      }
    },
    {
      "cell_type": "code",
      "source": [],
      "metadata": {
        "id": "92Uz_vO3N24k"
      },
      "execution_count": 33,
      "outputs": []
    }
  ]
}